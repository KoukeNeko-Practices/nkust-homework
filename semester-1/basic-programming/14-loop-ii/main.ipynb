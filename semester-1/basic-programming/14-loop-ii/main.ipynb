{
 "cells": [
  {
   "cell_type": "markdown",
   "metadata": {},
   "source": [
    "# 迴圈 (loop) 跳出\n",
    "\n",
    "- `break`: 跳出\n",
    "- `continue`: 跳過"
   ]
  },
  {
   "cell_type": "code",
   "execution_count": null,
   "metadata": {},
   "outputs": [
    {
     "ename": "",
     "evalue": "",
     "output_type": "error",
     "traceback": [
      "\u001b[1;31mFailed to start the Kernel. \n",
      "\u001b[1;31mJupyter server crashed. Unable to connect. \n",
      "\u001b[1;31mError code from Jupyter: 127\n",
      "\u001b[1;31mpyenv: jupyter-notebook: command not found\n",
      "\u001b[1;31m\n",
      "\u001b[1;31m\n",
      "\u001b[1;31mThe `jupyter-notebook' command exists in these Python versions:\n",
      "\u001b[1;31m\n",
      "\u001b[1;31m  3.11.0b5\n",
      "\u001b[1;31m  pypy3.7-7.3.9\n",
      "\u001b[1;31m\n",
      "\u001b[1;31m\n",
      "\u001b[1;31m\n",
      "\u001b[1;31mNote: See 'pyenv help global' for tips on allowing both\n",
      "\u001b[1;31m      python2 and python3 to be found. \n",
      "\u001b[1;31mView Jupyter <a href='command:jupyter.viewOutput'>log</a> for further details."
     ]
    }
   ],
   "source": [
    "for i in range(1, 11):\n",
    "    if i == 4: break\n",
    "    print(i, end=\" \")\n",
    "print(\"break\")"
   ]
  },
  {
   "cell_type": "code",
   "execution_count": null,
   "metadata": {},
   "outputs": [
    {
     "ename": "",
     "evalue": "",
     "output_type": "error",
     "traceback": [
      "\u001b[1;31mFailed to start the Kernel. \n",
      "\u001b[1;31mJupyter server crashed. Unable to connect. \n",
      "\u001b[1;31mError code from Jupyter: 127\n",
      "\u001b[1;31mpyenv: jupyter-notebook: command not found\n",
      "\u001b[1;31m\n",
      "\u001b[1;31m\n",
      "\u001b[1;31mThe `jupyter-notebook' command exists in these Python versions:\n",
      "\u001b[1;31m\n",
      "\u001b[1;31m  3.11.0b5\n",
      "\u001b[1;31m  pypy3.7-7.3.9\n",
      "\u001b[1;31m\n",
      "\u001b[1;31m\n",
      "\u001b[1;31m\n",
      "\u001b[1;31mNote: See 'pyenv help global' for tips on allowing both\n",
      "\u001b[1;31m      python2 and python3 to be found. \n",
      "\u001b[1;31mView Jupyter <a href='command:jupyter.viewOutput'>log</a> for further details."
     ]
    }
   ],
   "source": [
    "for i in range(1, 11):\n",
    "    if i == 4: continue\n",
    "    print(i, end=\" \")\n",
    "print(\"break\")"
   ]
  }
 ],
 "metadata": {
  "file_extension": ".py",
  "kernelspec": {
   "display_name": "Python 3",
   "language": "python",
   "name": "python3"
  },
  "language_info": {
   "codemirror_mode": {
    "name": "ipython",
    "version": 3
   },
   "name": "python",
   "version": "3.12.0a1 (main, Nov 18 2022, 10:04:32) [Clang 14.0.0 (clang-1400.0.29.202)]"
  },
  "mimetype": "text/x-python",
  "name": "python",
  "npconvert_exporter": "python",
  "orig_nbformat": 2,
  "pygments_lexer": "ipython3",
  "version": 3,
  "vscode": {
   "interpreter": {
    "hash": "f3298797106fb0aa302a37cdaf8de55a513f31998da42d85498c97e380794187"
   }
  }
 },
 "nbformat": 4,
 "nbformat_minor": 2
}
