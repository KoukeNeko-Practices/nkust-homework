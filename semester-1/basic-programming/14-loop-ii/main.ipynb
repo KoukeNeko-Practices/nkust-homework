{
 "cells": [
  {
   "cell_type": "markdown",
   "metadata": {},
   "source": [
    "# 迴圈 (loop) 跳出\n",
    "\n",
    "- `break`: 跳出\n",
    "- `continue`: 跳過"
   ]
  },
  {
   "cell_type": "code",
   "execution_count": 1,
   "metadata": {},
   "outputs": [
    {
     "name": "stdout",
     "output_type": "stream",
     "text": [
      "1 2 3 break\n"
     ]
    }
   ],
   "source": [
    "for i in range(1, 11):\n",
    "    if i == 4: break\n",
    "    print(i, end=\" \")\n",
    "print(\"break\")"
   ]
  },
  {
   "cell_type": "code",
   "execution_count": 2,
   "metadata": {},
   "outputs": [
    {
     "name": "stdout",
     "output_type": "stream",
     "text": [
      "1 2 3 5 6 7 8 9 10 break\n"
     ]
    }
   ],
   "source": [
    "for i in range(1, 11):\n",
    "    if i == 4: continue\n",
    "    print(i, end=\" \")\n",
    "print(\"break\")"
   ]
  }
 ],
 "metadata": {
  "file_extension": ".py",
  "kernelspec": {
   "display_name": "Python 3.11.0 64-bit ('3.11.0')",
   "language": "python",
   "name": "python3"
  },
  "language_info": {
   "codemirror_mode": {
    "name": "ipython",
    "version": 3
   },
   "file_extension": ".py",
   "mimetype": "text/x-python",
   "name": "python",
   "nbconvert_exporter": "python",
   "pygments_lexer": "ipython3",
   "version": "3.11.0"
  },
  "mimetype": "text/x-python",
  "name": "python",
  "npconvert_exporter": "python",
  "orig_nbformat": 2,
  "pygments_lexer": "ipython3",
  "version": 3,
  "vscode": {
   "interpreter": {
    "hash": "434c48eb33f3035c2bc7ac5821eeed91fc4329cf70a74c45c510d3afe1b4a362"
   }
  }
 },
 "nbformat": 4,
 "nbformat_minor": 2
}
