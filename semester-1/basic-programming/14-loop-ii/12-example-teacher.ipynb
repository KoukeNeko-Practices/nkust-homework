{
 "cells": [
  {
   "cell_type": "markdown",
   "metadata": {},
   "source": [
    "1. 計算 $1 \\times 1+2 \\times 2+\\dots+n \\times n$\n",
    "\n",
    "- 判斷 n 要介於 1-1000 之間"
   ]
  },
  {
   "cell_type": "code",
   "execution_count": null,
   "metadata": {},
   "outputs": [
    {
     "ename": "",
     "evalue": "",
     "output_type": "error",
     "traceback": [
      "\u001b[1;31mFailed to start the Kernel. \n",
      "\u001b[1;31mThe Jupyter notebook server failed to launch in time\n",
      "\u001b[1;31m/Users/pan93412/.pyenv/versions/3.11.0b5/lib/python3.11/site-packages/traitlets/traitlets.py:2392: FutureWarning: Supporting extra quotes around strings is deprecated in traitlets 5.0. You can use '/Volumes/Dev/Homeworks/nkust-homework' instead of '\"/Volumes/Dev/Homeworks/nkust-homework\"' if you require traitlets >=5.\n",
      "\u001b[1;31m  warn(\n",
      "\u001b[1;31m\n",
      "\u001b[1;31m[I 10:40:46.692 NotebookApp] Serving notebooks from local directory: /Volumes/Dev/Homeworks/nkust-homework\n",
      "\u001b[1;31m\n",
      "\u001b[1;31m[I 10:40:46.692 NotebookApp] Jupyter Notebook 6.4.12 is running at:\n",
      "\u001b[1;31m\n",
      "\u001b[1;31m[I 10:40:46.692 NotebookApp] http://localhost:8888/?token=dc338e0ba9d609e2a32c6fdb27c05837c31836fecce3c167\n",
      "\u001b[1;31m\n",
      "\u001b[1;31m[I 10:40:46.692 NotebookApp]  or http://127.0.0.1:8888/?token=dc338e0ba9d609e2a32c6fdb27c05837c31836fecce3c167\n",
      "\u001b[1;31m\n",
      "\u001b[1;31m[I 10:40:46.692 NotebookApp] Use Control-C to stop this server and shut down all kernels (twice to skip confirmation).\n",
      "\u001b[1;31m\n",
      "\u001b[1;31m[C 10:40:46.695 NotebookApp] \n",
      "\u001b[1;31m    \n",
      "\u001b[1;31m    To access the notebook, open this file in a browser:\n",
      "\u001b[1;31m        file:///Users/pan93412/Library/Jupyter/runtime/nbserver-58454-open.html\n",
      "\u001b[1;31m    Or copy and paste one of these URLs:\n",
      "\u001b[1;31m        http://localhost:8888/?token=dc338e0ba9d609e2a32c6fdb27c05837c31836fecce3c167\n",
      "\u001b[1;31m     or http://127.0.0.1:8888/?token=dc338e0ba9d609e2a32c6fdb27c05837c31836fecce3c167. \n",
      "\u001b[1;31mView Jupyter <a href='command:jupyter.viewOutput'>log</a> for further details."
     ]
    }
   ],
   "source": [
    "summed_answer = 0\n",
    "n = int(input(\"請輸入一個正整數：\"))\n",
    "\n",
    "if 1 <= n <= 1000:\n",
    "    for i in range(n + 1):\n",
    "        summed_answer += i * i\n",
    "    print(\"1*1+2*2+…+%d*%d=%d\" % (n, n, summed_answer))\n",
    "else:\n",
    "    print(\"輸入範圍超出題目要求\")"
   ]
  },
  {
   "cell_type": "markdown",
   "metadata": {},
   "source": [
    "2. 求階層 $1! + 2! + 3! + \\dots + n!$"
   ]
  },
  {
   "cell_type": "code",
   "execution_count": null,
   "metadata": {},
   "outputs": [
    {
     "ename": "",
     "evalue": "",
     "output_type": "error",
     "traceback": [
      "\u001b[1;31mFailed to start the Kernel. \n",
      "\u001b[1;31mJupyter server crashed. Unable to connect. \n",
      "\u001b[1;31mError code from Jupyter: 127\n",
      "\u001b[1;31mpyenv: jupyter-notebook: command not found\n",
      "\u001b[1;31m\n",
      "\u001b[1;31m\n",
      "\u001b[1;31mThe `jupyter-notebook' command exists in these Python versions:\n",
      "\u001b[1;31m\n",
      "\u001b[1;31m  3.11.0b5\n",
      "\u001b[1;31m  pypy3.7-7.3.9\n",
      "\u001b[1;31m\n",
      "\u001b[1;31m\n",
      "\u001b[1;31mNote: See 'pyenv help global' for tips on allowing both\n",
      "\u001b[1;31m\n",
      "\u001b[1;31m      python2 and python3 to be found. \n",
      "\u001b[1;31mView Jupyter <a href='command:jupyter.viewOutput'>log</a> for further details."
     ]
    }
   ],
   "source": [
    "summed_answer = 0\n",
    "n1 = 1\n",
    "n = int(input(\"請輸入一個正整數 n：\"))\n",
    "\n",
    "if 1 <= n <= 1000:\n",
    "    for i in range(1, n + 1):\n",
    "        for j in range(1, n + 1):\n",
    "            n1 *= j\n",
    "    summed_answer += n1\n",
    "    n1 = 1\n",
    "print(\"1!+2!+…+%d!=%d\" % (n, summed_answer))\n"
   ]
  }
 ],
 "metadata": {
  "file_extension": ".py",
  "kernelspec": {
   "display_name": "Python 3",
   "language": "python",
   "name": "python3"
  },
  "language_info": {
   "codemirror_mode": {
    "name": "ipython",
    "version": 3
   },
   "name": "python",
   "version": "3.12.0a1 (main, Nov 18 2022, 10:04:32) [Clang 14.0.0 (clang-1400.0.29.202)]"
  },
  "mimetype": "text/x-python",
  "name": "python",
  "npconvert_exporter": "python",
  "orig_nbformat": 2,
  "pygments_lexer": "ipython3",
  "version": 3,
  "vscode": {
   "interpreter": {
    "hash": "f3298797106fb0aa302a37cdaf8de55a513f31998da42d85498c97e380794187"
   }
  }
 },
 "nbformat": 4,
 "nbformat_minor": 2
}
