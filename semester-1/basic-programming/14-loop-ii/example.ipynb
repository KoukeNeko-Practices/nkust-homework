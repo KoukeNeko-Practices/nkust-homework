{
 "cells": [
  {
   "cell_type": "markdown",
   "metadata": {},
   "source": [
    "# 題目\n",
    "\n",
    "給定兩個值 $i$ 和 $j$，輸出直到 $i$，且不是 $j$ 的倍數的值。\n",
    "\n",
    "## 範例輸入\n",
    "\n",
    "```plain\n",
    "到：20\n",
    "要排除倍數：2\n",
    "```\n",
    "\n",
    "## 範例輸出\n",
    "\n",
    "```plain\n",
    "1 3 5 7 9 11 13 15 17 19\n",
    "```"
   ]
  },
  {
   "cell_type": "code",
   "execution_count": null,
   "metadata": {},
   "outputs": [
    {
     "ename": "",
     "evalue": "",
     "output_type": "error",
     "traceback": [
      "\u001b[1;31mFailed to start the Kernel. \n",
      "\u001b[1;31mThe Jupyter notebook server failed to launch in time\n",
      "\u001b[1;31m/Users/pan93412/.pyenv/versions/pypy3.7-7.3.9/site-packages/traitlets/traitlets.py:2415: FutureWarning: Supporting extra quotes around strings is deprecated in traitlets 5.0. You can use '/Volumes/Dev/Homeworks/nkust-homework/semester-1/basic-programming/14-loop-ii' instead of '\"/Volumes/Dev/Homeworks/nkust-homework/semester-1/basic-programming/14-loop-ii\"' if you require traitlets >=5.\n",
      "\u001b[1;31m  FutureWarning,\n",
      "\u001b[1;31m\n",
      "\u001b[1;31m[I 11:07:34.997 NotebookApp] The port 8888 is already in use, trying another port.\n",
      "\u001b[1;31m\n",
      "\u001b[1;31m[I 11:07:34.999 NotebookApp] Serving notebooks from local directory: /Volumes/Dev/Homeworks/nkust-homework/semester-1/basic-programming/14-loop-ii\n",
      "\u001b[1;31m\n",
      "\u001b[1;31m[I 11:07:34.999 NotebookApp] Jupyter Notebook 6.5.2 is running at:\n",
      "\u001b[1;31m[I 11:07:34.999 NotebookApp] http://localhost:8889/?token=fc7bb47d2a09001b541e285e6444bac0457cc1d04881eff4\n",
      "\u001b[1;31m\n",
      "\u001b[1;31m[I 11:07:34.999 NotebookApp]  or http://127.0.0.1:8889/?token=fc7bb47d2a09001b541e285e6444bac0457cc1d04881eff4\n",
      "\u001b[1;31m[I 11:07:34.999 NotebookApp] Use Control-C to stop this server and shut down all kernels (twice to skip confirmation).\n",
      "\u001b[1;31m\n",
      "\u001b[1;31m[C 11:07:35.008 NotebookApp] \n",
      "\u001b[1;31m    \n",
      "\u001b[1;31m    To access the notebook, open this file in a browser:\n",
      "\u001b[1;31m        file:///Users/pan93412/Library/Jupyter/runtime/nbserver-93367-open.html\n",
      "\u001b[1;31m    Or copy and paste one of these URLs:\n",
      "\u001b[1;31m        http://localhost:8889/?token=fc7bb47d2a09001b541e285e6444bac0457cc1d04881eff4\n",
      "\u001b[1;31m     or http://127.0.0.1:8889/?token=fc7bb47d2a09001b541e285e6444bac0457cc1d04881eff4. \n",
      "\u001b[1;31mView Jupyter <a href='command:jupyter.viewOutput'>log</a> for further details."
     ]
    }
   ],
   "source": [
    "i = int(input(\"到：\"))\n",
    "j = int(input(\"要排除倍數：\"))\n",
    "\n",
    "for i in range(1, i + 1):\n",
    "    if i % j == 0: continue\n",
    "    print(i, end=\" \")\n"
   ]
  }
 ],
 "metadata": {
  "kernelspec": {
   "display_name": "Python 3",
   "language": "python",
   "name": "python3"
  },
  "language_info": {
   "name": "python",
   "version": "3.7.13 (7e0ae751533460d5f89f3ac48ce366d8642d1db5, Mar 29 2022, 06:30:54)\n[PyPy 7.3.9 with GCC Apple LLVM 13.0.0 (clang-1300.0.29.30)]"
  },
  "orig_nbformat": 4,
  "vscode": {
   "interpreter": {
    "hash": "d65f5fbe4938e4499fff552b8601f0c610a4de07a84c43b8b48d5dfabe9f4f03"
   }
  }
 },
 "nbformat": 4,
 "nbformat_minor": 2
}
