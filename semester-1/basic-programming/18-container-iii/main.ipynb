{
 "cells": [
  {
   "attachments": {},
   "cell_type": "markdown",
   "metadata": {},
   "source": [
    "# dict (字典, dictionary)"
   ]
  },
  {
   "cell_type": "markdown",
   "metadata": {},
   "source": [
    "## `items()`"
   ]
  },
  {
   "cell_type": "code",
   "execution_count": 1,
   "metadata": {},
   "outputs": [
    {
     "name": "stdout",
     "output_type": "stream",
     "text": [
      "得到的金牌數量有  26 面\n",
      "得到的銀牌數量有  34 面\n",
      "得到的銅牌數量有  20 面\n"
     ]
    }
   ],
   "source": [
    "dic1 = {\n",
    "    \"金牌\": 26,\n",
    "    \"銀牌\": 34,\n",
    "    \"銅牌\": 20\n",
    "}\n",
    "\n",
    "item1 = list(dic1.items())\n",
    "\n",
    "for name, num in item1:\n",
    "    print(\"得到的%s數量有 % 3d 面\" % (name, num))"
   ]
  },
  {
   "attachments": {},
   "cell_type": "markdown",
   "metadata": {},
   "source": [
    "# set (集合)"
   ]
  },
  {
   "cell_type": "code",
   "execution_count": 2,
   "metadata": {},
   "outputs": [],
   "source": [
    "s = {1, 2, 3, 4}\n",
    "s2 = set(('a', 1, True))\n",
    "assert { 'apple', 'banana', 'apple','apple', 'banana', 'apple' } == { 'apple', 'banana' }\n",
    "assert { 'apple', 'banana', 'apples', 'apple', 'banana', 'apples' } == { 'apple', 'banana', 'apples' }"
   ]
  },
  {
   "attachments": {},
   "cell_type": "markdown",
   "metadata": {},
   "source": [
    "## Add and Remove"
   ]
  },
  {
   "cell_type": "code",
   "execution_count": 3,
   "metadata": {},
   "outputs": [
    {
     "name": "stdout",
     "output_type": "stream",
     "text": [
      "{'lion'}\n"
     ]
    }
   ],
   "source": [
    "s5 = {'tiger'}\n",
    "s5.add('lion')\n",
    "s5.remove('tiger')\n",
    "print(s5)"
   ]
  },
  {
   "cell_type": "code",
   "execution_count": 4,
   "metadata": {},
   "outputs": [
    {
     "name": "stdout",
     "output_type": "stream",
     "text": [
      "['lion']\n"
     ]
    }
   ],
   "source": [
    "s6 = list(s5)\n",
    "print(s6)"
   ]
  },
  {
   "attachments": {},
   "cell_type": "markdown",
   "metadata": {},
   "source": [
    "## 運算"
   ]
  },
  {
   "cell_type": "code",
   "execution_count": 5,
   "metadata": {},
   "outputs": [
    {
     "name": "stdout",
     "output_type": "stream",
     "text": [
      "{'1', '4', '3', '2'} {'5', '4', '7', '6'}\n"
     ]
    }
   ],
   "source": [
    "a = set('1234')\n",
    "b = set('4567')\n",
    "\n",
    "print(a, b)  # set 無序！\n",
    "assert a.intersection(b) == {'4'}\n",
    "assert a.union(b) == {'1', '2', '3', '4', '5', '6', '7'}"
   ]
  },
  {
   "cell_type": "code",
   "execution_count": 6,
   "metadata": {},
   "outputs": [
    {
     "name": "stdout",
     "output_type": "stream",
     "text": [
      "a | b = {'1', '7', '6', '4', '5', '3', '2'}\n",
      "a & b = {'4'}\n",
      "a - b = {'1', '3', '2'}\n",
      "b - a = {'5', '7', '6'}\n"
     ]
    }
   ],
   "source": [
    "print(f\"{a | b = }\")\n",
    "print(f\"{a & b = }\")\n",
    "print(f\"{a - b = }\")\n",
    "print(f\"{b - a = }\")"
   ]
  },
  {
   "attachments": {},
   "cell_type": "markdown",
   "metadata": {},
   "source": [
    "## 集合特殊運算子\n",
    "\n",
    "- 包含於 ($\\subseteq$): `<=`\n",
    "- 包含 ($\\supseteq$): `>=`\n",
    "- 真包含於 ($\\subset$): `<`\n",
    "- 真包含 ($\\supset$): `>`"
   ]
  },
  {
   "cell_type": "code",
   "execution_count": 7,
   "metadata": {},
   "outputs": [
    {
     "name": "stdout",
     "output_type": "stream",
     "text": [
      "a1 <= b1 = True\n",
      "a1 < b1 = True\n",
      "a1 >= b1 = False\n",
      "a1 > b1 = False\n"
     ]
    }
   ],
   "source": [
    "a1 = set('tiger')\n",
    "b1 = set('tigers')\n",
    "\n",
    "print(f\"{a1 <= b1 = }\")\n",
    "print(f\"{a1 < b1 = }\")\n",
    "print(f\"{a1 >= b1 = }\")\n",
    "print(f\"{a1 > b1 = }\")"
   ]
  },
  {
   "cell_type": "code",
   "execution_count": 8,
   "metadata": {},
   "outputs": [
    {
     "name": "stdout",
     "output_type": "stream",
     "text": [
      "a2 <= b2 = True\n",
      "a2 < b2 = False\n",
      "a2 >= b2 = True\n",
      "a2 > b2 = False\n"
     ]
    }
   ],
   "source": [
    "a2 = set('tigers')\n",
    "b2 = set('tigers')\n",
    "\n",
    "print(f\"{a2 <= b2 = }\")\n",
    "print(f\"{a2 < b2 = }\")\n",
    "print(f\"{a2 >= b2 = }\")\n",
    "print(f\"{a2 > b2 = }\")"
   ]
  }
 ],
 "metadata": {
  "kernelspec": {
   "display_name": "Python 3.11.0 64-bit ('3.11.0')",
   "language": "python",
   "name": "python3"
  },
  "language_info": {
   "codemirror_mode": {
    "name": "ipython",
    "version": 3
   },
   "file_extension": ".py",
   "mimetype": "text/x-python",
   "name": "python",
   "nbconvert_exporter": "python",
   "pygments_lexer": "ipython3",
   "version": "3.11.0"
  },
  "orig_nbformat": 4,
  "vscode": {
   "interpreter": {
    "hash": "434c48eb33f3035c2bc7ac5821eeed91fc4329cf70a74c45c510d3afe1b4a362"
   }
  }
 },
 "nbformat": 4,
 "nbformat_minor": 2
}
