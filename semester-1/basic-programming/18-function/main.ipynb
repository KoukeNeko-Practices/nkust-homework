{
 "cells": [
  {
   "attachments": {},
   "cell_type": "markdown",
   "metadata": {},
   "source": [
    "## 自訂函數\n",
    "\n",
    "```\n",
    "def 函數名稱([參數1[, 參數2[, …]]]):\n",
    "    函數內容\n",
    "    [return 回傳值1[, 回傳值2[, ...]]\n",
    "```"
   ]
  },
  {
   "cell_type": "code",
   "execution_count": 1,
   "metadata": {},
   "outputs": [
    {
     "name": "stdout",
     "output_type": "stream",
     "text": [
      "歡迎光臨！\n"
     ]
    }
   ],
   "source": [
    "def sayhello():\n",
    "    print(\"歡迎光臨！\")\n",
    "\n",
    "sayhello()"
   ]
  },
  {
   "cell_type": "code",
   "execution_count": 2,
   "metadata": {},
   "outputs": [
    {
     "name": "stdout",
     "output_type": "stream",
     "text": [
      "1\n"
     ]
    }
   ],
   "source": [
    "def mymin(a, b):\n",
    "    if a > b:\n",
    "        return b\n",
    "    else:\n",
    "        return a\n",
    "\n",
    "print(mymin(1,4))"
   ]
  },
  {
   "cell_type": "code",
   "execution_count": 3,
   "metadata": {},
   "outputs": [
    {
     "name": "stdout",
     "output_type": "stream",
     "text": [
      "20\n"
     ]
    }
   ],
   "source": [
    "def getarea(w, h):\n",
    "    area = w * h\n",
    "    return area\n",
    "\n",
    "print(getarea(5, 4))"
   ]
  },
  {
   "cell_type": "code",
   "execution_count": 4,
   "metadata": {},
   "outputs": [
    {
     "name": "stdout",
     "output_type": "stream",
     "text": [
      "getarea(5) = 60\n",
      "getarea(5, 24) = 120\n"
     ]
    }
   ],
   "source": [
    "# 12 是初始值\n",
    "def getarea(w, h = 12):\n",
    "    area = w * h\n",
    "    return area\n",
    "\n",
    "print(f\"{getarea(5) = }\")\n",
    "print(f\"{getarea(5, 24) = }\")"
   ]
  },
  {
   "attachments": {},
   "cell_type": "markdown",
   "metadata": {},
   "source": [
    "預設參數不可以放在必要參數前面，否則會出現語法錯誤：\n",
    "\n",
    "```python\n",
    "def getarea(w=3, h): pass # SyntaxError\n",
    "```"
   ]
  },
  {
   "attachments": {},
   "cell_type": "markdown",
   "metadata": {},
   "source": [
    "## 區域 / 全域變數"
   ]
  },
  {
   "cell_type": "code",
   "execution_count": 5,
   "metadata": {},
   "outputs": [
    {
     "name": "stdout",
     "output_type": "stream",
     "text": [
      "1 1919810\n",
      "114514 1919810\n"
     ]
    }
   ],
   "source": [
    "def scoped_function():\n",
    "    v1 = 1\n",
    "    print(v1, v2)\n",
    "\n",
    "v1 = 114514\n",
    "v2 = 1919810\n",
    "scoped_function()\n",
    "print(v1, v2)"
   ]
  },
  {
   "cell_type": "code",
   "execution_count": 6,
   "metadata": {},
   "outputs": [
    {
     "name": "stdout",
     "output_type": "stream",
     "text": [
      "1 2\n",
      "1 20\n"
     ]
    }
   ],
   "source": [
    "# 作用域提升\n",
    "\n",
    "def globalized_scoped_function():\n",
    "    global var1\n",
    "    var1 = 1\n",
    "    var2 = 2\n",
    "    print(var1, var2)\n",
    "\n",
    "var1 = 10\n",
    "var2 = 20\n",
    "globalized_scoped_function()\n",
    "print(var1, var2)"
   ]
  },
  {
   "cell_type": "code",
   "execution_count": 7,
   "metadata": {},
   "outputs": [
    {
     "name": "stdout",
     "output_type": "stream",
     "text": [
      "10\n",
      "5\n"
     ]
    }
   ],
   "source": [
    "g = 5\n",
    "def f2() -> None:\n",
    "    g = 10\n",
    "    print(g)\n",
    "    \n",
    "f2()\n",
    "print(g)"
   ]
  },
  {
   "cell_type": "code",
   "execution_count": 8,
   "metadata": {},
   "outputs": [
    {
     "name": "stdout",
     "output_type": "stream",
     "text": [
      "g 未定義\n",
      "5\n"
     ]
    }
   ],
   "source": [
    "g = 5\n",
    "def f2() -> None:\n",
    "    try:\n",
    "        print(g)  # type: ignore\n",
    "    except UnboundLocalError:\n",
    "        print(\"g 未定義\")\n",
    "    g = 10\n",
    "    \n",
    "f2()\n",
    "print(g)"
   ]
  },
  {
   "attachments": {},
   "cell_type": "markdown",
   "metadata": {},
   "source": [
    "# lambda 函數\n",
    "\n",
    "```py\n",
    "lambda 參數清單_PARAMETER_LIST: 運算式_EXPRESSION\n",
    "```"
   ]
  },
  {
   "cell_type": "code",
   "execution_count": 9,
   "metadata": {},
   "outputs": [
    {
     "data": {
      "text/plain": [
       "144"
      ]
     },
     "execution_count": 9,
     "metadata": {},
     "output_type": "execute_result"
    }
   ],
   "source": [
    "def exp(x, y):\n",
    "    return x ** y\n",
    "\n",
    "exp(12, 2)"
   ]
  },
  {
   "cell_type": "code",
   "execution_count": 10,
   "metadata": {},
   "outputs": [
    {
     "data": {
      "text/plain": [
       "144"
      ]
     },
     "execution_count": 10,
     "metadata": {},
     "output_type": "execute_result"
    }
   ],
   "source": [
    "exp1 = lambda x, y: x ** y\n",
    "\n",
    "exp1(12, 2)"
   ]
  },
  {
   "cell_type": "code",
   "execution_count": 11,
   "metadata": {},
   "outputs": [
    {
     "name": "stdout",
     "output_type": "stream",
     "text": [
      "144\n"
     ]
    }
   ],
   "source": [
    "print((lambda x, y: x ** y)(12, 2))"
   ]
  },
  {
   "cell_type": "code",
   "execution_count": 12,
   "metadata": {},
   "outputs": [
    {
     "data": {
      "text/plain": [
       "1"
      ]
     },
     "execution_count": 12,
     "metadata": {},
     "output_type": "execute_result"
    }
   ],
   "source": [
    "def chop(x):\n",
    "    if x < 0.01:\n",
    "        return 0\n",
    "    else:\n",
    "        return x\n",
    "\n",
    "chop(0.001)\n",
    "chop(1)"
   ]
  },
  {
   "attachments": {},
   "cell_type": "markdown",
   "metadata": {},
   "source": [
    "1. `lambda` 不用定義名稱\n",
    "2. `lambda` 只能有一行運算式\n",
    "3. `lambda` 運算結束會自動回傳結果"
   ]
  }
 ],
 "metadata": {
  "kernelspec": {
   "display_name": "Python 3.11.0 64-bit ('3.11.0')",
   "language": "python",
   "name": "python3"
  },
  "language_info": {
   "codemirror_mode": {
    "name": "ipython",
    "version": 3
   },
   "file_extension": ".py",
   "mimetype": "text/x-python",
   "name": "python",
   "nbconvert_exporter": "python",
   "pygments_lexer": "ipython3",
   "version": "3.11.0 (main, Nov 25 2022, 09:36:52) [Clang 14.0.0 (clang-1400.0.29.202)]"
  },
  "orig_nbformat": 4,
  "vscode": {
   "interpreter": {
    "hash": "434c48eb33f3035c2bc7ac5821eeed91fc4329cf70a74c45c510d3afe1b4a362"
   }
  }
 },
 "nbformat": 4,
 "nbformat_minor": 2
}
