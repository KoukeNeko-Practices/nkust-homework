{
 "cells": [
  {
   "cell_type": "markdown",
   "metadata": {},
   "source": [
    "# Question 1\n",
    "\n",
    "![Q1](./q1.jpeg)\n"
   ]
  },
  {
   "cell_type": "code",
   "execution_count": 1,
   "metadata": {},
   "outputs": [
    {
     "name": "stdout",
     "output_type": "stream",
     "text": [
      "BMI 為 25.95155709342561\n",
      "體重過重\n"
     ]
    }
   ],
   "source": [
    "Kilogram = float\n",
    "Meter = float\n",
    "\n",
    "# mof = match the output format\n",
    "\n",
    "weight = Kilogram(input(\" 請輸入體重(KG) ？ \"))\n",
    "print()\n",
    "height = Meter(input(\" 請輸入身高(M) ？ \"))\n",
    "\n",
    "bmi = weight / (height * height)\n",
    "print(f\"BMI 為 {bmi}\")\n",
    "\n",
    "if bmi < 18:\n",
    "    print(\" 體重過輕\")\n",
    "elif 18 <= bmi < 24:\n",
    "    print(\" 體重正常\")\n",
    "elif 24 <= bmi < 27:\n",
    "    print(\" 體重過重\")\n",
    "elif 27 <= bmi:\n",
    "    print(\" 體重肥胖\")\n",
    "else:\n",
    "    raise Exception(\"unreachable\")\n"
   ]
  },
  {
   "cell_type": "markdown",
   "metadata": {},
   "source": [
    "# Question 2\n",
    "\n",
    "![Question 2](q2.png)\n"
   ]
  },
  {
   "cell_type": "code",
   "execution_count": 8,
   "metadata": {},
   "outputs": [
    {
     "name": "stdout",
     "output_type": "stream",
     "text": [
      "1.6 心肺功能優異\n"
     ]
    }
   ],
   "source": [
    "# 這個 function 將 RI 變成區間，並取 t 之區間對應值。\n",
    "# [0 <= ri <= 5, 5 < ri <= 10, ...] 依此類推，共 5 個區間\n",
    "#\n",
    "# - 如果 t 是 None 則顯示 \"unimplemented!\"\n",
    "# - 如果 ri 不在範圍內（如負數）則顯示 \"invalid input?\"\n",
    "level_det = lambda t: \\\n",
    "    (lambda ri: \\\n",
    "        t[0] if 0 <= ri <= 5  else \\\n",
    "        t[1] if 5  < ri <= 10 else \\\n",
    "        t[2] if 10 < ri <= 15 else \\\n",
    "        t[3] if 15 < ri <= 20 else \\\n",
    "        t[4] if 20 < ri       else \\\n",
    "        \"ii?\") \\\n",
    "    if t is not None else lambda _: \"ui!\"\n",
    "\n",
    "# 區間顯示內容，for *_table\n",
    "s_perfect = \"心肺功能優異\"\n",
    "s_notbad = \"心肺功能一般\"\n",
    "s_notenough = \"心肺功能不足\"\n",
    "s_notgood = \"心肺功能不良\"\n",
    "s_urgent = \"立即就醫評估\"\n",
    "\n",
    "young_table = [s_perfect, s_notbad, s_notenough, s_notgood, s_urgent]\n",
    "elder_table = [s_perfect, s_perfect, s_notbad, s_notenough, s_urgent]\n",
    "\n",
    "age = int(input(\"輸入受試者年紀: \"))\n",
    "\n",
    "# DRY – 用 iterator 簡化輸入 P{t} 的程式碼。\n",
    "[p1, p2, p3] = (int(input(f\"輸入 P{t}: \")) for t in range(1, 4))\n",
    "\n",
    "ri = (p1 + p2 + p3 - 200) / 10\n",
    "\n",
    "# 輸出 Ruffier 指數\n",
    "print(f\"{ri} \", end = \"\")\n",
    "\n",
    "# FIXME: 小於 18 歲的 table\n",
    "print(level_det(young_table if 18 < age < 40 else elder_table if age >= 40 else None)(ri))\n"
   ]
  },
  {
   "cell_type": "markdown",
   "metadata": {},
   "source": [
    "# Question 3\n",
    "\n",
    "![Q3](q3.png)"
   ]
  },
  {
   "cell_type": "code",
   "execution_count": 9,
   "metadata": {},
   "outputs": [
    {
     "name": "stdout",
     "output_type": "stream",
     "text": [
      "34\n"
     ]
    }
   ],
   "source": [
    "t = (int(input(f\"請輸入 {s} 的值：\")) for s in [\"a\", \"b\", \"c\"])\n",
    "\n",
    "print(f\"最大值是 {max(t)}\")"
   ]
  },
  {
   "cell_type": "code",
   "execution_count": 2,
   "metadata": {},
   "outputs": [
    {
     "name": "stdout",
     "output_type": "stream",
     "text": [
      "最大值是 26\n"
     ]
    }
   ],
   "source": [
    "\"\"\"another solution based on teacher's, w/o max\"\"\"\n",
    "\n",
    "from typing import Optional\n",
    "\n",
    "\n",
    "max = None\n",
    "\n",
    "a = int(input(\"請輸入第一個數：\"))\n",
    "b = int(input(\"請輸入第二個數：\"))\n",
    "c = int(input(\"請輸入第三個數：\"))\n",
    "max_num: Optional[int] = None\n",
    "\n",
    "if a > b:\n",
    "    if a > c:\n",
    "        max_num = a\n",
    "    else:\n",
    "        max_num = c\n",
    "else:\n",
    "    if b > c:\n",
    "        max_num = b\n",
    "    else:\n",
    "        max_num = c\n",
    "\n",
    "print(f\"最大值是 {max_num}\")"
   ]
  },
  {
   "cell_type": "code",
   "execution_count": null,
   "metadata": {},
   "outputs": [
    {
     "name": "stdout",
     "output_type": "stream",
     "text": [
      "最大值是 26\n"
     ]
    }
   ],
   "source": [
    "\"\"\"another solution based on teacher's, w/o max\"\"\"\n",
    "\n",
    "from typing import Optional\n",
    "\n",
    "\n",
    "max = None\n",
    "\n",
    "a = int(input(\"請輸入第一個數：\"))\n",
    "b = int(input(\"請輸入第二個數：\"))\n",
    "c = int(input(\"請輸入第三個數：\"))\n",
    "max_num: Optional[int] = None\n",
    "\n",
    "if a > b:\n",
    "    if a > c:\n",
    "        max_num = a\n",
    "    else:\n",
    "        max_num = c\n",
    "else:\n",
    "    if b > c:\n",
    "        max_num = b\n",
    "    else:\n",
    "        max_num = c\n",
    "\n",
    "print(f\"最大值是 {max_num}\")"
   ]
  },
  {
   "cell_type": "code",
   "execution_count": 1,
   "metadata": {},
   "outputs": [
    {
     "name": "stdout",
     "output_type": "stream",
     "text": [
      "1919810\n"
     ]
    }
   ],
   "source": [
    "\"\"\"another solution based on iterator, python 3.8 needed\"\"\"\n",
    "\n",
    "a = int(input(\"請輸入第一個數：\"))\n",
    "b = int(input(\"請輸入第二個數：\"))\n",
    "c = int(input(\"請輸入第三個數：\"))\n",
    "\n",
    "max_value = -1\n",
    "reducer = lambda acc, val: val if val > acc else acc\n",
    "[max_value := reducer(max_value, i) for i in [a, b, c]]\n",
    "\n",
    "print(max_value)"
   ]
  },
  {
   "cell_type": "markdown",
   "metadata": {},
   "source": [
    "# Question 4\n",
    "\n",
    "![q4](q4.png)"
   ]
  },
  {
   "cell_type": "code",
   "execution_count": 11,
   "metadata": {},
   "outputs": [
    {
     "name": "stdout",
     "output_type": "stream",
     "text": [
      "所需郵資為70 元\n"
     ]
    }
   ],
   "source": [
    "Kg = float\n",
    "x = Kg(input(\"請輸入物品重量？ \"))\n",
    "\n",
    "if x > 20:\n",
    "    print(\"超過 20 公斤無法寄送\")\n",
    "else:\n",
    "    # ur = unreachable\n",
    "    print(\"所需郵資為{} 元\".format(\n",
    "        50 if x <= 5 else \\\n",
    "        70 if 5 < x <= 10 else \\\n",
    "        90 if 10 < x <= 15 else \\\n",
    "        110 if 15 < x <= 20 else \"ur\"\n",
    "    ))"
   ]
  },
  {
   "cell_type": "markdown",
   "metadata": {},
   "source": [
    "# Question 5\n",
    "\n",
    "![](q5.png)  "
   ]
  },
  {
   "cell_type": "code",
   "execution_count": 20,
   "metadata": {},
   "outputs": [
    {
     "name": "stdout",
     "output_type": "stream",
     "text": [
      "2016 是閏年\n"
     ]
    }
   ],
   "source": [
    "def is_leap(yr: int) -> bool:\n",
    "    multiple_of = lambda x: yr % x == 0\n",
    "\n",
    "    if not multiple_of(4): return False\n",
    "    if multiple_of(4) and not multiple_of(100): return True\n",
    "    if multiple_of(100) and not multiple_of(400): return False\n",
    "    if multiple_of(400): return True\n",
    "    \n",
    "    # Wrong input    \n",
    "    raise Exception(\"wi?\")\n",
    "\n",
    "yr = int(input(\"請輸入年份？\"))\n",
    "print(f\"{yr} {'不' if not is_leap(yr) else ''}是閏年\")\n"
   ]
  },
  {
   "cell_type": "code",
   "execution_count": 1,
   "metadata": {},
   "outputs": [
    {
     "name": "stdout",
     "output_type": "stream",
     "text": [
      "閏年\n"
     ]
    }
   ],
   "source": [
    "\"\"\"another solution from teacher\"\"\"\n",
    "\n",
    "year = int(input(\"請輸入年份（西元年）：\"))\n",
    "\n",
    "if year % 400 == 0:\n",
    "    print(\"閏年\")\n",
    "elif year % 100 == 0:\n",
    "    print(\"不是閏年\")\n",
    "elif year % 4 == 0:\n",
    "    print(\"閏年\")\n",
    "else:\n",
    "    print(\"不是閏年\")"
   ]
  },
  {
   "cell_type": "markdown",
   "metadata": {},
   "source": [
    "# Question 6\n",
    "\n",
    "![Question 6](q6.png)  "
   ]
  },
  {
   "cell_type": "code",
   "execution_count": 24,
   "metadata": {},
   "outputs": [
    {
     "name": "stdout",
     "output_type": "stream",
     "text": [
      "96000.0 元\n"
     ]
    }
   ],
   "source": [
    "money = int(input(\"請輸入購物金額：\"))\n",
    "discount = \\\n",
    "    0.8  if money >= 100000 else \\\n",
    "    0.85 if money >=  50000 else \\\n",
    "    0.9  if money >=  30000 else \\\n",
    "    0.95 if money >=  10000 else \\\n",
    "    1\n",
    "\n",
    "print(f\"{money * discount} 元\")\n",
    "    "
   ]
  }
 ],
 "metadata": {
  "kernelspec": {
   "display_name": "Python 3",
   "language": "python",
   "name": "python3"
  },
  "language_info": {
   "codemirror_mode": {
    "name": "ipython",
    "version": 3
   },
   "file_extension": ".py",
   "mimetype": "text/x-python",
   "name": "python",
   "nbconvert_exporter": "python",
   "pygments_lexer": "ipython3",
   "version": "3.9.12"
  },
  "orig_nbformat": 4,
  "vscode": {
   "interpreter": {
    "hash": "d8f42a0113d4421a65fa75b9f5508569f6947a6b9e32e4e86865a9182fb5201c"
   }
  }
 },
 "nbformat": 4,
 "nbformat_minor": 2
}
