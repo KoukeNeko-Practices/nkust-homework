{
 "cells": [
  {
   "cell_type": "markdown",
   "metadata": {},
   "source": [
    "# 判斷式 control\n"
   ]
  },
  {
   "cell_type": "markdown",
   "metadata": {},
   "source": [
    "## 單向判斷式\n",
    "\n",
    "```py\n",
    "if 條件式:\n",
    "    程式區塊\n",
    "```\n"
   ]
  },
  {
   "cell_type": "code",
   "execution_count": 1,
   "metadata": {},
   "outputs": [
    {
     "name": "stdout",
     "output_type": "stream",
     "text": [
      "PASS\n"
     ]
    }
   ],
   "source": [
    "\"\"\"範例 1：成績\"\"\"\n",
    "\n",
    "score = int(input(\"請輸入您的成績：\"))\n",
    "if score >= 60:\n",
    "    print(\"PASS\")\n"
   ]
  },
  {
   "cell_type": "code",
   "execution_count": 3,
   "metadata": {},
   "outputs": [
    {
     "name": "stdout",
     "output_type": "stream",
     "text": [
      "密碼正確\n"
     ]
    }
   ],
   "source": [
    "\"\"\"範例 2：密碼\"\"\"\n",
    "\n",
    "from getpass import getpass\n",
    "\n",
    "pwd = getpass(\"請輸入你的密碼：\")\n",
    "\n",
    "if pwd == \"1234\":\n",
    "    print(\"歡迎光臨\")\n"
   ]
  },
  {
   "cell_type": "code",
   "execution_count": 5,
   "metadata": {},
   "outputs": [
    {
     "name": "stdout",
     "output_type": "stream",
     "text": [
      "請記得攜帶雨具\n"
     ]
    }
   ],
   "source": [
    "\"\"\"範例 3：天氣\"\"\"\n",
    "\n",
    "rain = input(\"明天會下雨嗎 (y/n)？\")\n",
    "\n",
    "# or: if rain == \"y\" or rain == \"Y\" or rain == \"會\" or rain == \"是\":\n",
    "if rain in [\"Y\", \"y\", \"會\", \"是\"]:\n",
    "    print(\"請記得攜帶雨具\")\n"
   ]
  },
  {
   "cell_type": "markdown",
   "metadata": {},
   "source": [
    "## 雙向判斷式\n",
    "\n",
    "```py\n",
    "if 條件式:\n",
    "    成立程式區塊\n",
    "else:\n",
    "    不成立程式區塊\n",
    "```\n"
   ]
  },
  {
   "cell_type": "code",
   "execution_count": 6,
   "metadata": {},
   "outputs": [
    {
     "name": "stdout",
     "output_type": "stream",
     "text": [
      "FAIL\n"
     ]
    }
   ],
   "source": [
    "\"\"\"範例 1：成績\"\"\"\n",
    "\n",
    "score = int(input(\"請輸入您的成績 (0~100)：\"))\n",
    "if score >= 60:\n",
    "    print(\"PASS\")\n",
    "else:\n",
    "    print(\"FAIL\")\n"
   ]
  },
  {
   "cell_type": "code",
   "execution_count": 8,
   "metadata": {},
   "outputs": [
    {
     "name": "stdout",
     "output_type": "stream",
     "text": [
      "密碼錯誤\n"
     ]
    }
   ],
   "source": [
    "\"\"\"範例 2：密碼\"\"\"\n",
    "\n",
    "from getpass import getpass\n",
    "\n",
    "pwd = getpass(\"請輸入你的密碼：\")\n",
    "\n",
    "if pwd == \"1234\":\n",
    "    print(\"歡迎光臨\")\n",
    "else:\n",
    "    print(\"密碼錯誤\")\n"
   ]
  },
  {
   "cell_type": "code",
   "execution_count": 14,
   "metadata": {},
   "outputs": [
    {
     "name": "stdout",
     "output_type": "stream",
     "text": [
      "數字 17 是奇數\n"
     ]
    }
   ],
   "source": [
    "\"\"\"範例 3：判斷奇偶數\"\"\"\n",
    "\n",
    "n = input(\"請輸入一個正整數：\")\n",
    "\n",
    "# alternative: int(n) % 2 == 0\n",
    "if n[-1] in [\"0\", \"2\", \"4\", \"6\", \"8\"]:\n",
    "    print(f\"數字 {n} 是偶數\")\n",
    "else:\n",
    "    print(f\"數字 {n} 是奇數\")"
   ]
  },
  {
   "cell_type": "code",
   "execution_count": 15,
   "metadata": {},
   "outputs": [
    {
     "name": "stdout",
     "output_type": "stream",
     "text": [
      "可以構成三角形\n"
     ]
    }
   ],
   "source": [
    "\"\"\"範例 4：判斷三邊是否可以構成三角形\"\"\"\n",
    "\n",
    "[a, b, c] = [\n",
    "    int(input(\"第一個邊的長度：\")),\n",
    "    int(input(\"第二個邊的長度：\")),\n",
    "    int(input(\"第三個邊的長度：\")),\n",
    "]\n",
    "\n",
    "if a + b > c and b + c > a and c + a > b:\n",
    "    print(\"可以構成三角形\")\n",
    "else:\n",
    "    print(\"無法構成三角形\")"
   ]
  }
 ],
 "metadata": {
  "kernelspec": {
   "display_name": "Python 3.11.0b5 64-bit ('3.11.0b5')",
   "language": "python",
   "name": "python3"
  },
  "language_info": {
   "codemirror_mode": {
    "name": "ipython",
    "version": 3
   },
   "file_extension": ".py",
   "mimetype": "text/x-python",
   "name": "python",
   "nbconvert_exporter": "python",
   "pygments_lexer": "ipython3",
   "version": "3.11.0"
  },
  "orig_nbformat": 4,
  "vscode": {
   "interpreter": {
    "hash": "a5c532ae246ac9f99ca3ece7a9d2b1c58b3e92b4cc90295403056d8d4ee2a82a"
   }
  }
 },
 "nbformat": 4,
 "nbformat_minor": 2
}
