{
 "cells": [
  {
   "cell_type": "markdown",
   "metadata": {},
   "source": [
    "# 練習題 1\n",
    "\n",
    "請設計程式以 input及print 命令的列印出下列結果。\n",
    "\n",
    "![](p1.png)"
   ]
  },
  {
   "cell_type": "code",
   "execution_count": 2,
   "metadata": {},
   "outputs": [
    {
     "name": "stdout",
     "output_type": "stream",
     "text": [
      "姓名\t座號\t國文\t數學\t英文\n",
      "林大明\t   1\t 100\t  87\t  79\n",
      "陳阿中\t   2\t  74\t  88\t 100\n",
      "張小英\t  11\t  82\t  65\t   8\n"
     ]
    }
   ],
   "source": [
    "from dataclasses import field, dataclass\n",
    "\n",
    "\n",
    "@dataclass()\n",
    "class User:\n",
    "    name: str\n",
    "    number: int\n",
    "    score: list[int] = field(default_factory=list)\n",
    "\n",
    "\n",
    "subjects_order = [\"國文\", \"數學\", \"英文\"]\n",
    "\n",
    "users = [\n",
    "    User(\"林大明\", 1),\n",
    "    User(\"陳阿中\", 2),\n",
    "    User(\"張小英\", 11),\n",
    "]\n",
    "\n",
    "# 根據 score_order 錄入成績。\n",
    "for user in users:\n",
    "    for subject in subjects_order:\n",
    "        user.score.append(int(input(\n",
    "            f\"請輸入{user.name}的{subject}成績：\"\n",
    "        )))\n",
    "\n",
    "output_buffer: list[list[str]] = [\n",
    "    [\"姓名\", \"座號\"] + subjects_order\n",
    "]\n",
    "\n",
    "for user in users:\n",
    "    user_buffer: list[str] = [user.name, f\"{user.number:>4}\"]\n",
    "\n",
    "    for score in user.score:\n",
    "        user_buffer.append(f\"{score:>4}\")\n",
    "\n",
    "    output_buffer.append(user_buffer)\n",
    "\n",
    "print(\"\\n\".join(map(lambda to_tab_buf: \"\\t\".join(to_tab_buf), output_buffer)))\n"
   ]
  },
  {
   "cell_type": "markdown",
   "metadata": {},
   "source": [
    "# 練習題 2\n",
    "\n",
    "請設計程式以 input及print 命令的列印出下列結果。\n",
    "\n",
    "![](p2.png)"
   ]
  },
  {
   "cell_type": "code",
   "execution_count": 3,
   "metadata": {},
   "outputs": [
    {
     "name": "stdout",
     "output_type": "stream",
     "text": [
      "年度  所得稅  營業稅  證交稅\n",
      "2017   98.34   90.20  104.79\n",
      "2016   83.00  110.50   82.45\n",
      "2015   98.00   79.32  102.00\n"
     ]
    }
   ],
   "source": [
    "from dataclasses import field, dataclass\n",
    "from typing import Callable, Iterator\n",
    "\n",
    "\n",
    "@dataclass()\n",
    "class Tax:\n",
    "    yr: int\n",
    "    taxes: list[float] = field(default_factory=list)\n",
    "\n",
    "\n",
    "class TaxManager:\n",
    "    def __init__(self, subjects_order: list[str], data_getter: Callable[[str], float]):\n",
    "        \"\"\"初始化 TaxManager。\n",
    "\n",
    "        Args:\n",
    "            subjects_order (list[str]): 稅務科目的順序。\n",
    "            data_getter (Callable[[str], float]): 資料來源的取得。傳入之 str 為提示訊息。\n",
    "        \"\"\"\n",
    "        self.subjects_order = subjects_order\n",
    "        self.data_source_getter = data_getter\n",
    "\n",
    "    def record(self, tax: Tax) -> None:\n",
    "        \"\"\"將資料根據 ``subjects_order`` 順序\n",
    "        錄入 ``tax`` 的 ``taxes`` 屬性。\n",
    "\n",
    "        Args:\n",
    "            tax (Tax): 要錄入的稅務結構體。\n",
    "        \"\"\"\n",
    "        for subject in self.subjects_order:\n",
    "            tax.taxes.append(self.data_source_getter(f\"請輸入 {tax.yr} 年的{subject}：\"))\n",
    "\n",
    "    def record_all(self, taxes: list[Tax]) -> Iterator[None]:\n",
    "        \"\"\"將資料錄入 ``taxes`` 中的所有 ``Tax``。\n",
    "\n",
    "        見 ``record()``。\n",
    "\n",
    "        Args:\n",
    "            taxes (list[Tax]): 所有要錄入的稅務結構體。\n",
    "\n",
    "        Yields:\n",
    "            None: 回傳順序為錄入順序。\n",
    "        \"\"\"\n",
    "        return map(self.record, taxes)\n",
    "\n",
    "\n",
    "class TaxFormatter:\n",
    "    subjects_order: list[str]\n",
    "\n",
    "    def __init__(self, subjects_order: list[str]):\n",
    "        \"\"\"初始化 TaxFormatter。\n",
    "\n",
    "        Args:\n",
    "            subjects_order (list[str]): 科目順序。\n",
    "        \"\"\"\n",
    "        self.subjects_order = subjects_order\n",
    "\n",
    "    def format(self, taxes: list[Tax]) -> str:\n",
    "        \"\"\"將稅務資料格式化成字串。\n",
    "\n",
    "        Args:\n",
    "            taxes (list[Tax]): 稅務資料。\n",
    "        \"\"\"\n",
    "        output_buffer: list[list[str]] = [[\"年度\"] + self.subjects_order]\n",
    "\n",
    "        for tax in taxes:\n",
    "            tax_buffer: list[str] = [str(tax.yr)]\n",
    "\n",
    "            for tax in tax.taxes:\n",
    "                tax_buffer.append(f\"{tax:>6.2f}\")\n",
    "\n",
    "            output_buffer.append(tax_buffer)\n",
    "\n",
    "        return \"\\n\".join(map(lambda to_tab_buf: \"  \".join(to_tab_buf), output_buffer))\n",
    "\n",
    "\n",
    "subjects_order = [\"所得稅\", \"營業稅\", \"證交稅\"]\n",
    "taxes = list(map(Tax, [2017, 2016, 2015]))\n",
    "\n",
    "recorder = TaxManager(subjects_order, lambda p: float(input(p)))\n",
    "list(recorder.record_all(taxes))\n",
    "\n",
    "printer = TaxFormatter(subjects_order)\n",
    "result = printer.format(taxes)\n",
    "\n",
    "print(result)\n"
   ]
  }
 ],
 "metadata": {
  "kernelspec": {
   "display_name": "Python 3",
   "language": "python",
   "name": "python3"
  },
  "language_info": {
   "codemirror_mode": {
    "name": "ipython",
    "version": 3
   },
   "file_extension": ".py",
   "mimetype": "text/x-python",
   "name": "python",
   "nbconvert_exporter": "python",
   "pygments_lexer": "ipython3",
   "version": "3.9.12"
  },
  "orig_nbformat": 4,
  "vscode": {
   "interpreter": {
    "hash": "d8f42a0113d4421a65fa75b9f5508569f6947a6b9e32e4e86865a9182fb5201c"
   }
  }
 },
 "nbformat": 4,
 "nbformat_minor": 2
}
