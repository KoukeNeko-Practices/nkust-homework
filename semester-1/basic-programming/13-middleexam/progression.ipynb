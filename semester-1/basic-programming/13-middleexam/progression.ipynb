{
 "cells": [
  {
   "cell_type": "markdown",
   "metadata": {},
   "source": [
    "# 如何計算出累進費率？\n",
    "\n",
    "假設你今天用了 $540$ 度的電，我們想要把度數根據以下的表格：\n",
    "\n",
    "| 度數 | 平日價格 | 假日價格 |\n",
    "| ---- | -------- | -------- |\n",
    "| 100  | 0.25     | 0.50     |\n",
    "| 200  | 0.5      | 0.75     |\n",
    "| 300  | 0.75     | 1        |\n",
    "| 400  | 1        | 1.25     |\n",
    "| 500  | 1.25     | 1.5      |\n",
    "\n",
    "轉換成這樣的輸出：\n",
    "\n",
    "    本日度數：540\n",
    "    平日費率：305\n",
    "    假日費率：440\n",
    "\n",
    "怎麼做？"
   ]
  },
  {
   "cell_type": "markdown",
   "metadata": {},
   "source": [
    "## 如果不借助電腦，要怎麼拆？\n",
    "\n",
    "用了 $540$ 度的電，是不是就等於：\n",
    "\n",
    "- 前 $100$ 度的電，按 100 度電的標準計算。\n",
    "- 接下來 $200$ 度的電，按 200 度電的標準計算。\n",
    "- 最後 $240$ ($540-100-200$) 度的電，按 300 度電的標準計算？"
   ]
  },
  {
   "cell_type": "markdown",
   "metadata": {},
   "source": [
    "## 邏輯上會長什麼樣子？\n",
    "\n",
    "詳細拆解邏輯。令 $x$ 為使用度數 ($540$)，\n",
    "$r$ 是這個區間的值（$100, 200, 300$)：\n",
    "\n",
    "- $x$ 剛開始是 $540$，大於 $100$。所以記下「第一個區間吃了 100 度的電，」\n",
    "  然後把 $x$ 減掉 $100$，繼續下個流程。\n",
    "- $x$ 現在是 $440$，大於 $200$，所以記下「第二個區間吃了 200 度的電，」\n",
    "  然後把 $x$ 減掉 $200$，繼續下個流程。\n",
    "- $x$ 現在是 $240$，小於 $300$，所以記下「第三個區間吃了 300 度的電。」\n",
    "\n",
    "嘿，寫成程式不就是：\n",
    "\n"
   ]
  },
  {
   "cell_type": "code",
   "execution_count": 3,
   "metadata": {},
   "outputs": [
    {
     "name": "stdout",
     "output_type": "stream",
     "text": [
      "[100, 200, 240]\n"
     ]
    }
   ],
   "source": [
    "x = 540\n",
    "separated = []\n",
    "\n",
    "if x < 100:\n",
    "  separated += [x]\n",
    "else:\n",
    "  separated += [100]\n",
    "  x -= 100\n",
    "\n",
    "if x < 200:\n",
    "  separated += [x]\n",
    "else:\n",
    "  separated += [200]\n",
    "  x -= 200\n",
    "\n",
    "if x < 300:\n",
    "  separated += [x]\n",
    "else:\n",
    "  separated += [300]\n",
    "\n",
    "print(separated)"
   ]
  },
  {
   "cell_type": "markdown",
   "metadata": {},
   "source": [
    "確實很接近了。但我們可以寫得更好。"
   ]
  },
  {
   "cell_type": "markdown",
   "metadata": {},
   "source": [
    "## 搭配 $for$ 迴圈拉出累計費率\n",
    "\n",
    "我們可以看到每段程式碼都長得像這樣：\n",
    "\n",
    "```py\n",
    "if x < 費率:\n",
    "    separated += [x]\n",
    "else:\n",
    "    separated += [費率]\n",
    "    x -= 費率\n",
    "```\n",
    "\n",
    "那我們可不可以用 $for$ 迴圈取代複製貼上呢？當然可以："
   ]
  },
  {
   "cell_type": "code",
   "execution_count": 4,
   "metadata": {},
   "outputs": [
    {
     "name": "stdout",
     "output_type": "stream",
     "text": [
      "[100, 200, 240, 240, 240]\n"
     ]
    }
   ],
   "source": [
    "x = 540\n",
    "separated = []\n",
    "\n",
    "# 為什麼是這些數字呢？看看最上面的表格～\n",
    "for 費率 in [100, 200, 300, 400, 500]:\n",
    "    if x < 費率:\n",
    "        separated += [x]\n",
    "    else:\n",
    "        separated += [費率]\n",
    "        x -= 費率\n",
    "\n",
    "print(separated)"
   ]
  },
  {
   "cell_type": "markdown",
   "metadata": {},
   "source": [
    "但是我們看到「當 $x$ 已經算完之後，它還是不停地把剩下\n",
    "的不正確數字填進去。」考慮到 $x < 費率$ 已經是 **結尾** 的\n",
    "情況了，我們便直接 `break` 結束掉剩下不必要的計算。"
   ]
  },
  {
   "cell_type": "code",
   "execution_count": 5,
   "metadata": {},
   "outputs": [
    {
     "name": "stdout",
     "output_type": "stream",
     "text": [
      "[100, 200, 240]\n"
     ]
    }
   ],
   "source": [
    "x = 540\n",
    "separated = []\n",
    "\n",
    "for 費率 in [100, 200, 300, 400, 500]:\n",
    "    if x < 費率:\n",
    "        separated += [x]\n",
    "        break\n",
    "    else:\n",
    "        separated += [費率]\n",
    "        x -= 費率\n",
    "\n",
    "print(separated)"
   ]
  },
  {
   "cell_type": "markdown",
   "metadata": {},
   "source": [
    "接下來我們還需要把它乘以費率。因此我們再寫一次 for 迴圈，\n",
    "把這些區間和費率做相乘："
   ]
  },
  {
   "cell_type": "code",
   "execution_count": 6,
   "metadata": {},
   "outputs": [
    {
     "name": "stdout",
     "output_type": "stream",
     "text": [
      "305.0 440.0\n"
     ]
    }
   ],
   "source": [
    "平日價格表 = [0.25, 0.5, 0.75, 1, 1.25]\n",
    "假日價格表 = [0.5, 0.75, 1, 1.25, 1.5]\n",
    "\n",
    "平日P = 0\n",
    "假日P = 0\n",
    "\n",
    "# 目前的區間 = 1, 2, 3, 4, …\n",
    "for 目前的區間 in range(0, len(separated)):\n",
    "    平日P += separated[目前的區間] * 平日價格表[目前的區間]\n",
    "    假日P += separated[目前的區間] * 假日價格表[目前的區間]\n",
    "\n",
    "print(平日P, 假日P)"
   ]
  },
  {
   "cell_type": "markdown",
   "metadata": {},
   "source": [
    "接近完美了！另外上面的 range 可以改用 `enumerate` 代替："
   ]
  },
  {
   "cell_type": "code",
   "execution_count": 7,
   "metadata": {},
   "outputs": [
    {
     "name": "stdout",
     "output_type": "stream",
     "text": [
      "305.0 440.0\n"
     ]
    }
   ],
   "source": [
    "平日價格表 = [0.25, 0.5, 0.75, 1, 1.25]\n",
    "假日價格表 = [0.5, 0.75, 1, 1.25, 1.5]\n",
    "\n",
    "平日P = 0\n",
    "假日P = 0\n",
    "\n",
    "# 目前的區間 = 1, 2, 3, 4, …\n",
    "for 目前的區間, 區間度數 in enumerate(separated):\n",
    "    平日P += 區間度數 * 平日價格表[目前的區間]\n",
    "    假日P += 區間度數 * 假日價格表[目前的區間]\n",
    "\n",
    "print(平日P, 假日P)"
   ]
  },
  {
   "cell_type": "markdown",
   "metadata": {},
   "source": [
    "整合一下，答案就是："
   ]
  },
  {
   "cell_type": "code",
   "execution_count": 11,
   "metadata": {},
   "outputs": [
    {
     "name": "stdout",
     "output_type": "stream",
     "text": [
      "本日度數：540\n",
      "平日費率：305\n",
      "假日度數：440\n"
     ]
    }
   ],
   "source": [
    "inputs = int(input(\"請輸入金額：\"))\n",
    "x = inputs\n",
    "separated = []\n",
    "\n",
    "for 費率 in [100, 200, 300, 400, 500]:\n",
    "    if x < 費率:\n",
    "        separated += [x]\n",
    "        break\n",
    "    else:\n",
    "        separated += [費率]\n",
    "        x -= 費率\n",
    "\n",
    "平日價格表 = [0.25, 0.5, 0.75, 1, 1.25]\n",
    "假日價格表 = [0.5, 0.75, 1, 1.25, 1.5]\n",
    "\n",
    "平日P = 0\n",
    "假日P = 0\n",
    "\n",
    "# 目前的區間 = 1, 2, 3, 4, …\n",
    "for 目前的區間, 區間度數 in enumerate(separated):\n",
    "    平日P += 區間度數 * 平日價格表[目前的區間]\n",
    "    假日P += 區間度數 * 假日價格表[目前的區間]\n",
    "\n",
    "print(f\"本日度數：{inputs}\")\n",
    "print(f\"平日費率：{平日P:.0f}\")\n",
    "print(f\"假日度數：{假日P:.0f}\")"
   ]
  }
 ],
 "metadata": {
  "kernelspec": {
   "display_name": "Python 3",
   "language": "python",
   "name": "python3"
  },
  "language_info": {
   "codemirror_mode": {
    "name": "ipython",
    "version": 3
   },
   "file_extension": ".py",
   "mimetype": "text/x-python",
   "name": "python",
   "nbconvert_exporter": "python",
   "pygments_lexer": "ipython3",
   "version": "3.7.13"
  },
  "orig_nbformat": 4,
  "vscode": {
   "interpreter": {
    "hash": "d65f5fbe4938e4499fff552b8601f0c610a4de07a84c43b8b48d5dfabe9f4f03"
   }
  }
 },
 "nbformat": 4,
 "nbformat_minor": 2
}
