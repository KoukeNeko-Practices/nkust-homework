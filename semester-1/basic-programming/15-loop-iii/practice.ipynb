{
 "cells": [
  {
   "cell_type": "markdown",
   "metadata": {},
   "source": [
    "### Practice 1\n",
    "\n",
    "利用 `while` 迴圈計算 1–1000 之間 $3$ 的倍數，\n",
    "且是奇數之總和。"
   ]
  },
  {
   "cell_type": "code",
   "execution_count": 17,
   "metadata": {},
   "outputs": [
    {
     "name": "stdout",
     "output_type": "stream",
     "text": [
      "83667\n"
     ]
    }
   ],
   "source": [
    "# Clean way\n",
    "\n",
    "print(\n",
    "    sum(\n",
    "        filter(\n",
    "            lambda v: v % 3 == 0 and v % 2 != 0,\n",
    "            range(1, 1001)\n",
    "        )\n",
    "    )\n",
    ")"
   ]
  },
  {
   "cell_type": "code",
   "execution_count": 18,
   "metadata": {},
   "outputs": [
    {
     "name": "stdout",
     "output_type": "stream",
     "text": [
      "83667\n"
     ]
    }
   ],
   "source": [
    "# While way\n",
    "\n",
    "i = _sum = 0\n",
    "\n",
    "while i <= 1000:\n",
    "    if i % 3 == 0 and i % 2 != 0:\n",
    "        _sum += i\n",
    "    i += 1\n",
    "\n",
    "print(_sum)"
   ]
  },
  {
   "cell_type": "markdown",
   "metadata": {},
   "source": [
    "### Practice 2\n",
    "\n",
    "利用 `while`  寫出 $n!$。"
   ]
  },
  {
   "cell_type": "code",
   "execution_count": 19,
   "metadata": {},
   "outputs": [
    {
     "name": "stdout",
     "output_type": "stream",
     "text": [
      "2432902008176640000\n"
     ]
    }
   ],
   "source": [
    "# While way\n",
    "\n",
    "n = int(input(\"n = \"))\n",
    "sum_ = 1\n",
    "\n",
    "while n != 1:\n",
    "    sum_ *= n\n",
    "    n -= 1\n",
    "\n",
    "print(sum_)"
   ]
  },
  {
   "cell_type": "markdown",
   "metadata": {},
   "source": [
    "### Practice 3\n",
    "\n",
    "輸入帳號密碼，判斷正確與否。`while`"
   ]
  },
  {
   "cell_type": "code",
   "execution_count": 2,
   "metadata": {},
   "outputs": [
    {
     "name": "stdout",
     "output_type": "stream",
     "text": [
      "帳號或密碼錯誤\n",
      "帳號/密碼正確\n"
     ]
    }
   ],
   "source": [
    "correct = {\"usrname\": \"hello\", \"pwd\": \"114514\"}\n",
    "\n",
    "while True:\n",
    "    usr = input(\"請輸入帳號：\")\n",
    "    pwd = input(\"請輸入密碼：\")\n",
    "    \n",
    "    if usr != correct[\"usrname\"] or pwd != correct[\"pwd\"]:\n",
    "        print(\"帳號或密碼錯誤\")\n",
    "    else:\n",
    "        print(\"帳號/密碼正確\")\n",
    "        break"
   ]
  },
  {
   "cell_type": "markdown",
   "metadata": {},
   "source": [
    "### Practice 3\n",
    "\n",
    "輸入一個整數，判斷其因數有哪些？並判斷是否為質數。`while`."
   ]
  },
  {
   "cell_type": "code",
   "execution_count": 46,
   "metadata": {},
   "outputs": [
    {
     "name": "stdout",
     "output_type": "stream",
     "text": [
      "20 = 1*2*2*5, 不是質數\n"
     ]
    }
   ],
   "source": [
    "n = int(input(\"請輸入一個數字：\"))\n",
    "\n",
    "def get_times_table(n: int, t: list[int] | None = None) -> list[int]:\n",
    "    t = t or [1]\n",
    "    if n == 0: return t\n",
    "\n",
    "    for i in range(2, n + 1):\n",
    "        if n % i == 0:\n",
    "            t.append(i)\n",
    "            return get_times_table(n // i, t)\n",
    "\n",
    "    return t\n",
    "\n",
    "t_table = get_times_table(n)\n",
    "t_str = \"*\".join(map(str, t_table))\n",
    "print(f\"{n} = {t_str}, {'是質數' if len(t_table) == 2 else '不是質數'}\")"
   ]
  },
  {
   "cell_type": "markdown",
   "metadata": {},
   "source": [
    "$ceil(\\sqrt{n+1})$"
   ]
  }
 ],
 "metadata": {
  "kernelspec": {
   "display_name": "Python 3.11.0 64-bit ('3.11.0')",
   "language": "python",
   "name": "python3"
  },
  "language_info": {
   "codemirror_mode": {
    "name": "ipython",
    "version": 3
   },
   "file_extension": ".py",
   "mimetype": "text/x-python",
   "name": "python",
   "nbconvert_exporter": "python",
   "pygments_lexer": "ipython3",
   "version": "3.11.0"
  },
  "orig_nbformat": 4,
  "vscode": {
   "interpreter": {
    "hash": "434c48eb33f3035c2bc7ac5821eeed91fc4329cf70a74c45c510d3afe1b4a362"
   }
  }
 },
 "nbformat": 4,
 "nbformat_minor": 2
}
