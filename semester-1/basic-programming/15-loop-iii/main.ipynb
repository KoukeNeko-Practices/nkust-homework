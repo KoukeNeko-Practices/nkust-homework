{
 "cells": [
  {
   "cell_type": "markdown",
   "metadata": {},
   "source": [
    "# `while` 迴圈\n",
    "\n",
    "    while CONDITION:\n",
    "        CODE-BLOCK\n"
   ]
  },
  {
   "cell_type": "markdown",
   "metadata": {},
   "source": [
    "## 範例"
   ]
  },
  {
   "cell_type": "markdown",
   "metadata": {},
   "source": [
    "### Example 1\n",
    "\n",
    "$ 1+2+\\dots+10 $"
   ]
  },
  {
   "cell_type": "code",
   "execution_count": 1,
   "metadata": {},
   "outputs": [
    {
     "name": "stdout",
     "output_type": "stream",
     "text": [
      "55\n"
     ]
    }
   ],
   "source": [
    "n = sum_ = 0\n",
    "\n",
    "while n < 10:\n",
    "    n += 1\n",
    "    sum_ += n\n",
    "\n",
    "print(sum_)"
   ]
  },
  {
   "cell_type": "markdown",
   "metadata": {},
   "source": [
    "### Example 2\n",
    "\n",
    "$1$ – $10$ 偶數總和"
   ]
  },
  {
   "cell_type": "code",
   "execution_count": 4,
   "metadata": {},
   "outputs": [
    {
     "name": "stdout",
     "output_type": "stream",
     "text": [
      "n=10 sum=20\n"
     ]
    }
   ],
   "source": [
    "n, sum_ = 1, 0\n",
    "\n",
    "while n < 10:\n",
    "    if n % 2 == 0:\n",
    "        sum_ = sum_ + n\n",
    "    n = n + 1\n",
    "\n",
    "print(f\"{n=} {sum_=}\")"
   ]
  },
  {
   "cell_type": "code",
   "execution_count": null,
   "metadata": {},
   "outputs": [],
   "source": [
    "# n! > M\n",
    "pro = i = 1\n",
    "M = int(input(\"請輸入 M？\"))\n",
    "\n",
    "while pro < M:\n",
    "    i = i + 1\n",
    "    pro = pro * i\n",
    "print(i, \"階層為\", pro, \"大於\", M)"
   ]
  }
 ],
 "metadata": {
  "kernelspec": {
   "display_name": "Python 3.11.0 64-bit ('3.11.0')",
   "language": "python",
   "name": "python3"
  },
  "language_info": {
   "codemirror_mode": {
    "name": "ipython",
    "version": 3
   },
   "file_extension": ".py",
   "mimetype": "text/x-python",
   "name": "python",
   "nbconvert_exporter": "python",
   "pygments_lexer": "ipython3",
   "version": "3.11.0"
  },
  "orig_nbformat": 4,
  "vscode": {
   "interpreter": {
    "hash": "434c48eb33f3035c2bc7ac5821eeed91fc4329cf70a74c45c510d3afe1b4a362"
   }
  }
 },
 "nbformat": 4,
 "nbformat_minor": 2
}
