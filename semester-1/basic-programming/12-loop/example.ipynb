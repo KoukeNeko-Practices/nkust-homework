{
 "cells": [
  {
   "cell_type": "markdown",
   "metadata": {},
   "source": [
    "1. 計算 $1 \\times 1+2 \\times 2+\\dots+n \\times n$"
   ]
  },
  {
   "cell_type": "code",
   "execution_count": 4,
   "metadata": {},
   "outputs": [
    {
     "name": "stdout",
     "output_type": "stream",
     "text": [
      "14\n"
     ]
    }
   ],
   "source": [
    "print(sum(\n",
    "    i*i for i in range(\n",
    "        1,\n",
    "        int(input(\"請輸入 n：\")) + 1\n",
    "    )\n",
    "))"
   ]
  },
  {
   "cell_type": "markdown",
   "metadata": {},
   "source": [
    "2. 求階層 $1! + 2! + 3! + \\dots + n!$"
   ]
  },
  {
   "cell_type": "code",
   "execution_count": 24,
   "metadata": {},
   "outputs": [
    {
     "name": "stdout",
     "output_type": "stream",
     "text": [
      "4037913\n"
     ]
    }
   ],
   "source": [
    "n = int(input(\"n = \"))\n",
    "dp = [1] * n\n",
    "\n",
    "for i in range(2, n + 1):\n",
    "    dp[i - 1] = dp[i - 2] * i\n",
    "\n",
    "print(sum(dp))"
   ]
  }
 ],
 "metadata": {
  "file_extension": ".py",
  "kernelspec": {
   "display_name": "Python 3",
   "language": "python",
   "name": "python3"
  },
  "language_info": {
   "codemirror_mode": {
    "name": "ipython",
    "version": 3
   },
   "name": "python",
   "version": "3.7.13 (7e0ae751533460d5f89f3ac48ce366d8642d1db5, Mar 29 2022, 06:30:54)\n[PyPy 7.3.9 with GCC Apple LLVM 13.0.0 (clang-1300.0.29.30)]"
  },
  "mimetype": "text/x-python",
  "name": "python",
  "npconvert_exporter": "python",
  "orig_nbformat": 2,
  "pygments_lexer": "ipython3",
  "version": 3,
  "vscode": {
   "interpreter": {
    "hash": "d65f5fbe4938e4499fff552b8601f0c610a4de07a84c43b8b48d5dfabe9f4f03"
   }
  }
 },
 "nbformat": 4,
 "nbformat_minor": 2
}
