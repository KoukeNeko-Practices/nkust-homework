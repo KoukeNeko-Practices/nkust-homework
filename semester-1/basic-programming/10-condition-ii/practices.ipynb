{
 "cells": [
  {
   "cell_type": "markdown",
   "metadata": {},
   "source": [
    "# 練習題\n",
    "\n",
    "## 練習 1\n",
    "\n",
    "![Practice 1](./p1.jpg)"
   ]
  },
  {
   "cell_type": "code",
   "execution_count": 3,
   "metadata": {},
   "outputs": [
    {
     "name": "stdout",
     "output_type": "stream",
     "text": [
      "不合格\n"
     ]
    }
   ],
   "source": [
    "\"\"\"Practice 1\"\"\"\n",
    "\n",
    "bmi = lambda kg, m: kg / (m)**2\n",
    "passed = lambda bmi, gender: \\\n",
    "    bmi < 31 if gender == \"男\" else \\\n",
    "    bmi < 26 if gender == \"女\" else False\n",
    "\n",
    "gender = input(\"請輸入性別：\").replace(\"性\", \"\")\n",
    "assert gender in [\"男\", \"女\"]\n",
    "\n",
    "height = float(input(\"請輸入身高（公尺）：\"))\n",
    "weight = float(input(\"請輸入體重（公斤）：\"))\n",
    "\n",
    "print(\"合格\" if passed(bmi(weight, height), gender) else \"不合格\")"
   ]
  },
  {
   "cell_type": "markdown",
   "metadata": {},
   "source": [
    "## 練習 2\n",
    "\n",
    "![Practice 2](./p2.jpeg)"
   ]
  },
  {
   "cell_type": "code",
   "execution_count": 7,
   "metadata": {},
   "outputs": [
    {
     "name": "stdout",
     "output_type": "stream",
     "text": [
      "第IV象限\n"
     ]
    }
   ],
   "source": [
    "\"\"\"Practice 2\"\"\"\n",
    "\n",
    "[x, y] = list(map(float, map(input, map(\"輸入{}座標點：\".format, \"xy\"))))\n",
    "\n",
    "# Python 3.10 的新 syntax\n",
    "# https://openhome.cc/zh-tw/python/flow-control/match-case/\n",
    "match [x, y]:\n",
    "    case [0, 0]: print(\"在原點\")\n",
    "\n",
    "    # 軸上\n",
    "    case [0, _]: print(\"Y軸上\")\n",
    "    case [_, 0]: print(\"X軸上\")\n",
    "\n",
    "    # 象限\n",
    "    case [x, y] if x > 0 and y > 0: print(\"第I象限\")\n",
    "    case [x, y] if x < 0 and y > 0: print(\"第II象限\")\n",
    "    case [x, y] if x < 0 and y < 0: print(\"第III象限\")\n",
    "    case [x, y] if x > 0 and y < 0: print(\"第IV象限\")\n",
    "    \n",
    "    case _: raise Exception(\"unreachable!\")"
   ]
  },
  {
   "cell_type": "markdown",
   "metadata": {},
   "source": [
    "## 練習 3\n",
    "\n",
    "![p3](./p3.jpeg)"
   ]
  },
  {
   "cell_type": "code",
   "execution_count": 8,
   "metadata": {},
   "outputs": [
    {
     "name": "stdout",
     "output_type": "stream",
     "text": [
      "BMI 為 24.691358024691358\n",
      "每日所需的熱量：2000.0\n"
     ]
    }
   ],
   "source": [
    "\"\"\"Practice 3\"\"\"\n",
    "\n",
    "bmi = lambda kg, m: kg / (m)**2\n",
    "\n",
    "def _get_bmi_level(bmi: int) -> str:\n",
    "    if 35 <= bmi \\\n",
    "        or 30 <= bmi < 35 \\\n",
    "        or 27 <= bmi < 30 \\\n",
    "        or 24 <= bmi < 27:\n",
    "        return \"fat\"\n",
    "    elif 18.5 <= bmi < 24:\n",
    "        return \"normal\"\n",
    "    elif bmi < 18.5:\n",
    "        return \"thin\"\n",
    "    else:\n",
    "        raise Exception(\"unreachable\")\n",
    "\n",
    "def calc_kcal_level(workload: int, bmi: int):\n",
    "    workload_kcal_level = {\n",
    "        1: {\n",
    "            \"thin\": 35,\n",
    "            \"normal\": 30,\n",
    "            \"fat\": 25,\n",
    "        },\n",
    "        2: {\n",
    "            \"thin\": 40,\n",
    "            \"normal\": 35,\n",
    "            \"fat\": 30,\n",
    "        },\n",
    "        3: {\n",
    "            \"thin\": 45,\n",
    "            \"normal\": 40,\n",
    "            \"fat\": 35,\n",
    "        },\n",
    "    }\n",
    "    \n",
    "    return workload_kcal_level[workload][_get_bmi_level(bmi)]\n",
    "    \n",
    "\n",
    "workload = \\\n",
    "    int(input(\"輸入每天運動量(1:輕度,2:中度,3:重度): \"))\n",
    "\n",
    "height_m = float(input(\"輸入身高(公尺): \"))\n",
    "weight_kg = float(input(\"輸入體重(公斤): \"))\n",
    "\n",
    "bmi_result = bmi(weight_kg, height_m)\n",
    "\n",
    "print(f\"BMI 為 {bmi_result}\")\n",
    "print(f\"每日所需的熱量：{weight_kg * calc_kcal_level(workload, bmi_result)}\")\n"
   ]
  }
 ],
 "metadata": {
  "kernelspec": {
   "display_name": "Python 3",
   "language": "python",
   "name": "python3"
  },
  "language_info": {
   "codemirror_mode": {
    "name": "ipython",
    "version": 3
   },
   "file_extension": ".py",
   "mimetype": "text/x-python",
   "name": "python",
   "nbconvert_exporter": "python",
   "pygments_lexer": "ipython3",
   "version": "3.11.0b5"
  },
  "orig_nbformat": 4,
  "vscode": {
   "interpreter": {
    "hash": "a5c532ae246ac9f99ca3ece7a9d2b1c58b3e92b4cc90295403056d8d4ee2a82a"
   }
  }
 },
 "nbformat": 4,
 "nbformat_minor": 2
}
