{
 "cells": [
  {
   "cell_type": "markdown",
   "metadata": {},
   "source": [
    "# 多項判斷式\n",
    "\n",
    "```py\n",
    "if 條件式1:\n",
    "    程式區塊1\n",
    "elif 條件式2:\n",
    "    程式區塊2\n",
    "elif 條件式3:\n",
    "    程式區塊3\n",
    "...\n",
    "else: \n",
    "    程式區塊N\n",
    "```"
   ]
  },
  {
   "cell_type": "markdown",
   "metadata": {},
   "source": [
    "## 範例"
   ]
  },
  {
   "cell_type": "markdown",
   "metadata": {},
   "source": [
    "\n",
    "### Example I：成績等第"
   ]
  },
  {
   "cell_type": "code",
   "execution_count": 1,
   "metadata": {},
   "outputs": [
    {
     "name": "stdout",
     "output_type": "stream",
     "text": [
      "丁等\n"
     ]
    }
   ],
   "source": [
    "score = int(input(\"請輸入您的分數：\"))\n",
    "\n",
    "if score >= 90:\n",
    "    print(\"甲等\")\n",
    "elif score >= 80:\n",
    "    print(\"乙等\")\n",
    "elif score >= 70:\n",
    "    print(\"丙等\")\n",
    "elif score >= 60:\n",
    "    print(\"丁等\")\n",
    "else:\n",
    "    print(\"您的成績未通過\")"
   ]
  },
  {
   "cell_type": "markdown",
   "metadata": {},
   "source": [
    "### Example II: 電影等級"
   ]
  },
  {
   "cell_type": "code",
   "execution_count": 3,
   "metadata": {},
   "outputs": [
    {
     "name": "stdout",
     "output_type": "stream",
     "text": [
      "可看限制級以外的電影\n"
     ]
    }
   ],
   "source": [
    "age = int(input(\"請輸入您的年齡：\"))\n",
    "\n",
    "if age < 6:\n",
    "    print(\"可以看普通級\")\n",
    "elif age < 12:\n",
    "    print(\"可以看普通級及保護級\")\n",
    "elif age < 18:\n",
    "    print(\"可看限制級以外的電影\")\n",
    "else:\n",
    "    print(\"您已成年，可以看所有級別的電影\")"
   ]
  },
  {
   "cell_type": "markdown",
   "metadata": {},
   "source": [
    "### Example III: 成績等第"
   ]
  },
  {
   "cell_type": "code",
   "execution_count": null,
   "metadata": {},
   "outputs": [],
   "source": [
    "score = float(input(\"請輸入您的成績 (0-100)：\"))\n",
    "\n",
    "if score < 0 or score > 100:\n",
    "    print(\"輸入成績範圍有誤\")\n",
    "else:\n",
    "    if 90 <= score:\n",
    "        print(\"A\")\n",
    "    elif 80 <= score and score < 90:\n",
    "        print(\"B\")\n",
    "    elif 70 <= score and score < 80:\n",
    "        print(\"C\")\n",
    "    elif 60 <= score and score < 70:\n",
    "        print(\"D\")\n",
    "    else:\n",
    "        print(\"E\")"
   ]
  },
  {
   "cell_type": "code",
   "execution_count": 5,
   "metadata": {},
   "outputs": [
    {
     "name": "stdout",
     "output_type": "stream",
     "text": [
      "輸入成績範圍有誤。\n"
     ]
    }
   ],
   "source": [
    "'''alternative solution'''\n",
    "\n",
    "score = float(input(\"請輸入您的成績 (0-100)：\"))\n",
    "\n",
    "if score in range(0, 100):  # range\n",
    "    if 90 <= score < 100:  # 不用 and，直接連接\n",
    "        print(\"A\")\n",
    "    elif (score - 80) // 10 == 0:  # 數學解法：成績在 70-79 之間。`//` 是 floor（往下取整）。\n",
    "        print(\"B\")\n",
    "    elif (score - 70) // 10 == 0:\n",
    "        print(\"C\")\n",
    "    elif 60 <= score < 70:\n",
    "        print(\"D\")\n",
    "    else:\n",
    "        print(\"E\")\n",
    "else:\n",
    "    print(\"輸入成績範圍有誤。\")"
   ]
  },
  {
   "cell_type": "code",
   "execution_count": 6,
   "metadata": {},
   "outputs": [
    {
     "name": "stdout",
     "output_type": "stream",
     "text": [
      "E\n"
     ]
    }
   ],
   "source": [
    "'''classic way (if-else)'''\n",
    "\n",
    "score = float(input(\"請輸入您的成績 (0-100)：\"))\n",
    "\n",
    "if score < 0 or score > 100:\n",
    "    print(\"輸入成績範圍有誤\")\n",
    "else:\n",
    "    if 90 <= score:\n",
    "        print(\"A\")\n",
    "    else:\n",
    "        if 80 <= score and score < 90:\n",
    "            print(\"B\")\n",
    "        else:  \n",
    "            if 70 <= score and score < 80:\n",
    "                print(\"C\")\n",
    "            else:\n",
    "                if 60 <= score and score < 70:\n",
    "                    print(\"D\")\n",
    "                else:\n",
    "                    print(\"E\")"
   ]
  }
 ],
 "metadata": {
  "kernelspec": {
   "display_name": "Python 3",
   "language": "python",
   "name": "python3"
  },
  "language_info": {
   "codemirror_mode": {
    "name": "ipython",
    "version": 3
   },
   "file_extension": ".py",
   "mimetype": "text/x-python",
   "name": "python",
   "nbconvert_exporter": "python",
   "pygments_lexer": "ipython3",
   "version": "3.11.0b5"
  },
  "orig_nbformat": 4,
  "vscode": {
   "interpreter": {
    "hash": "a5c532ae246ac9f99ca3ece7a9d2b1c58b3e92b4cc90295403056d8d4ee2a82a"
   }
  }
 },
 "nbformat": 4,
 "nbformat_minor": 2
}
