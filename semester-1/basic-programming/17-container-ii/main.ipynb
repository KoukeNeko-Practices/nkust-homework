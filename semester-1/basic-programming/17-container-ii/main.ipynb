{
 "cells": [
  {
   "attachments": {},
   "cell_type": "markdown",
   "metadata": {},
   "source": [
    "# 刪除串列元素\n"
   ]
  },
  {
   "attachments": {},
   "cell_type": "markdown",
   "metadata": {},
   "source": [
    "## `remove()`\n",
    "\n",
    "刪除指定的元素。\n",
    "\n",
    "    串列名稱.remove(value: str)\n"
   ]
  },
  {
   "cell_type": "code",
   "execution_count": 91,
   "metadata": {},
   "outputs": [
    {
     "name": "stdout",
     "output_type": "stream",
     "text": [
      "['燕巢校區', '楠梓校區']\n"
     ]
    }
   ],
   "source": [
    "list1 = [\"第一校區\", \"燕巢校區\", \"楠梓校區\"]\n",
    "list1.remove(\"第一校區\")\n",
    "\n",
    "print(list1)\n"
   ]
  },
  {
   "attachments": {},
   "cell_type": "markdown",
   "metadata": {},
   "source": [
    "## `pop()`\n",
    "\n",
    "丟出最後一個元素。（後進先出 LIFO）\n",
    "\n",
    "    串列名稱.pop(): str\n"
   ]
  },
  {
   "cell_type": "code",
   "execution_count": 92,
   "metadata": {},
   "outputs": [
    {
     "name": "stdout",
     "output_type": "stream",
     "text": [
      "楠梓校區\n",
      "['第一校區', '燕巢校區']\n"
     ]
    }
   ],
   "source": [
    "list2 = [\"第一校區\", \"燕巢校區\", \"楠梓校區\"]\n",
    "\n",
    "print(list2.pop())\n",
    "print(list2)\n"
   ]
  },
  {
   "attachments": {},
   "cell_type": "markdown",
   "metadata": {},
   "source": [
    "## `pop(index)`\n",
    "\n",
    "丟出指定區塊的元素。\n",
    "\n",
    "    串列名稱.pop(index: int): str\n"
   ]
  },
  {
   "cell_type": "code",
   "execution_count": 93,
   "metadata": {},
   "outputs": [
    {
     "name": "stdout",
     "output_type": "stream",
     "text": [
      "第一校區\n",
      "['燕巢校區', '楠梓校區']\n"
     ]
    }
   ],
   "source": [
    "list2 = [\"第一校區\", \"燕巢校區\", \"楠梓校區\"]\n",
    "\n",
    "print(list2.pop(0))\n",
    "print(list2)\n"
   ]
  },
  {
   "attachments": {},
   "cell_type": "markdown",
   "metadata": {},
   "source": [
    "## `del`\n",
    "\n",
    "刪除指定 index 的元素。\n",
    "\n",
    "    del 串列名稱[index]\n",
    "    del 串列名稱[begin:end:step]\n"
   ]
  },
  {
   "cell_type": "code",
   "execution_count": 94,
   "metadata": {},
   "outputs": [
    {
     "name": "stdout",
     "output_type": "stream",
     "text": [
      "['燕巢校區', '楠梓校區']\n"
     ]
    }
   ],
   "source": [
    "list3 = [\"第一校區\", \"燕巢校區\", \"楠梓校區\"]\n",
    "\n",
    "del list3[0]\n",
    "print(list3)\n"
   ]
  },
  {
   "cell_type": "code",
   "execution_count": 95,
   "metadata": {},
   "outputs": [
    {
     "name": "stdout",
     "output_type": "stream",
     "text": [
      "['第一校區', '旗津校區']\n"
     ]
    }
   ],
   "source": [
    "list3 = [\"第一校區\", \"燕巢校區\", \"楠梓校區\", \"旗津校區\"]\n",
    "\n",
    "del list3[1:3]  # 1 ~ (2+1)\n",
    "print(list3)\n"
   ]
  },
  {
   "cell_type": "code",
   "execution_count": 96,
   "metadata": {},
   "outputs": [
    {
     "name": "stdout",
     "output_type": "stream",
     "text": [
      "['燕巢校區', '旗津校區']\n"
     ]
    }
   ],
   "source": [
    "list3 = [\"第一校區\", \"燕巢校區\", \"楠梓校區\", \"旗津校區\"]\n",
    "\n",
    "del list3[0:4:2]\n",
    "print(list3)\n"
   ]
  },
  {
   "cell_type": "code",
   "execution_count": 97,
   "metadata": {},
   "outputs": [],
   "source": [
    "del list3\n",
    "# 這時候 list3 已經不存在了\n"
   ]
  },
  {
   "cell_type": "code",
   "execution_count": 98,
   "metadata": {},
   "outputs": [
    {
     "name": "stdout",
     "output_type": "stream",
     "text": [
      "[]\n"
     ]
    }
   ],
   "source": [
    "list3 = [\"第一校區\", \"燕巢校區\", \"楠梓校區\", \"旗津校區\"]\n",
    "\n",
    "while len(list3):\n",
    "    list3.pop()\n",
    "\n",
    "print(list3)  # pop 法不會把 list3 變不見\n"
   ]
  },
  {
   "attachments": {},
   "cell_type": "markdown",
   "metadata": {},
   "source": [
    "# 更改串列元素順序\n"
   ]
  },
  {
   "attachments": {},
   "cell_type": "markdown",
   "metadata": {},
   "source": [
    "## `sort()`\n",
    "\n",
    "in-place 升序（由小到大）排序串列元素。\n",
    "\n",
    "    串列名稱.sort()\n"
   ]
  },
  {
   "cell_type": "code",
   "execution_count": 99,
   "metadata": {},
   "outputs": [
    {
     "name": "stdout",
     "output_type": "stream",
     "text": [
      "[0, 1, 2, 9]\n"
     ]
    }
   ],
   "source": [
    "list4 = [9, 0, 2, 1]\n",
    "list4.sort()\n",
    "print(list4)\n"
   ]
  },
  {
   "attachments": {},
   "cell_type": "markdown",
   "metadata": {},
   "source": [
    "## `reverse()`\n",
    "\n",
    "in-place 反轉串列元素的排序。\n",
    "\n",
    "    串列名稱.reverse()\n"
   ]
  },
  {
   "cell_type": "code",
   "execution_count": 100,
   "metadata": {},
   "outputs": [
    {
     "name": "stdout",
     "output_type": "stream",
     "text": [
      "[1, 1, 4, 5, 1, 4]\n"
     ]
    }
   ],
   "source": [
    "list5 = [4, 1, 5, 4, 1, 1]\n",
    "list5.reverse()\n",
    "print(list5)\n"
   ]
  },
  {
   "cell_type": "code",
   "execution_count": 101,
   "metadata": {},
   "outputs": [
    {
     "name": "stdout",
     "output_type": "stream",
     "text": [
      "[9, 2, 1, 0]\n"
     ]
    }
   ],
   "source": [
    "# 倒序排序\n",
    "\n",
    "list5 = [9, 0, 2, 1]\n",
    "list5.sort()\n",
    "list5.reverse()\n",
    "print(list5)\n"
   ]
  },
  {
   "attachments": {},
   "cell_type": "markdown",
   "metadata": {},
   "source": [
    "## `sorted()`\n",
    "\n",
    "另外 copy 串列進行排序。\n",
    "\n",
    "    sorted(串列: list, reverse?: bool): list\n"
   ]
  },
  {
   "cell_type": "code",
   "execution_count": 102,
   "metadata": {},
   "outputs": [
    {
     "name": "stdout",
     "output_type": "stream",
     "text": [
      "original_list=[3, 4, 1, 9] => sorted_list=[1, 3, 4, 9]\n"
     ]
    }
   ],
   "source": [
    "original_list = [3, 4, 1, 9]\n",
    "sorted_list = sorted(original_list)\n",
    "\n",
    "print(f\"{original_list=} => {sorted_list=}\")\n"
   ]
  },
  {
   "cell_type": "code",
   "execution_count": 103,
   "metadata": {},
   "outputs": [
    {
     "name": "stdout",
     "output_type": "stream",
     "text": [
      "original_list=[3, 4, 1, 9] => rev_sorted_list=[9, 4, 3, 1]\n"
     ]
    }
   ],
   "source": [
    "original_list = [3, 4, 1, 9]\n",
    "rev_sorted_list = sorted(original_list, reverse=True)\n",
    "\n",
    "print(f\"{original_list=} => {rev_sorted_list=}\")\n"
   ]
  },
  {
   "attachments": {},
   "cell_type": "markdown",
   "metadata": {},
   "source": [
    "# 總結\n"
   ]
  },
  {
   "attachments": {},
   "cell_type": "markdown",
   "metadata": {},
   "source": [
    "## Example 1\n"
   ]
  },
  {
   "cell_type": "code",
   "execution_count": 104,
   "metadata": {},
   "outputs": [
    {
     "name": "stdout",
     "output_type": "stream",
     "text": [
      "concl[1:4] = [2, 3, 4]\n",
      "concl[1:4:2] = [2, 4]\n"
     ]
    }
   ],
   "source": [
    "concl = [1, 2, 3, 4, 5, 6, 7, 8, 9, 10]\n",
    "print(f\"{concl[1:4] = }\")  # 取出索引 1 ~ 3 的元素\n",
    "print(f\"{concl[1:4:2] = }\")\n"
   ]
  },
  {
   "cell_type": "code",
   "execution_count": 105,
   "metadata": {},
   "outputs": [
    {
     "name": "stdout",
     "output_type": "stream",
     "text": [
      "After deleting: concl = [1, 6, 8, 9, 10]\n"
     ]
    }
   ],
   "source": [
    "del concl[1:4]\n",
    "del concl[1:4:2]\n",
    "print(f\"After deleting: {concl = }\")\n"
   ]
  },
  {
   "cell_type": "code",
   "execution_count": 106,
   "metadata": {},
   "outputs": [
    {
     "name": "stdout",
     "output_type": "stream",
     "text": [
      "len(concl) = 5\n",
      "min(concl) = 1\n",
      "max(concl) = 10\n"
     ]
    }
   ],
   "source": [
    "print(f\"{len(concl) = }\")\n",
    "print(f\"{min(concl) = }\")\n",
    "print(f\"{max(concl) = }\")\n"
   ]
  },
  {
   "cell_type": "code",
   "execution_count": 107,
   "metadata": {},
   "outputs": [
    {
     "name": "stdout",
     "output_type": "stream",
     "text": [
      "concl.index(6) = 1\n",
      "concl.count(5) = 0\n"
     ]
    }
   ],
   "source": [
    "print(f\"{concl.index(6) = }\")  # 查出元素所在索引\n",
    "print(f\"{concl.count(5) = }\")  # 查出元素重複個數\n"
   ]
  },
  {
   "cell_type": "code",
   "execution_count": 108,
   "metadata": {},
   "outputs": [
    {
     "name": "stdout",
     "output_type": "stream",
     "text": [
      "After appending: concl = [1, 6, 8, 9, 10, 8]\n"
     ]
    }
   ],
   "source": [
    "concl.append(8)  # 在串列末尾加入元素\n",
    "print(f\"After appending: {concl = }\")\n"
   ]
  },
  {
   "cell_type": "code",
   "execution_count": 109,
   "metadata": {},
   "outputs": [
    {
     "name": "stdout",
     "output_type": "stream",
     "text": [
      "After inserting: concl = [1, 6, 8, 9, 9, 10, 8]\n"
     ]
    }
   ],
   "source": [
    "concl.insert(3, 9)  # 指定索引加入元素\n",
    "print(f\"After inserting: {concl = }\")\n"
   ]
  },
  {
   "cell_type": "code",
   "execution_count": 110,
   "metadata": {},
   "outputs": [
    {
     "name": "stdout",
     "output_type": "stream",
     "text": [
      "After popping: concl = [1, 6, 8, 9, 9, 10]\n"
     ]
    }
   ],
   "source": [
    "concl.pop()  # 刪除/取出元素\n",
    "print(f\"After popping: {concl = }\")\n"
   ]
  },
  {
   "cell_type": "code",
   "execution_count": 111,
   "metadata": {},
   "outputs": [
    {
     "name": "stdout",
     "output_type": "stream",
     "text": [
      "After removing: concl = [1, 8, 9, 9, 10]\n"
     ]
    }
   ],
   "source": [
    "concl.remove(6)  # 移除元素\n",
    "print(f\"After removing: {concl = }\")\n"
   ]
  },
  {
   "cell_type": "code",
   "execution_count": 112,
   "metadata": {},
   "outputs": [
    {
     "name": "stdout",
     "output_type": "stream",
     "text": [
      "ValueError when x not in list: list.remove(x): x not in list\n"
     ]
    }
   ],
   "source": [
    "try:\n",
    "    concl.remove(2)  # 移除不存在會出錯\n",
    "except Exception as e:\n",
    "    print(\"ValueError when x not in list:\", e)\n"
   ]
  },
  {
   "cell_type": "code",
   "execution_count": 113,
   "metadata": {},
   "outputs": [
    {
     "name": "stdout",
     "output_type": "stream",
     "text": [
      "concl = [10, 9, 9, 8, 1]\n"
     ]
    }
   ],
   "source": [
    "concl.reverse()  # 反轉\n",
    "print(f\"{concl = }\")\n"
   ]
  },
  {
   "cell_type": "code",
   "execution_count": 114,
   "metadata": {},
   "outputs": [
    {
     "name": "stdout",
     "output_type": "stream",
     "text": [
      "concl = [1, 8, 9, 9, 10]\n"
     ]
    }
   ],
   "source": [
    "concl.sort()  # 排序\n",
    "print(f\"{concl = }\")\n"
   ]
  },
  {
   "attachments": {},
   "cell_type": "markdown",
   "metadata": {},
   "source": [
    "# 字串操作\n"
   ]
  },
  {
   "attachments": {},
   "cell_type": "markdown",
   "metadata": {},
   "source": [
    "## `split()`\n",
    "\n",
    "將字串指定分隔符拆成串列。\n",
    "\n",
    "    str.split(sep?: str): list[str]\n"
   ]
  },
  {
   "cell_type": "code",
   "execution_count": 115,
   "metadata": {},
   "outputs": [
    {
     "name": "stdout",
     "output_type": "stream",
     "text": [
      "s1.split('.') = ['Occaecat sint elit fugiat officia quis eiusmod consectetur mollit veniam quis minim et', ' Quis aliqua cillum irure est esse amet', ' Tempor ex ut non labore labore officia reprehenderit pariatur occaecat et velit non', ' Magna nisi labore aliqua est do veniam dolore', ' Cillum esse dolor ea ex magna veniam', '']\n"
     ]
    }
   ],
   "source": [
    "s1 = \"Occaecat sint elit fugiat officia quis eiusmod consectetur mollit veniam quis minim et. Quis aliqua cillum irure est esse amet. Tempor ex ut non labore labore officia reprehenderit pariatur occaecat et velit non. Magna nisi labore aliqua est do veniam dolore. Cillum esse dolor ea ex magna veniam.\"\n",
    "print(f\"{s1.split('.') = }\")\n"
   ]
  },
  {
   "attachments": {},
   "cell_type": "markdown",
   "metadata": {},
   "source": [
    "## `replace()`\n",
    "\n",
    "將字串中子字串換成指定字串。\n",
    "\n",
    "    str.replace(old: str, new: str, [count: int]): str\n"
   ]
  },
  {
   "cell_type": "code",
   "execution_count": 116,
   "metadata": {},
   "outputs": [
    {
     "name": "stdout",
     "output_type": "stream",
     "text": [
      "s1.replace('.', ',') = 'Occaecat sint elit fugiat officia quis eiusmod consectetur mollit veniam quis minim et, Quis aliqua cillum irure est esse amet, Tempor ex ut non labore labore officia reprehenderit pariatur occaecat et velit non, Magna nisi labore aliqua est do veniam dolore, Cillum esse dolor ea ex magna veniam,'\n",
      "s1.replace('.', ',', 1) = 'Occaecat sint elit fugiat officia quis eiusmod consectetur mollit veniam quis minim et, Quis aliqua cillum irure est esse amet. Tempor ex ut non labore labore officia reprehenderit pariatur occaecat et velit non. Magna nisi labore aliqua est do veniam dolore. Cillum esse dolor ea ex magna veniam.'\n"
     ]
    }
   ],
   "source": [
    "print(f\"{s1.replace('.', ',') = }\")\n",
    "print(f\"{s1.replace('.', ',', 1) = }\")"
   ]
  },
  {
   "attachments": {},
   "cell_type": "markdown",
   "metadata": {},
   "source": [
    "## `find()`\n",
    "\n",
    "尋找字串中指定子字串所在之索引。\n",
    "\n",
    "    str.find(sub[, start[, end]]) -> int\n"
   ]
  },
  {
   "cell_type": "code",
   "execution_count": 117,
   "metadata": {},
   "outputs": [
    {
     "name": "stdout",
     "output_type": "stream",
     "text": [
      "s1 = 'Occaecat sint elit fugiat officia quis eiusmod consectetur mollit veniam quis minim et. Quis aliqua cillum irure est esse amet. Tempor ex ut non labore labore officia reprehenderit pariatur occaecat et velit non. Magna nisi labore aliqua est do veniam dolore. Cillum esse dolor ea ex magna veniam.'\n",
      "s1.find('cillum') = 100\n",
      "s1.find('.') = 86\n"
     ]
    }
   ],
   "source": [
    "print(f\"{s1 = }\")\n",
    "print(f\"{s1.find('cillum') = }\")\n",
    "print(f\"{s1.find('.') = }\")"
   ]
  },
  {
   "cell_type": "code",
   "execution_count": 118,
   "metadata": {},
   "outputs": [],
   "source": [
    "email = \"mailto:yyhou@nkust.edu.tw\""
   ]
  },
  {
   "attachments": {},
   "cell_type": "markdown",
   "metadata": {},
   "source": [
    "## `startswith()`\n",
    "\n",
    "判斷字串是否以指定子字串開頭。\n",
    "\n",
    "    str.startswith(prefix[, start[, end]]) -> bool\n"
   ]
  },
  {
   "cell_type": "code",
   "execution_count": 119,
   "metadata": {},
   "outputs": [
    {
     "name": "stdout",
     "output_type": "stream",
     "text": [
      "email = 'mailto:yyhou@nkust.edu.tw'\n",
      "email.startswith('mailto') = True\n",
      "email.startswith('to') = False\n"
     ]
    }
   ],
   "source": [
    "# 可以檢查是不是合法的信箱地址\n",
    "\n",
    "print(f\"{email = }\")\n",
    "print(f\"{email.startswith('mailto') = }\")\n",
    "print(f\"{email.startswith('to') = }\")"
   ]
  },
  {
   "attachments": {},
   "cell_type": "markdown",
   "metadata": {},
   "source": [
    "## `endswith()`\n",
    "\n",
    "判斷字串是否以指定子字串結尾。\n",
    "\n",
    "    str.endswith(prefix[, start[, end]]) -> bool\n"
   ]
  },
  {
   "cell_type": "code",
   "execution_count": 120,
   "metadata": {},
   "outputs": [
    {
     "name": "stdout",
     "output_type": "stream",
     "text": [
      "email = 'mailto:yyhou@nkust.edu.tw'\n",
      "email.endswith('tw') = True\n",
      "email.endswith('cn') = False\n"
     ]
    }
   ],
   "source": [
    "# 可以檢查是不是外國信件\n",
    "\n",
    "print(f\"{email = }\")\n",
    "print(f\"{email.endswith('tw') = }\")\n",
    "print(f\"{email.endswith('cn') = }\")"
   ]
  },
  {
   "attachments": {},
   "cell_type": "markdown",
   "metadata": {},
   "source": [
    "# dict (字典, dictionary)"
   ]
  },
  {
   "attachments": {},
   "cell_type": "markdown",
   "metadata": {},
   "source": [
    "## 語法\n",
    "\n",
    "1. `name = {key1: value1, key2: value2, ...}`\n",
    "2. `name = dict([[key1, value1], [key2, value2], ...])`\n",
    "\" `name = dict([(key1, value1), (key2, value2], ...))`\",\n",
    "4. `name = dict(key1=value1, key2=value2, …)`"
   ]
  },
  {
   "cell_type": "code",
   "execution_count": 121,
   "metadata": {},
   "outputs": [],
   "source": [
    "dict1 = {}\n",
    "dict2 = {\"name\": \"Pan\", \"age\": 18}"
   ]
  },
  {
   "cell_type": "code",
   "execution_count": 122,
   "metadata": {},
   "outputs": [],
   "source": [
    "dict1 = dict()\n",
    "dict2 = dict([[\"name\", \"Pan\"], [\"age\", \"18\"]])"
   ]
  },
  {
   "cell_type": "code",
   "execution_count": 123,
   "metadata": {},
   "outputs": [],
   "source": [
    "dict2 = dict([(\"name\", \"Pan\"), (\"age\", 18)])"
   ]
  },
  {
   "cell_type": "code",
   "execution_count": 124,
   "metadata": {},
   "outputs": [
    {
     "data": {
      "text/plain": [
       "{'name': 'Pan', 'age': 18}"
      ]
     },
     "execution_count": 124,
     "metadata": {},
     "output_type": "execute_result"
    }
   ],
   "source": [
    "dict(name = \"Pan\", age = 18)"
   ]
  },
  {
   "attachments": {},
   "cell_type": "markdown",
   "metadata": {},
   "source": [
    "## 取值\n",
    "\n",
    "    name[key]"
   ]
  },
  {
   "cell_type": "code",
   "execution_count": 125,
   "metadata": {},
   "outputs": [
    {
     "name": "stdout",
     "output_type": "stream",
     "text": [
      "human['name'] = 'John'\n",
      "human['age'] = 20\n",
      "human['height'] = 170\n",
      "human['weight'] = 60\n"
     ]
    }
   ],
   "source": [
    "human = {'name': 'John', 'age': 20, 'height': 170, 'weight': 60}\n",
    "\n",
    "print(f\"{human['name'] = }\")\n",
    "print(f\"{human['age'] = }\")\n",
    "print(f\"{human['height'] = }\")\n",
    "print(f\"{human['weight'] = }\")"
   ]
  },
  {
   "cell_type": "code",
   "execution_count": 126,
   "metadata": {},
   "outputs": [
    {
     "name": "stdout",
     "output_type": "stream",
     "text": [
      "如果給了不存在的值，會拋 KeyError: 'owo'\n"
     ]
    }
   ],
   "source": [
    "try:\n",
    "    human['owo']\n",
    "except Exception as e:\n",
    "    print(\"如果給了不存在的值，會拋 KeyError:\", e)"
   ]
  },
  {
   "attachments": {},
   "cell_type": "markdown",
   "metadata": {},
   "source": [
    "## 安全取值\n",
    "\n",
    "    name.get(key)"
   ]
  },
  {
   "cell_type": "code",
   "execution_count": 127,
   "metadata": {},
   "outputs": [
    {
     "name": "stdout",
     "output_type": "stream",
     "text": [
      "human.get('owo') = None\n"
     ]
    }
   ],
   "source": [
    "# 用 get 可以得到 non-exception (T | None) 的結果\n",
    "print(f\"{human.get('owo') = }\")"
   ]
  },
  {
   "cell_type": "code",
   "execution_count": 128,
   "metadata": {},
   "outputs": [
    {
     "name": "stdout",
     "output_type": "stream",
     "text": [
      "human.get('owo', '不在字典內') = '不在字典內'\n"
     ]
    }
   ],
   "source": [
    "# 預設值\n",
    "print(f\"{human.get('owo', '不在字典內') = }\")"
   ]
  },
  {
   "cell_type": "code",
   "execution_count": 129,
   "metadata": {},
   "outputs": [
    {
     "name": "stdout",
     "output_type": "stream",
     "text": [
      "O型有著「喜歡跟別人講話」的特質\n"
     ]
    }
   ],
   "source": [
    "from random import choice\n",
    "\n",
    "\n",
    "table = {\n",
    "    \"A型\": [\n",
    "        \"在奇怪的地方有原則\",\n",
    "        \"不擅長道歉\",\n",
    "        \"容易悲觀\",\n",
    "        \"好強\",\n",
    "        \"不擅長口出惡言\",\n",
    "        \"深思熟慮後才行動\",\n",
    "        \"和平主義者\",\n",
    "        \"擅長配合別人\",\n",
    "        \"煩躁的時候不愛說話\",\n",
    "        \"容易忽視別人\",\n",
    "        \"不坦率\",\n",
    "        \"不擅長說明\",\n",
    "        \"責任感強\",\n",
    "        \"對喜歡的事物會堅持\",\n",
    "        \"獨佔慾強\",\n",
    "        \"會為了別人勉強自己\",\n",
    "        \"常在意很奇怪的點\",\n",
    "        \"喜歡努力堅持\",\n",
    "        \"直覺很準\",\n",
    "        \"初次見面會照顧對方情緒\",\n",
    "        \"怕麻煩\",\n",
    "        \"愛哭\",\n",
    "        \"不擅長拒絕 \",\n",
    "        \"優柔寡斷\",\n",
    "        \"不會半途而廢\",\n",
    "    ],\n",
    "    \"B型\": [\n",
    "        \"比較有常識\",\n",
    "        \"不擅長沉默\",\n",
    "        \"話題經常轉變\",\n",
    "        \"討厭很多人的時候\",\n",
    "        \"就算是友人的邀請也會拒絕\",\n",
    "        \"討厭閒著沒事\",\n",
    "        \"和人交往慢熱\",\n",
    "        \"三天打魚兩天曬網\",\n",
    "        \"不喜歡的人會一直不喜歡\",\n",
    "        \"大大咧咧\",\n",
    "        \"健忘\",\n",
    "        \"討厭被麻煩\",\n",
    "        \"自由奔放\",\n",
    "        \"很難冷靜下來\",\n",
    "        \"討厭背後說人壞話\",\n",
    "        \"不想去察言觀色\",\n",
    "        \"距離太近就想逃避\",\n",
    "        \"口風很緊\",\n",
    "        \"說話聲音很大\",\n",
    "        \"不擅長說謊\",\n",
    "        \"想做就能做到\",\n",
    "        \"無法忍受沒有獨處的時光\",\n",
    "        \"生氣起來很嚇人\",\n",
    "        \"怕寂寞\",\n",
    "        \"喜怒形於色\",\n",
    "    ],\n",
    "    \"AB型\": [\n",
    "        \"熱血行動派\",\n",
    "        \"有點懶散\",\n",
    "        \"常後悔\",\n",
    "        \"沉迷某事異常熱情\",\n",
    "        \"沉著冷靜\",\n",
    "        \"比起磨磨蹭蹭更喜歡一鼓作氣\",\n",
    "        \"不擅長拒絕別人\",\n",
    "        \"某些方面很謹慎\",\n",
    "        \"容易拘泥不知變通\",\n",
    "        \"喜歡被依賴\",\n",
    "        \"在奇怪的方面非常頑固\",\n",
    "        \"黑白分明\",\n",
    "        \"沒長性\",\n",
    "        \"領悟力好\",\n",
    "        \"易招來誤解\",\n",
    "        \"喜歡逞強\",\n",
    "        \"常把麻煩掛在嘴邊\",\n",
    "        \"不擅長表現自己\",\n",
    "        \"怕生害羞\",\n",
    "        \"喜歡收集東西\",\n",
    "        \"不喜歡人多的地方\",\n",
    "        \"喜歡分析別人\",\n",
    "        \"擅長社交\",\n",
    "        \"表面功夫做的很好\",\n",
    "        \"好惡分明\",\n",
    "    ],\n",
    "    \"O型\": [\n",
    "        \"容易小題大做\",\n",
    "        \"拖延症重度患者\",\n",
    "        \"容易嫉妒\",\n",
    "        \"容易一見鍾情\",\n",
    "        \"喜歡跟別人講話\",\n",
    "        \"無法長時間持續太拼的狀態\",\n",
    "        \"討厭競爭\",\n",
    "        \"自尊心很強\",\n",
    "        \"說話有點浮誇\",\n",
    "        \"很會察言觀色\",\n",
    "        \"擅長照顧別人的心情\",\n",
    "        \"常因馬虎犯小錯誤\",\n",
    "        \"基本上算樂觀主義者\",\n",
    "        \"被誇獎後進步更快\",\n",
    "        \"意外的宅\",\n",
    "        \"不會按照計劃行事\",\n",
    "        \"生氣的話就會覺得很麻煩\",\n",
    "        \"善於傾聽別人的煩惱\",\n",
    "        \"討厭麻煩\",\n",
    "        \"口頭禪是「睏」\",\n",
    "        \"運氣不錯\",\n",
    "        \"總是會記住很奇怪的小事\",\n",
    "        \"對人忽冷忽熱\",\n",
    "        \"常會先道歉\",\n",
    "        \"行動先於思考\",\n",
    "    ],\n",
    "}\n",
    "\n",
    "personality = input(\"請輸入你要查詢的血型：\")\n",
    "personality_list = table.get(personality)\n",
    "\n",
    "if personality_list == None:\n",
    "    print(\"查無此血型\")\n",
    "    exit()\n",
    "\n",
    "print(f\"{personality}有著「{choice(personality_list)}」的特質\")\n"
   ]
  },
  {
   "attachments": {},
   "cell_type": "markdown",
   "metadata": {},
   "source": [
    "## 字典維護"
   ]
  },
  {
   "cell_type": "code",
   "execution_count": 130,
   "metadata": {},
   "outputs": [
    {
     "name": "stdout",
     "output_type": "stream",
     "text": [
      "{'侯先生': 2, '王小明': 1, '吳小姐': 4}\n"
     ]
    }
   ],
   "source": [
    "human_table = {\"侯先生\" : 2, \"王小明\": 1, \"吳小姐\": 4}\n",
    "print(human_table)"
   ]
  },
  {
   "cell_type": "code",
   "execution_count": 131,
   "metadata": {},
   "outputs": [
    {
     "name": "stdout",
     "output_type": "stream",
     "text": [
      "{'侯先生': 6, '王小明': 1, '吳小姐': 4}\n"
     ]
    }
   ],
   "source": [
    "human_table[\"侯先生\"] = 6  # key 存在則改變其 value\n",
    "print(human_table)"
   ]
  },
  {
   "cell_type": "code",
   "execution_count": 132,
   "metadata": {},
   "outputs": [
    {
     "name": "stdout",
     "output_type": "stream",
     "text": [
      "{'侯先生': 6, '王小明': 1, '吳小姐': 4, '侯先': 12}\n"
     ]
    }
   ],
   "source": [
    "human_table[\"侯先\"] = 12 # 不存在則補上\n",
    "print(human_table)"
   ]
  },
  {
   "cell_type": "code",
   "execution_count": 133,
   "metadata": {},
   "outputs": [
    {
     "name": "stdout",
     "output_type": "stream",
     "text": [
      "如果沒有對應的 key，會出現 KeyError\n"
     ]
    }
   ],
   "source": [
    "del human_table[\"侯先\"] # 刪除\n",
    "\n",
    "try:\n",
    "    del human_table[\"嗨\"]\n",
    "except KeyError:\n",
    "    print(\"如果沒有對應的 key，會出現 KeyError\")"
   ]
  },
  {
   "cell_type": "code",
   "execution_count": 134,
   "metadata": {},
   "outputs": [],
   "source": [
    "human_table.clear()\n",
    "del human_table"
   ]
  },
  {
   "attachments": {},
   "cell_type": "markdown",
   "metadata": {},
   "source": [
    "## 合併字典"
   ]
  },
  {
   "cell_type": "code",
   "execution_count": 135,
   "metadata": {},
   "outputs": [
    {
     "name": "stdout",
     "output_type": "stream",
     "text": [
      "left={'a': 1, 'b': 3, 'c': 4}\n"
     ]
    }
   ],
   "source": [
    "left = {\"a\": 1, \"b\": 2}\n",
    "right = {\"b\": 3, \"c\": 4}\n",
    "left.update(right)\n",
    "\n",
    "print(f\"{left=}\")"
   ]
  },
  {
   "attachments": {},
   "cell_type": "markdown",
   "metadata": {},
   "source": [
    "## 複製字典"
   ]
  },
  {
   "cell_type": "code",
   "execution_count": 136,
   "metadata": {},
   "outputs": [
    {
     "name": "stdout",
     "output_type": "stream",
     "text": [
      "left is right = True\n"
     ]
    }
   ],
   "source": [
    "left = {\"a\": 1, \"b\": 2}\n",
    "right = left\n",
    "\n",
    "# 指向同一個物件，right 為 left 的 reference\n",
    "print(f\"{left is right = }\")"
   ]
  },
  {
   "cell_type": "code",
   "execution_count": 137,
   "metadata": {},
   "outputs": [
    {
     "name": "stdout",
     "output_type": "stream",
     "text": [
      "left is right = False\n"
     ]
    }
   ],
   "source": [
    "right = left.copy()\n",
    "\n",
    "# 不同物件！\n",
    "print(f\"{left is right = }\")"
   ]
  },
  {
   "cell_type": "markdown",
   "metadata": {},
   "source": [
    "## Example 2: 輸入名字查詢成績"
   ]
  },
  {
   "cell_type": "code",
   "execution_count": 138,
   "metadata": {},
   "outputs": [
    {
     "name": "stdout",
     "output_type": "stream",
     "text": [
      "侯先生 的分數是 100\n"
     ]
    }
   ],
   "source": [
    "dict_scores = {\n",
    "    \"侯先生\": 100,\n",
    "    \"王小姐\": 87,\n",
    "    \"吳小姐\": 40\n",
    "}\n",
    "\n",
    "name = input(\"請輸入想要查詢的姓名：\")\n",
    "\n",
    "if name in dict_scores:\n",
    "    print(name, \"的分數是\", dict_scores[name])\n",
    "else:\n",
    "    score = input(\"尚未登記。請補成績：\")           \n",
    "    dict_scores[name] = int(score)\n",
    "    print(\"成績字典內容：\", dict_scores)"
   ]
  },
  {
   "cell_type": "code",
   "execution_count": 141,
   "metadata": {},
   "outputs": [
    {
     "name": "stdout",
     "output_type": "stream",
     "text": [
      "keys=dict_keys(['侯先生', '王小姐', '吳小姐'])\n",
      "dict_in_list=['侯先生', '王小姐', '吳小姐'], list_first_key='侯先生'\n"
     ]
    }
   ],
   "source": [
    "dict_scores = {\n",
    "    \"侯先生\": 100,\n",
    "    \"王小姐\": 87,\n",
    "    \"吳小姐\": 40\n",
    "}\n",
    "\n",
    "keys = dict_scores.keys()\n",
    "print(f\"{keys=}\")\n",
    "# first_key = keys[0] # dict_keys 不可以這麼寫！！\n",
    "\n",
    "dict_in_list = list(keys)\n",
    "list_first_key = dict_in_list[0]\n",
    "print(f\"{dict_in_list=}, {list_first_key=}\")"
   ]
  },
  {
   "cell_type": "code",
   "execution_count": 142,
   "metadata": {},
   "outputs": [
    {
     "name": "stdout",
     "output_type": "stream",
     "text": [
      "values=dict_values([100, 87, 40])\n",
      "values_list=[100, 87, 40], values_list[0]=100\n"
     ]
    }
   ],
   "source": [
    "dict_scores = {\n",
    "    \"侯先生\": 100,\n",
    "    \"王小姐\": 87,\n",
    "    \"吳小姐\": 40\n",
    "}\n",
    "\n",
    "values = dict_scores.values()\n",
    "print(f\"{values=}\")\n",
    "values_list = list(values)\n",
    "print(f\"{values_list=}, {values_list[0]=}\")"
   ]
  }
 ],
 "metadata": {
  "kernelspec": {
   "display_name": "Python 3.11.0 64-bit ('3.11.0')",
   "language": "python",
   "name": "python3"
  },
  "language_info": {
   "codemirror_mode": {
    "name": "ipython",
    "version": 3
   },
   "file_extension": ".py",
   "mimetype": "text/x-python",
   "name": "python",
   "nbconvert_exporter": "python",
   "pygments_lexer": "ipython3",
   "version": "3.11.0"
  },
  "orig_nbformat": 4,
  "vscode": {
   "interpreter": {
    "hash": "434c48eb33f3035c2bc7ac5821eeed91fc4329cf70a74c45c510d3afe1b4a362"
   }
  }
 },
 "nbformat": 4,
 "nbformat_minor": 2
}
