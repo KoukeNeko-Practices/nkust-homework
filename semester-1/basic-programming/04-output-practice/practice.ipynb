{
 "cells": [
  {
   "cell_type": "markdown",
   "metadata": {},
   "source": [
    "# 練習題 1\n",
    "\n",
    "請設計程式以 print 命令的參數格式化方式整齊列印出下列結果。\n",
    "\n",
    "![](p1.png)"
   ]
  },
  {
   "cell_type": "code",
   "execution_count": 1,
   "metadata": {},
   "outputs": [
    {
     "name": "stdout",
     "output_type": "stream",
     "text": [
      "姓名\t座號\t國文\t數學\t英文\n",
      "林大明\t   1\t 100\t  87\t  79\n",
      "陳阿中\t   2\t  74\t  88\t 100\n",
      "林大明\t  11\t  82\t  65\t   8\n"
     ]
    }
   ],
   "source": [
    "users = [\n",
    "    {\"姓名\": \"林大明\", \"座號\": 1, \"國文\": 100, \"數學\": 87, \"英文\": 79},\n",
    "    {\"姓名\": \"陳阿中\", \"座號\": 2, \"國文\": 74, \"數學\": 88, \"英文\": 100},\n",
    "    {\"姓名\": \"林大明\", \"座號\": 11, \"國文\": 82, \"數學\": 65, \"英文\": 8},\n",
    "]\n",
    "\n",
    "print(\"姓名\\t座號\\t國文\\t數學\\t英文\")\n",
    "for user in users:\n",
    "    print(\n",
    "        (\n",
    "            f\"{user['姓名']}\\t\"\n",
    "            f\"{user['座號']:>4}\\t\"\n",
    "            f\"{user['國文']:>4}\\t\"\n",
    "            f\"{user['數學']:>4}\\t\"\n",
    "            f\"{user['英文']:>4}\"\n",
    "        )\n",
    "    )\n"
   ]
  },
  {
   "cell_type": "markdown",
   "metadata": {},
   "source": [
    "# 練習題 2\n",
    "\n",
    "請設計程式以 print 命令的參數格式化方式整齊列印出下列結果。\n",
    "\n",
    "![](p2.png)"
   ]
  },
  {
   "cell_type": "code",
   "execution_count": 2,
   "metadata": {},
   "outputs": [
    {
     "name": "stdout",
     "output_type": "stream",
     "text": [
      "年度  所得稅  營業稅  證交稅\n",
      "2017   98.34   90.20  104.79\n",
      "2016   83.00  110.50   82.45\n",
      "2015   98.00   79.32  102.00\n"
     ]
    }
   ],
   "source": [
    "from dataclasses import dataclass\n",
    "\n",
    "\n",
    "@dataclass()\n",
    "class Tax:\n",
    "    yr: int\n",
    "    income: float\n",
    "    business: float\n",
    "    stock: float\n",
    "\n",
    "\n",
    "tax_list = [\n",
    "    Tax(2017, 98.34, 90.20, 104.79),\n",
    "    Tax(2016, 83.00, 110.50, 82.45),\n",
    "    Tax(2015, 98.00, 79.32, 102.00)\n",
    "]\n",
    "\n",
    "print(f\"年度  所得稅  營業稅  證交稅\")\n",
    "for tax in tax_list:\n",
    "    # 考慮到一個中文字佔 2 個數字字元，\n",
    "    # 因此這裡的 align specifier 是有根據\n",
    "    # 中英欄位進行調整的。\n",
    "    print((\n",
    "        f\"{tax.yr}  \"\n",
    "        f\"{tax.income:>6.2f}  \"\n",
    "        f\"{tax.business:>6.2f}  \"\n",
    "        f\"{tax.stock:>6.2f}\"\n",
    "    ))\n"
   ]
  }
 ],
 "metadata": {
  "kernelspec": {
   "display_name": "Python 3",
   "language": "python",
   "name": "python3"
  },
  "language_info": {
   "codemirror_mode": {
    "name": "ipython",
    "version": 3
   },
   "file_extension": ".py",
   "mimetype": "text/x-python",
   "name": "python",
   "nbconvert_exporter": "python",
   "pygments_lexer": "ipython3",
   "version": "3.7.13"
  },
  "orig_nbformat": 4,
  "vscode": {
   "interpreter": {
    "hash": "d65f5fbe4938e4499fff552b8601f0c610a4de07a84c43b8b48d5dfabe9f4f03"
   }
  }
 },
 "nbformat": 4,
 "nbformat_minor": 2
}
