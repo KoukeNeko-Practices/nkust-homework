{
 "cells": [
  {
   "cell_type": "markdown",
   "metadata": {},
   "source": [
    "# 資料儲存容器 (Container)\n",
    "\n",
    "- `tuple` 元組\n",
    "- `list` 串列\n",
    "- `dict` 字典\n",
    "- `set` 集合\n"
   ]
  },
  {
   "cell_type": "markdown",
   "metadata": {},
   "source": [
    "# tuple"
   ]
  },
  {
   "cell_type": "markdown",
   "metadata": {},
   "source": [
    "## 空元素 Empty Element"
   ]
  },
  {
   "cell_type": "code",
   "execution_count": 75,
   "metadata": {},
   "outputs": [
    {
     "name": "stdout",
     "output_type": "stream",
     "text": [
      "()\n"
     ]
    }
   ],
   "source": [
    "t1 = ()\n",
    "print(t1)"
   ]
  },
  {
   "cell_type": "markdown",
   "metadata": {},
   "source": [
    "## 兩種宣告方式 Two ways to declare"
   ]
  },
  {
   "cell_type": "code",
   "execution_count": 76,
   "metadata": {},
   "outputs": [],
   "source": [
    "t2 = 1, 2, 3\n",
    "t3 = (1, 2, 3)\n",
    "assert t2 == t3"
   ]
  },
  {
   "cell_type": "markdown",
   "metadata": {},
   "source": [
    "## 透過 index 取出 element 元素\n"
   ]
  },
  {
   "cell_type": "code",
   "execution_count": 77,
   "metadata": {},
   "outputs": [
    {
     "name": "stdout",
     "output_type": "stream",
     "text": [
      "3\n"
     ]
    }
   ],
   "source": [
    "print(t3[2])"
   ]
  },
  {
   "cell_type": "markdown",
   "metadata": {},
   "source": [
    "## Tuple 是 Immutable (不可變) 的\n"
   ]
  },
  {
   "cell_type": "code",
   "execution_count": 78,
   "metadata": {},
   "outputs": [
    {
     "name": "stderr",
     "output_type": "stream",
     "text": [
      "Traceback (most recent call last):\n",
      "  File \"<stdin>\", line 1, in <module>\n",
      "NameError: name 't3' is not defined\n"
     ]
    }
   ],
   "source": [
    "%%script python3 --no-raise-error\n",
    "t3[2] = 4"
   ]
  },
  {
   "cell_type": "markdown",
   "metadata": {},
   "source": [
    "## Destruction 解構\n"
   ]
  },
  {
   "cell_type": "code",
   "execution_count": 79,
   "metadata": {},
   "outputs": [
    {
     "name": "stdout",
     "output_type": "stream",
     "text": [
      "a=1 b=2 c=3\n"
     ]
    }
   ],
   "source": [
    "a, b, c = t3\n",
    "print(f\"{a=} {b=} {c=}\")"
   ]
  },
  {
   "cell_type": "markdown",
   "metadata": {},
   "source": [
    "## Swap number with temporary tuple object\n"
   ]
  },
  {
   "cell_type": "code",
   "execution_count": 80,
   "metadata": {},
   "outputs": [
    {
     "name": "stdout",
     "output_type": "stream",
     "text": [
      "Before: a=1 b=2\n",
      "After:  a=2 b=1\n"
     ]
    }
   ],
   "source": [
    "print(f\"Before: {a=} {b=}\")\n",
    "a, b = b, a\n",
    "print(f\"After:  {a=} {b=}\")"
   ]
  },
  {
   "cell_type": "markdown",
   "metadata": {},
   "source": [
    "## 2D Tuple\n"
   ]
  },
  {
   "cell_type": "code",
   "execution_count": 81,
   "metadata": {},
   "outputs": [
    {
     "name": "stdout",
     "output_type": "stream",
     "text": [
      "1\n",
      "3\n",
      "5\n",
      "7\n"
     ]
    }
   ],
   "source": [
    "t4 = (1,  2, 3, 4)\n",
    "t5 = (t4, 5, 6, 7)\n",
    "\n",
    "print(t5[0][0])\n",
    "print(t5[0][2])\n",
    "print(t5[1])\n",
    "print(t5[3])"
   ]
  },
  {
   "cell_type": "markdown",
   "metadata": {},
   "source": [
    "## Out of range\n"
   ]
  },
  {
   "cell_type": "code",
   "execution_count": 82,
   "metadata": {},
   "outputs": [
    {
     "name": "stderr",
     "output_type": "stream",
     "text": [
      "Traceback (most recent call last):\n",
      "  File \"<stdin>\", line 1, in <module>\n",
      "NameError: name 't5' is not defined\n"
     ]
    }
   ],
   "source": [
    "%%script python3 --no-raise-error\n",
    "print(t5[0][6])"
   ]
  },
  {
   "cell_type": "markdown",
   "metadata": {},
   "source": [
    "# `list`\n"
   ]
  },
  {
   "cell_type": "markdown",
   "metadata": {},
   "source": [
    "## Definition\n"
   ]
  },
  {
   "cell_type": "code",
   "execution_count": 83,
   "metadata": {},
   "outputs": [],
   "source": [
    "list1 = []\n",
    "list2 = [1, 2, 3, 4]"
   ]
  },
  {
   "cell_type": "markdown",
   "metadata": {},
   "source": [
    "## Support Unicode\n"
   ]
  },
  {
   "cell_type": "code",
   "execution_count": 84,
   "metadata": {},
   "outputs": [],
   "source": [
    "list3 = [\"第一校區\", \"燕巢校區\", \"楠梓校區\"]"
   ]
  },
  {
   "cell_type": "markdown",
   "metadata": {},
   "source": [
    "## Hybrid Elements\n"
   ]
  },
  {
   "cell_type": "code",
   "execution_count": 85,
   "metadata": {},
   "outputs": [],
   "source": [
    "list4 = [1, 2, 3, \"第一校區\", \"燕巢校區\", \"楠梓校區\"]"
   ]
  },
  {
   "cell_type": "markdown",
   "metadata": {},
   "source": [
    "## Extract element\n"
   ]
  },
  {
   "cell_type": "code",
   "execution_count": 86,
   "metadata": {},
   "outputs": [
    {
     "name": "stdout",
     "output_type": "stream",
     "text": [
      "1\n",
      "燕巢校區\n"
     ]
    }
   ],
   "source": [
    "print(list4[0])\n",
    "print(list4[4])"
   ]
  },
  {
   "cell_type": "markdown",
   "metadata": {},
   "source": [
    "## Arrays are mutable\n"
   ]
  },
  {
   "cell_type": "code",
   "execution_count": 87,
   "metadata": {},
   "outputs": [
    {
     "name": "stdout",
     "output_type": "stream",
     "text": [
      "[1, 2, 3, '旗津校區', '燕巢校區', '楠梓校區']\n"
     ]
    }
   ],
   "source": [
    "list4[3] = \"旗津校區\"\n",
    "\n",
    "print(list4)"
   ]
  },
  {
   "cell_type": "markdown",
   "metadata": {},
   "source": [
    "## 2D Array\n"
   ]
  },
  {
   "cell_type": "code",
   "execution_count": 88,
   "metadata": {},
   "outputs": [
    {
     "name": "stdout",
     "output_type": "stream",
     "text": [
      "Alex\n",
      "Peko\n",
      "Jeremy\n",
      "14\n"
     ]
    }
   ],
   "source": [
    "list5 = [\n",
    "    [\"Alex\", \"12\"],\n",
    "    [\"Peko\", \"13\"],\n",
    "    [\"Jeremy\", \"14\"]\n",
    "]\n",
    "\n",
    "print(list5[0][0])\n",
    "print(list5[1][0])\n",
    "print(list5[2][0])\n",
    "print(list5[2][1])"
   ]
  },
  {
   "cell_type": "markdown",
   "metadata": {},
   "source": [
    "## Pick reversely\n"
   ]
  },
  {
   "cell_type": "code",
   "execution_count": 89,
   "metadata": {},
   "outputs": [
    {
     "name": "stdout",
     "output_type": "stream",
     "text": [
      "燕巢校區\n"
     ]
    }
   ],
   "source": [
    "print(list3[-2])"
   ]
  },
  {
   "cell_type": "markdown",
   "metadata": {},
   "source": [
    "## Out of range (`IndexError`)\n"
   ]
  },
  {
   "cell_type": "code",
   "execution_count": 90,
   "metadata": {},
   "outputs": [
    {
     "name": "stderr",
     "output_type": "stream",
     "text": [
      "Traceback (most recent call last):\n",
      "  File \"<stdin>\", line 1, in <module>\n",
      "NameError: name 'list3' is not defined. Did you mean: 'list'?\n"
     ]
    }
   ],
   "source": [
    "%%script python3 --no-raise-error\n",
    "print(list3[3])"
   ]
  },
  {
   "cell_type": "markdown",
   "metadata": {},
   "source": [
    "## Example – score\n"
   ]
  },
  {
   "cell_type": "code",
   "execution_count": 91,
   "metadata": {},
   "outputs": [
    {
     "name": "stdout",
     "output_type": "stream",
     "text": [
      "英文成績：85\n",
      "微積分成績：70\n",
      "程設成績：60\n"
     ]
    }
   ],
   "source": [
    "scores = [85, 70, 60]\n",
    "\n",
    "print(\"英文成績：%d\" % scores[0])\n",
    "print(\"微積分成績：%d\" % scores[1])\n",
    "print(\"程設成績：%d\" % scores[2])"
   ]
  },
  {
   "cell_type": "markdown",
   "metadata": {},
   "source": [
    "## Loop over list\n"
   ]
  },
  {
   "cell_type": "code",
   "execution_count": 92,
   "metadata": {},
   "outputs": [
    {
     "name": "stdout",
     "output_type": "stream",
     "text": [
      "85 70 60 "
     ]
    }
   ],
   "source": [
    "for s in scores:\n",
    "    print(s, end = \" \")"
   ]
  },
  {
   "cell_type": "markdown",
   "metadata": {},
   "source": [
    "## Calculate the length of list\n"
   ]
  },
  {
   "cell_type": "code",
   "execution_count": 93,
   "metadata": {},
   "outputs": [
    {
     "name": "stdout",
     "output_type": "stream",
     "text": [
      "3\n"
     ]
    }
   ],
   "source": [
    "print(len(scores))"
   ]
  },
  {
   "cell_type": "markdown",
   "metadata": {},
   "source": [
    "## Loop over list by index\n"
   ]
  },
  {
   "cell_type": "code",
   "execution_count": 94,
   "metadata": {},
   "outputs": [
    {
     "name": "stdout",
     "output_type": "stream",
     "text": [
      "85 70 60 "
     ]
    }
   ],
   "source": [
    "for s in range(len(scores)):\n",
    "    print(scores[s], end = \" \")"
   ]
  },
  {
   "cell_type": "markdown",
   "metadata": {},
   "source": [
    "## Example"
   ]
  },
  {
   "cell_type": "markdown",
   "metadata": {},
   "source": [
    "### Example 1 – subject scores"
   ]
  },
  {
   "cell_type": "code",
   "execution_count": 95,
   "metadata": {},
   "outputs": [
    {
     "name": "stdout",
     "output_type": "stream",
     "text": [
      "英文的成績為: 89 分\n",
      "程設的成績為: 77 分\n",
      "微積分的成績為: 56 分\n"
     ]
    }
   ],
   "source": [
    "subjects = [\"英文\", \"程設\", \"微積分\"]\n",
    "scores = [89, 77, 56]\n",
    "\n",
    "for i in range(len(subjects)):\n",
    "    print(\"%s的成績為: %d 分\" % (subjects[i], scores[i]))"
   ]
  },
  {
   "cell_type": "code",
   "execution_count": 96,
   "metadata": {},
   "outputs": [
    {
     "name": "stdout",
     "output_type": "stream",
     "text": [
      "英文的成績為: 89 分\n",
      "程設的成績為: 77 分\n",
      "微積分的成績為: 56 分\n"
     ]
    }
   ],
   "source": [
    "# Another way that is more elegant\n",
    "\n",
    "subjects = [\"英文\", \"程設\", \"微積分\"]\n",
    "scores = [89, 77, 56]\n",
    "\n",
    "for subject, score in zip(subjects, scores):\n",
    "    print(f\"{subject}的成績為: {score} 分\")"
   ]
  },
  {
   "cell_type": "markdown",
   "metadata": {},
   "source": [
    "### Practice a. – How to reverse the printing order?"
   ]
  },
  {
   "cell_type": "code",
   "execution_count": 97,
   "metadata": {},
   "outputs": [
    {
     "name": "stdout",
     "output_type": "stream",
     "text": [
      "微積分的成績為: 56 分\n",
      "程設的成績為: 77 分\n",
      "英文的成績為: 89 分\n"
     ]
    }
   ],
   "source": [
    "subjects = [\"英文\", \"程設\", \"微積分\"]\n",
    "scores = [89, 77, 56]\n",
    "\n",
    "# (-1, len(subjects) -1]\n",
    "for i in range(len(subjects) - 1, -1, -1):\n",
    "    print(\"%s的成績為: %d 分\" % (subjects[i], scores[i]))"
   ]
  },
  {
   "cell_type": "code",
   "execution_count": 98,
   "metadata": {},
   "outputs": [
    {
     "name": "stdout",
     "output_type": "stream",
     "text": [
      "微積分的成績為: 56 分\n",
      "程設的成績為: 77 分\n",
      "英文的成績為: 89 分\n"
     ]
    }
   ],
   "source": [
    "# Another way that is more elegant\n",
    "\n",
    "subjects = [\"英文\", \"程設\", \"微積分\"]\n",
    "scores = [89, 77, 56]\n",
    "\n",
    "for subject, score in reversed(list(zip(subjects, scores))):\n",
    "    print(f\"{subject}的成績為: {score} 分\")"
   ]
  },
  {
   "cell_type": "markdown",
   "metadata": {},
   "source": [
    "## `list::index` to get the index of specified element"
   ]
  },
  {
   "cell_type": "code",
   "execution_count": 99,
   "metadata": {},
   "outputs": [
    {
     "name": "stdout",
     "output_type": "stream",
     "text": [
      "2\n",
      "1\n"
     ]
    }
   ],
   "source": [
    "subjects = [\"英文\", \"程設\", \"微積分\"]\n",
    "scores = [89, 77, 56]\n",
    "\n",
    "print(scores.index(56))\n",
    "print(subjects.index(\"程設\"))"
   ]
  },
  {
   "cell_type": "markdown",
   "metadata": {},
   "source": [
    "### When the element is not existed, raise `ValueError`"
   ]
  },
  {
   "cell_type": "code",
   "execution_count": 100,
   "metadata": {},
   "outputs": [
    {
     "name": "stderr",
     "output_type": "stream",
     "text": [
      "Traceback (most recent call last):\n",
      "  File \"<stdin>\", line 1, in <module>\n",
      "NameError: name 'subject' is not defined. Did you mean: 'object'?\n"
     ]
    }
   ],
   "source": [
    "%%script python3 --no-raise-error\n",
    "print(subject.index(\"程設計\"))"
   ]
  },
  {
   "cell_type": "markdown",
   "metadata": {},
   "source": [
    "## `list::count` to count the duplicated elements"
   ]
  },
  {
   "cell_type": "code",
   "execution_count": 101,
   "metadata": {},
   "outputs": [
    {
     "name": "stdout",
     "output_type": "stream",
     "text": [
      "2\n",
      "0\n"
     ]
    }
   ],
   "source": [
    "scores = [89, 77, 56, 100, 100]\n",
    "\n",
    "print(scores.count(100))\n",
    "print(scores.count(90))"
   ]
  },
  {
   "cell_type": "markdown",
   "metadata": {},
   "source": [
    "## Append elements to the end of list\n",
    "\n",
    "Note that `list::append` is an *in-place* operation."
   ]
  },
  {
   "cell_type": "code",
   "execution_count": 102,
   "metadata": {},
   "outputs": [
    {
     "name": "stdout",
     "output_type": "stream",
     "text": [
      "['英文', '程設', '微積分', '加數學']\n",
      "['英文', '程設', '微積分', '加數學', '加數學']\n"
     ]
    }
   ],
   "source": [
    "subjects = [\"英文\", \"程設\", \"微積分\"]\n",
    "\n",
    "subjects.append(\"加數學\")\n",
    "print(subjects)\n",
    "\n",
    "# Another way that also works.\n",
    "subjects += [\"加數學\"]\n",
    "print(subjects)"
   ]
  },
  {
   "cell_type": "markdown",
   "metadata": {},
   "source": [
    "## Insert elements to anywhere in the list"
   ]
  },
  {
   "cell_type": "code",
   "execution_count": 107,
   "metadata": {},
   "outputs": [
    {
     "name": "stdout",
     "output_type": "stream",
     "text": [
      "['英文', '加數學', '程設', '微積分']\n"
     ]
    }
   ],
   "source": [
    "subjects = [\"英文\", \"程設\", \"微積分\"]\n",
    "\n",
    "subjects.insert(1, \"加數學\")\n",
    "print(subjects)"
   ]
  },
  {
   "cell_type": "markdown",
   "metadata": {},
   "source": [
    "### How about “over the range”?"
   ]
  },
  {
   "cell_type": "code",
   "execution_count": 108,
   "metadata": {},
   "outputs": [
    {
     "name": "stdout",
     "output_type": "stream",
     "text": [
      "['英文', '加數學', '程設', '微積分', '加加數學']\n"
     ]
    }
   ],
   "source": [
    "subjects.insert(7, \"加加數學\")\n",
    "print(subjects)"
   ]
  },
  {
   "cell_type": "markdown",
   "metadata": {},
   "source": [
    "We found that `insert` over the range is equivalent to `append`."
   ]
  },
  {
   "cell_type": "markdown",
   "metadata": {},
   "source": [
    "### How about a negative index?"
   ]
  },
  {
   "cell_type": "code",
   "execution_count": 109,
   "metadata": {},
   "outputs": [
    {
     "name": "stdout",
     "output_type": "stream",
     "text": [
      "['英文', '加數學', '程設', '微積分', '減減數學', '減數學', '加加數學']\n"
     ]
    }
   ],
   "source": [
    "subjects.insert(-1, \"減數學\")\n",
    "subjects.insert(-2, \"減減數學\")\n",
    "print(subjects)"
   ]
  }
 ],
 "metadata": {
  "kernelspec": {
   "display_name": "Python 3.11.0 64-bit ('3.11.0')",
   "language": "python",
   "name": "python3"
  },
  "language_info": {
   "codemirror_mode": {
    "name": "ipython",
    "version": 3
   },
   "file_extension": ".py",
   "mimetype": "text/x-python",
   "name": "python",
   "nbconvert_exporter": "python",
   "pygments_lexer": "ipython3",
   "version": "3.11.0"
  },
  "orig_nbformat": 4,
  "vscode": {
   "interpreter": {
    "hash": "434c48eb33f3035c2bc7ac5821eeed91fc4329cf70a74c45c510d3afe1b4a362"
   }
  }
 },
 "nbformat": 4,
 "nbformat_minor": 2
}
