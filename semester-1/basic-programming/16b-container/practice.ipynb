{
 "cells": [
  {
   "cell_type": "markdown",
   "metadata": {},
   "source": [
    "# Question 1\n",
    "\n",
    "請以串列設計一個輸入成績的程式。\n",
    "\n",
    "![](question-1.png)"
   ]
  },
  {
   "cell_type": "code",
   "execution_count": 3,
   "metadata": {},
   "outputs": [
    {
     "name": "stdout",
     "output_type": "stream",
     "text": [
      "共有 6 位學生\n",
      "本班總成績：395 分，平均成績：65.83 分\n"
     ]
    }
   ],
   "source": [
    "scores = []\n",
    "\n",
    "while True:\n",
    "    score_input = input(\"請輸入學生的成績：\")\n",
    "    if score_input == \"-1\": break\n",
    "    \n",
    "    scores.append(int(score_input))\n",
    "\n",
    "score_len = len(scores)\n",
    "score_sum = sum(scores)\n",
    "score_avg = score_sum / score_len\n",
    "\n",
    "print(f\"共有 {score_len} 位學生\")\n",
    "print(f\"本班總成績：{score_sum} 分，平均成績：{score_avg:.2f} 分\")"
   ]
  }
 ],
 "metadata": {
  "kernelspec": {
   "display_name": "Python 3.11.0 64-bit ('3.11.0')",
   "language": "python",
   "name": "python3"
  },
  "language_info": {
   "codemirror_mode": {
    "name": "ipython",
    "version": 3
   },
   "file_extension": ".py",
   "mimetype": "text/x-python",
   "name": "python",
   "nbconvert_exporter": "python",
   "pygments_lexer": "ipython3",
   "version": "3.11.0"
  },
  "orig_nbformat": 4,
  "vscode": {
   "interpreter": {
    "hash": "434c48eb33f3035c2bc7ac5821eeed91fc4329cf70a74c45c510d3afe1b4a362"
   }
  }
 },
 "nbformat": 4,
 "nbformat_minor": 2
}
