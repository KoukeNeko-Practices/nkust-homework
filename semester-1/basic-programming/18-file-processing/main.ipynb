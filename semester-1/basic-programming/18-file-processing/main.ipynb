{
 "cells": [
  {
   "attachments": {},
   "cell_type": "markdown",
   "metadata": {},
   "source": [
    "# 檔案處理\n",
    "\n",
    "    open(檔案名稱[, 模式[, 編碼]])\n",
    "\n",
    "模式：\n",
    "\n",
    "1. r (讀取) — 預設值\n",
    "2. w (寫入) — 如果檔案已存在，則會被覆蓋\n",
    "3. a (附加) — 如果檔案已存在，則會在檔案尾端附加"
   ]
  },
  {
   "attachments": {},
   "cell_type": "markdown",
   "metadata": {},
   "source": [
    "## Example 1: Write file"
   ]
  },
  {
   "cell_type": "code",
   "execution_count": 12,
   "metadata": {},
   "outputs": [],
   "source": [
    "content = \"\"\"hello\n",
    "高科大\n",
    "welcome\"\"\"\n",
    "\n",
    "f = open('file1.csv', 'w', encoding='utf-8')\n",
    "f.write(content)\n",
    "f.close()"
   ]
  },
  {
   "attachments": {},
   "cell_type": "markdown",
   "metadata": {},
   "source": [
    "## Get the current locale of system"
   ]
  },
  {
   "cell_type": "code",
   "execution_count": 13,
   "metadata": {},
   "outputs": [
    {
     "name": "stdout",
     "output_type": "stream",
     "text": [
      "('en_US', 'UTF-8')\n"
     ]
    }
   ],
   "source": [
    "import locale\n",
    "print(locale.getlocale())"
   ]
  },
  {
   "attachments": {},
   "cell_type": "markdown",
   "metadata": {},
   "source": [
    "## Example 2: Read file"
   ]
  },
  {
   "cell_type": "code",
   "execution_count": 14,
   "metadata": {},
   "outputs": [
    {
     "name": "stdout",
     "output_type": "stream",
     "text": [
      "hello\n",
      "高科大\n",
      "welcome"
     ]
    }
   ],
   "source": [
    "f = open('file1.csv', 'r', encoding='utf-8')\n",
    "for line in f:\n",
    "    print(line, end = \"\")\n",
    "f.close()"
   ]
  },
  {
   "attachments": {},
   "cell_type": "markdown",
   "metadata": {},
   "source": [
    "## Example 3: Append file"
   ]
  },
  {
   "cell_type": "code",
   "execution_count": 15,
   "metadata": {},
   "outputs": [],
   "source": [
    "content = \"\"\"[加]hello\n",
    "高科大\n",
    "welcome\"\"\"\n",
    "\n",
    "f = open('file1.csv', 'a', encoding='utf-8')\n",
    "f.write(content)\n",
    "f.close()"
   ]
  },
  {
   "attachments": {},
   "cell_type": "markdown",
   "metadata": {},
   "source": [
    "# `readlines()`"
   ]
  },
  {
   "cell_type": "code",
   "execution_count": 16,
   "metadata": {},
   "outputs": [
    {
     "name": "stdout",
     "output_type": "stream",
     "text": [
      "['hello\\n', '高科大\\n', 'welcome[加]hello\\n', '高科大\\n', 'welcome']\n"
     ]
    }
   ],
   "source": [
    "# context manager\n",
    "with open('file1.csv', 'r') as f:\n",
    "    print(f.readlines())"
   ]
  }
 ],
 "metadata": {
  "kernelspec": {
   "display_name": "Python 3.11.0 64-bit ('3.11.0')",
   "language": "python",
   "name": "python3"
  },
  "language_info": {
   "codemirror_mode": {
    "name": "ipython",
    "version": 3
   },
   "file_extension": ".py",
   "mimetype": "text/x-python",
   "name": "python",
   "nbconvert_exporter": "python",
   "pygments_lexer": "ipython3",
   "version": "3.11.0"
  },
  "orig_nbformat": 4,
  "vscode": {
   "interpreter": {
    "hash": "434c48eb33f3035c2bc7ac5821eeed91fc4329cf70a74c45c510d3afe1b4a362"
   }
  }
 },
 "nbformat": 4,
 "nbformat_minor": 2
}
