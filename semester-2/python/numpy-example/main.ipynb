{
 "cells": [
  {
   "attachments": {},
   "cell_type": "markdown",
   "metadata": {},
   "source": [
    "# Numpy"
   ]
  },
  {
   "attachments": {},
   "cell_type": "markdown",
   "metadata": {},
   "source": [
    "## 資料類型\n",
    "\n",
    "NumPy內建了比Python更多的資料型別，如下:\n",
    "\n",
    "- 布林: `bool_`、`bool8`\n",
    "- 整數: `byte`、`short`、`intc`、`int_`、`longlong`、`intp`、`int8`、`int16`、`int32`、`int64`\n",
    "- 無號整數: `ubyte`、`ushort`、`uintc`、`uint`、`ulonglong`、`uintp`、`uint8`、`uint16`、`uint32`、`uint64`\n",
    "- 浮點數: `half`、`single`、`double`、`float_`、`longfloat`、`float16`、`float32`、`float64`、 `float96`、`float128`\n",
    "- 複數浮點數: `csingle`、`complex_`、`clongfloat`、`complex64`、`complex128`、`complex192`、`complex256`\n",
    "- 其它: `object_`、`bytes_`、`unicode_`、`void`"
   ]
  },
  {
   "attachments": {},
   "cell_type": "markdown",
   "metadata": {},
   "source": [
    "## 陣列\n",
    "\n",
    "- 陣列 (array) 可以用來存放多個資料。\n",
    "- 陣列所存放的資料叫做元素 (element)，每個元素有各自的值 (value)。\n",
    "- 陣列是透過索引 (index) 來區分它所存放的元素，多數程式語言是以索引 `0` 代表陣列的第 `1` 個元素，索引 `1` 代表陣列的第 `2` 個元素，…， 索引 `n - 1` 代表陣列的第 `n` 個元素。\n",
    "\n",
    "![Array](ppt-array.png)"
   ]
  },
  {
   "cell_type": "code",
   "execution_count": 1,
   "metadata": {},
   "outputs": [],
   "source": [
    "import numpy as np\n",
    "import nptyping as npt"
   ]
  },
  {
   "attachments": {},
   "cell_type": "markdown",
   "metadata": {},
   "source": [
    "## 一維陣列\n",
    "\n",
    "- NumPy 提供的陣列型別叫做 `ndarray` (n-dimension array, n 維陣列)，`n` 維、同質且固定大小的陣列物件。\n",
    "  - $n$ 維代表可以是一維、二維或是更多維\n",
    "  - 同質代表每個元素必須是相同型別"
   ]
  },
  {
   "attachments": {},
   "cell_type": "markdown",
   "metadata": {},
   "source": [
    "## 建立方式\n",
    "\n",
    "- `np.array`: 從串列 (list) 或序對 (tuple) 建立一維陣列\n",
    "- `np.zeros`: 建立都是 0 的陣列\n",
    "- `np.ones`: 建立都是 1 的陣列\n",
    "- `np.empty`: 建立未初始化的陣列\n",
    "- `np.arange`: 建立數列\n",
    "- `np.linsapce`: 建立平均分佈的數值"
   ]
  },
  {
   "cell_type": "code",
   "execution_count": 2,
   "metadata": {},
   "outputs": [
    {
     "name": "stdout",
     "output_type": "stream",
     "text": [
      "np.array([1,2,3,4], dtype=np.int8) = array([1, 2, 3, 4], dtype=int8)\n",
      "np.zeros(4, dtype=np.int8) = array([0, 0, 0, 0], dtype=int8)\n",
      "np.ones(4, dtype=np.int8) = array([1, 1, 1, 1], dtype=int8)\n",
      "np.empty(4, dtype=np.int8) = array([1, 1, 1, 1], dtype=int8)\n"
     ]
    }
   ],
   "source": [
    "print(f\"{np.array([1,2,3,4], dtype=np.int8) = }\")\n",
    "print(f\"{np.zeros(4, dtype=np.int8) = }\")\n",
    "print(f\"{np.ones(4, dtype=np.int8) = }\")\n",
    "print(f\"{np.empty(4, dtype=np.int8) = }\")\n"
   ]
  },
  {
   "cell_type": "code",
   "execution_count": 3,
   "metadata": {},
   "outputs": [
    {
     "name": "stdout",
     "output_type": "stream",
     "text": [
      "np.arange(10, dtype=np.int8) = array([0, 1, 2, 3, 4, 5, 6, 7, 8, 9], dtype=int8)\n",
      "np.arange(start=3, stop=30, step=3, dtype=np.int8) = array([ 3,  6,  9, 12, 15, 18, 21, 24, 27], dtype=int8)\n"
     ]
    }
   ],
   "source": [
    "print(f\"{np.arange(10, dtype=np.int8) = }\")\n",
    "print(f\"{np.arange(start=3, stop=30, step=3, dtype=np.int8) = }\")"
   ]
  },
  {
   "cell_type": "code",
   "execution_count": 4,
   "metadata": {},
   "outputs": [
    {
     "name": "stdout",
     "output_type": "stream",
     "text": [
      "np.linspace(0, 2, 9) = array([0.  , 0.25, 0.5 , 0.75, 1.  , 1.25, 1.5 , 1.75, 2.  ])\n",
      "np.linspace(1, 3, 5) = array([1. , 1.5, 2. , 2.5, 3. ])\n"
     ]
    }
   ],
   "source": [
    "print(f\"{np.linspace(0, 2, 9) = }\")\n",
    "print(f\"{np.linspace(1, 3, 5) = }\")"
   ]
  },
  {
   "attachments": {},
   "cell_type": "markdown",
   "metadata": {},
   "source": [
    "## 屬性\n",
    "\n",
    "- `ndarray.ndim` : 陣列的維度，NumPy 將維度 (dimension) 稱為 axis (軸)\n",
    "- `ndarray.shape` : 陣列的形狀，代表每個維度的元素個數\n",
    "- `ndarray.size` : 陣列的元素個數\n",
    "- `ndarray.dtype` : 陣列的元素型別\n",
    "- `ndarray.itemsize` : 陣列的大小 (以 byte 位元組為單位)"
   ]
  },
  {
   "attachments": {},
   "cell_type": "markdown",
   "metadata": {},
   "source": [
    "## 運算子"
   ]
  },
  {
   "cell_type": "code",
   "execution_count": 5,
   "metadata": {},
   "outputs": [
    {
     "name": "stdout",
     "output_type": "stream",
     "text": [
      "A * 2 = array([ 20,  40,  60,  80, 100])\n",
      "A ** 2 = array([ 100,  400,  900, 1600, 2500])\n",
      "A < 35 = array([ True,  True,  True, False, False])\n",
      "A + B = array([11, 22, 33, 44, 55])\n"
     ]
    }
   ],
   "source": [
    "A = np.array([10, 20, 30, 40, 50])\n",
    "B = np.array([1, 2, 3, 4, 5])\n",
    "\n",
    "print(f\"{A * 2 = }\") # 對 array 內的每個元素做 x2 運算\n",
    "print(f\"{A ** 2 = }\") # 對 array 內的每個元素做 2次方 運算\n",
    "print(f\"{A < 35 = }\") # 對 array 內的每個元素做 條件式 判斷\n",
    "print(f\"{A + B = }\") # 兩個 array 相加\n"
   ]
  },
  {
   "attachments": {},
   "cell_type": "markdown",
   "metadata": {},
   "source": [
    "## 索引\n",
    "\n",
    "### 單元素索引\n",
    "\n",
    "Single element indexing works exactly like that for other standard Python sequences. It is 0-based, and accepts negative indices for indexing from the end of the array."
   ]
  },
  {
   "cell_type": "code",
   "execution_count": 6,
   "metadata": {},
   "outputs": [
    {
     "name": "stdout",
     "output_type": "stream",
     "text": [
      "2\n",
      "8\n",
      "4\n"
     ]
    }
   ],
   "source": [
    "x = np.arange(10)\n",
    "print(x[2]) # 2\n",
    "print(x[-2]) # 8\n",
    "\n",
    "x[2] = 4\n",
    "print(x[2])\n",
    "\n",
    "x[2] = 2 # restore"
   ]
  },
  {
   "cell_type": "code",
   "execution_count": 7,
   "metadata": {},
   "outputs": [
    {
     "name": "stdout",
     "output_type": "stream",
     "text": [
      "8\n",
      "9\n"
     ]
    }
   ],
   "source": [
    "x.shape = (2, 5)  # now x is 2-dimensional\n",
    "print(x[1, 3]) # 8\n",
    "print(x[1, -1]) # 9"
   ]
  },
  {
   "attachments": {},
   "cell_type": "markdown",
   "metadata": {},
   "source": [
    "Note that if one indexes a multidimensional array with fewer indices than dimensions, one gets a subdimensional array. For example:"
   ]
  },
  {
   "cell_type": "code",
   "execution_count": 8,
   "metadata": {},
   "outputs": [
    {
     "name": "stdout",
     "output_type": "stream",
     "text": [
      "[0 1 2 3 4]\n"
     ]
    }
   ],
   "source": [
    "print(x[0])"
   ]
  },
  {
   "cell_type": "code",
   "execution_count": 9,
   "metadata": {},
   "outputs": [
    {
     "name": "stdout",
     "output_type": "stream",
     "text": [
      "A[0, 0] = 1\n",
      "A[[0, 0], [1,1]] = array([1, 1])\n"
     ]
    }
   ],
   "source": [
    "A = np.array([[1, 1], [0, 1]])\n",
    "\n",
    "print(f\"{A[0, 0] = }\")\n",
    "print(f\"{A[[0, 0], [1,1]] = }\")"
   ]
  },
  {
   "attachments": {},
   "cell_type": "markdown",
   "metadata": {},
   "source": [
    "## Slicing\n",
    "\n",
    "The basic slice syntax is `i:j:k` where `i` is the starting index, `j` is the stopping index, and `k` is the step ($k \\not= 0$)."
   ]
  },
  {
   "cell_type": "code",
   "execution_count": 10,
   "metadata": {},
   "outputs": [
    {
     "name": "stdout",
     "output_type": "stream",
     "text": [
      "[1 3 5]\n",
      "[8 9]\n",
      "[7 6 5 4]\n"
     ]
    }
   ],
   "source": [
    "x = np.array([0, 1, 2, 3, 4, 5, 6, 7, 8, 9])\n",
    "print(x[1:7:2])    # array([1, 3, 5])\n",
    "print(x[-2:10])    # array([8, 9   ])\n",
    "print(x[-3:3:-1])  # array([7, 6, 5, 4])"
   ]
  },
  {
   "attachments": {},
   "cell_type": "markdown",
   "metadata": {},
   "source": [
    "## Ellipsis ($\\cdots$)\n",
    "\n",
    "<https://note.nkmk.me/en/python-numpy-ellipsis/>\n",
    "\n",
    "In NumPy, you can use Ellipsis (...) to omit intermediate dimensions when specifying elements or ranges with `[]`.\n"
   ]
  },
  {
   "cell_type": "code",
   "execution_count": 11,
   "metadata": {},
   "outputs": [
    {
     "name": "stdout",
     "output_type": "stream",
     "text": [
      "(2, 3, 4, 5)\n",
      "[[[  0   5  10  15]\n",
      "  [ 20  25  30  35]\n",
      "  [ 40  45  50  55]]\n",
      "\n",
      " [[ 60  65  70  75]\n",
      "  [ 80  85  90  95]\n",
      "  [100 105 110 115]]]\n",
      "[[[  0   5  10  15]\n",
      "  [ 20  25  30  35]\n",
      "  [ 40  45  50  55]]\n",
      "\n",
      " [[ 60  65  70  75]\n",
      "  [ 80  85  90  95]\n",
      "  [100 105 110 115]]]\n"
     ]
    }
   ],
   "source": [
    "import numpy as np\n",
    "\n",
    "a = np.arange(120).reshape(2, 3, 4, 5)\n",
    "\n",
    "print(a.shape)\n",
    "# (2, 3, 4, 5)\n",
    "\n",
    "print(a[:, :, :, 0])\n",
    "\n",
    "# can be simplified to:\n",
    "\n",
    "print(a[..., 0])"
   ]
  },
  {
   "attachments": {},
   "cell_type": "markdown",
   "metadata": {},
   "source": [
    "### Integer array indexing (連續選擇)\n",
    "\n",
    "Integer array indexing allows selection of arbitrary items in the array based on their N-dimensional index. Each integer array represents a number of indices into that dimension.\n",
    "\n",
    "Negative values are permitted in the index arrays and work as they do with single indices or slices:"
   ]
  },
  {
   "cell_type": "code",
   "execution_count": 12,
   "metadata": {},
   "outputs": [
    {
     "name": "stdout",
     "output_type": "stream",
     "text": [
      "x = array([10,  9,  8,  7,  6,  5,  4,  3,  2])\n",
      "x[[3, 3, 1, 8]] = array([7, 7, 9, 2])\n",
      "x[[3, 3, -3, 8]] = array([7, 7, 4, 2])\n"
     ]
    }
   ],
   "source": [
    "x = np.arange(10, 1, -1)\n",
    "\n",
    "print(f\"{x = }\")\n",
    "print(f\"{x[[3, 3, 1, 8]] = }\")\n",
    "print(f\"{x[[3, 3, -3, 8]] = }\")"
   ]
  },
  {
   "cell_type": "code",
   "execution_count": 13,
   "metadata": {},
   "outputs": [
    {
     "name": "stdout",
     "output_type": "stream",
     "text": [
      "x[np.array([1, -1])] = array([[3, 4],\n",
      "       [5, 6]])\n",
      "Error: index 3 is out of bounds for axis 0 with size 3\n",
      "x[np.array([1, -1]), 1] = array([4, 6])\n",
      "x[np.array([1, -1]), [0, 1]] = array([3, 6])\n"
     ]
    }
   ],
   "source": [
    "x = np.array([[1, 2], [3, 4], [5, 6]])\n",
    "print(f\"{x[np.array([1, -1])] = }\")\n",
    "\n",
    "try:\n",
    "    print(f\"{x[np.array([3, 4])] = }\")\n",
    "except Exception as e:\n",
    "    print(\"Error:\", e)\n",
    "\n",
    "print(f\"{x[np.array([1, -1]), 1] = }\")\n",
    "print(f\"{x[np.array([1, -1]), [0, 1]] = }\")\n"
   ]
  },
  {
   "attachments": {},
   "cell_type": "markdown",
   "metadata": {},
   "source": [
    "## 一維陣列運算\n",
    "\n",
    "- `insert()` 函式在陣列中插入元素\n",
    "- `delete()` 函式在陣列中刪除元素\n",
    "- `concatenate()` 函式結合兩個陣列或加入元素\n",
    "- `dots()` 函式計算向量內積\n",
    "- `cross()` 函式計算向量外積"
   ]
  },
  {
   "cell_type": "code",
   "execution_count": 14,
   "metadata": {},
   "outputs": [
    {
     "name": "stdout",
     "output_type": "stream",
     "text": [
      "np.insert(A, 1, 100) = array([ 10, 100,  20,  30,  40,  50], dtype=int8)\n",
      "np.delete(A, 3) = array([10, 20, 30, 50], dtype=int8)\n",
      "[10 20 30 40 50  1  1  1  1]\n"
     ]
    }
   ],
   "source": [
    "from nptyping import Int, NDArray, Shape\n",
    "\n",
    "\n",
    "A: NDArray[Shape[\"5\"], Int] = np.array([10, 20, 30, 40, 50], dtype=np.int8)\n",
    "print(f\"{np.insert(A, 1, 100) = }\")  # (arr, position, value)\n",
    "print(f\"{np.delete(A, 3) = }\")  # (arr, position)\n",
    "print(f\"{np.concatenate((A, np.ones(4, dtype=np.int8)))}\")"
   ]
  },
  {
   "attachments": {},
   "cell_type": "markdown",
   "metadata": {},
   "source": [
    "下列範例建立兩個一維陣列，並嘗試將兩個陣列進行四則運算。"
   ]
  },
  {
   "cell_type": "code",
   "execution_count": 15,
   "metadata": {},
   "outputs": [
    {
     "name": "stdout",
     "output_type": "stream",
     "text": [
      "arr1 + arr2 = array([2033, 1324,  382,   16,   20])\n",
      "arr1 - arr2 = array([-1805,  -296,     0,     0,     0])\n",
      "arr1 * arr2 = array([218766, 416340,  36481,     64,    100])\n",
      "arr1 / arr2 = array([0.05940594, 0.6345679 , 1.        , 1.        , 1.        ])\n"
     ]
    }
   ],
   "source": [
    "arr1: npt.NDArray[npt.Shape['5'], npt.Int] = np.array([114, 514, 191, 8, 10])\n",
    "arr2: npt.NDArray[npt.Shape['5'], npt.Int] = np.array([1919, 810, 191, 8, 10])\n",
    "\n",
    "print(f\"{arr1 + arr2 = }\")\n",
    "print(f\"{arr1 - arr2 = }\")\n",
    "print(f\"{arr1 * arr2 = }\")\n",
    "print(f\"{arr1 / arr2 = }\")"
   ]
  },
  {
   "attachments": {},
   "cell_type": "markdown",
   "metadata": {},
   "source": [
    "下列範例建立兩個一維陣列如 arr3, arr4 並計算其內積和外積。"
   ]
  },
  {
   "cell_type": "code",
   "execution_count": 16,
   "metadata": {},
   "outputs": [
    {
     "name": "stdout",
     "output_type": "stream",
     "text": [
      "np.dot(arr3, arr4) = 28803\n",
      "np.cross(arr3, arr4) = array([-5076,  5598,  -123])\n"
     ]
    }
   ],
   "source": [
    "arr3: npt.NDArray[npt.Shape['3'], npt.Int] = np.array([2,3,54])\n",
    "arr4: npt.NDArray[npt.Shape['3'], npt.Int] = np.array([123,123,522])\n",
    "\n",
    "print(f\"{np.dot(arr3, arr4) = }\")\n",
    "print(f\"{np.cross(arr3, arr4) = }\")"
   ]
  },
  {
   "attachments": {},
   "cell_type": "markdown",
   "metadata": {},
   "source": [
    "## 二維陣列"
   ]
  },
  {
   "cell_type": "code",
   "execution_count": 17,
   "metadata": {},
   "outputs": [
    {
     "name": "stdout",
     "output_type": "stream",
     "text": [
      "grades = array([[ 95, 100, 100],\n",
      "       [ 86,  90,  75],\n",
      "       [ 98,  98,  96],\n",
      "       [ 78,  90,  80],\n",
      "       [ 70,  68,  72]])\n",
      "grades[1,2] = 75\n"
     ]
    }
   ],
   "source": [
    "grades: npt.NDArray[npt.Shape[\"5,3\"], npt.Int] = np.array([\n",
    "    [95, 100, 100],\n",
    "    [86, 90, 75],\n",
    "    [98, 98, 96],\n",
    "    [78, 90, 80],\n",
    "    [70, 68, 72]\n",
    "])\n",
    "\n",
    "print(f\"{grades = }\")\n",
    "print(f\"{grades[1,2] = }\")"
   ]
  },
  {
   "attachments": {},
   "cell_type": "markdown",
   "metadata": {},
   "source": [
    "- `reshape()` 函式改變陣列的維度\n",
    "- `ravel()` 函式將多維陣列轉換成一維陣列"
   ]
  },
  {
   "cell_type": "code",
   "execution_count": 18,
   "metadata": {},
   "outputs": [
    {
     "name": "stdout",
     "output_type": "stream",
     "text": [
      "np.arange(15).reshape(3, 5) = array([[ 0,  1,  2,  3,  4],\n",
      "       [ 5,  6,  7,  8,  9],\n",
      "       [10, 11, 12, 13, 14]])\n"
     ]
    }
   ],
   "source": [
    "print(f\"{np.arange(15).reshape(3, 5) = }\")"
   ]
  },
  {
   "cell_type": "code",
   "execution_count": 19,
   "metadata": {},
   "outputs": [
    {
     "name": "stdout",
     "output_type": "stream",
     "text": [
      "np.arange(15).reshape(3, 5).ravel() = array([ 0,  1,  2,  3,  4,  5,  6,  7,  8,  9, 10, 11, 12, 13, 14])\n"
     ]
    }
   ],
   "source": [
    "print(f\"{np.arange(15).reshape(3, 5).ravel() = }\")"
   ]
  },
  {
   "attachments": {},
   "cell_type": "markdown",
   "metadata": {},
   "source": [
    "運算子也和一維類似，都作用在每個元素上。\n",
    "\n",
    "- `transpose()`: 轉置"
   ]
  },
  {
   "cell_type": "code",
   "execution_count": 20,
   "metadata": {},
   "outputs": [
    {
     "name": "stdout",
     "output_type": "stream",
     "text": [
      "[[2 4]\n",
      " [6 8]]\n",
      "[[False False]\n",
      " [ True  True]]\n",
      "[[3 4]\n",
      " [4 5]]\n"
     ]
    }
   ],
   "source": [
    "A = np.array([[1, 2], [3, 4]])\n",
    "B = np.array([[2, 2], [1, 1]])\n",
    "print(A * 2) # 陣列元素 x2\n",
    "print(A > 2) # 陣列元素做條件式比較\n",
    "print(A + B) # 兩個陣列相加"
   ]
  },
  {
   "cell_type": "code",
   "execution_count": 21,
   "metadata": {},
   "outputs": [
    {
     "name": "stdout",
     "output_type": "stream",
     "text": [
      "[[7 2]\n",
      " [3 4]]\n"
     ]
    }
   ],
   "source": [
    "A = np.array([[1, 2], [3, 4]])\n",
    "A[0, 0] = 7\n",
    "print(A)"
   ]
  },
  {
   "attachments": {},
   "cell_type": "markdown",
   "metadata": {},
   "source": [
    "下列範例建立一個二維陣列 arr1，並將 arr1 與此陣列的轉置矩陣相加。"
   ]
  },
  {
   "cell_type": "code",
   "execution_count": 22,
   "metadata": {},
   "outputs": [
    {
     "name": "stdout",
     "output_type": "stream",
     "text": [
      "arr1 + transpose = array([[ 4, 14, 24, 34],\n",
      "       [14, 24, 34, 44],\n",
      "       [24, 34, 44, 54],\n",
      "       [34, 44, 54, 64]])\n"
     ]
    }
   ],
   "source": [
    "arr1 = np.arange(start=2, stop=33, step=2).reshape((4, 4))\n",
    "\n",
    "transpose = arr1.transpose()\n",
    "print(f\"{arr1 + transpose = }\")"
   ]
  },
  {
   "attachments": {},
   "cell_type": "markdown",
   "metadata": {},
   "source": [
    "# 通用函式\n",
    "\n",
    "NumPy提供了諸如sin()、cos()、exp()、square()、add() 等常見的數學函式，並稱為通用函式 (ufunc，universal functions)，因為這些函式會逐一作用在陣列的每個元素，然後傳回一個陣列"
   ]
  },
  {
   "cell_type": "code",
   "execution_count": 23,
   "metadata": {},
   "outputs": [
    {
     "name": "stdout",
     "output_type": "stream",
     "text": [
      "[1 4 9]\n"
     ]
    }
   ],
   "source": [
    "import numpy as np\n",
    "\n",
    "A = np.array([1, 2, 3])\n",
    "B = np.square(A)\n",
    "print(B)"
   ]
  },
  {
   "attachments": {},
   "cell_type": "markdown",
   "metadata": {},
   "source": [
    "## 數學函式\n",
    "\n",
    "- **三角函式**: `cos(x)`、`sin(x)`、`tan(x)`、`acos(x)`、`asin(x)`、`atan(x)`\n",
    "- **四捨五入**: `round_(x, decimals=0)`、`rint(x)`、`floor(x)`、`ceil(x)`、`trunc(x)`\n",
    "- **和/積/差**: `prod(a, axis=None)`、`cumprod(a, axis=None)`、`sum(a, axis=None)`、`cumsum(a, axis=None)`、`diff(a, n=1, axis=-1)`、`cross(a, b)`\n",
    "- **指數與對數**: `exp(x)`、`exp2(x)`、`log(x)`、`log2(x)`、`log10(x)`\n",
    "- **算術運算**: `add(x1, x2)`、`subtract(x1, x2)`、`multiply(x1, x2)`、`divide(x1, x2)`、`power(x1, x2)`、`mod(x1, x2)`、`remainder(x1, x2)`、`fmod(x1, x2)`、`divmod(x1, x2)`、`negative(x)`\n",
    "- **其它**: `sign(x)`、`absolute(x)`、`sqrt(x)`、`cbrt(x)`、`square(x)`、`maximum(x1, x2)`、`minimum(x1, x2)`、`gcd(x1, x2)`\n",
    "- 其它實用函式: `isinf(x)`、`isfinite(x)`、`isnan(x)`、`max(x)`、`min(x)`、`sort(x)`\n"
   ]
  },
  {
   "attachments": {},
   "cell_type": "markdown",
   "metadata": {},
   "source": [
    "以下的範例使用這些函式計算：\n",
    "\n",
    "- sin0°、sin30°、sin45°\n",
    "- cos30°、cos45°、cos60°\n",
    "- tan30°、tan45°、tan60°\n",
    "\n",
    "的值。\n",
    "\n",
    "注意三角函數函式要求傳入的角度單位是弧度 (radian)，而非角度 (degree)。\n",
    "\n",
    "角度轉換成弧度的公式：$1°= \\frac{\\pi}{180} \\text{rad}$"
   ]
  },
  {
   "cell_type": "code",
   "execution_count": 24,
   "metadata": {},
   "outputs": [
    {
     "name": "stdout",
     "output_type": "stream",
     "text": [
      "np.sin(np.array([0, 30, 45]) * np.pi / 180.) = array([0.        , 0.5       , 0.70710678])\n",
      "np.cos(np.array([30, 45, 60]) * np.pi / 180.) = array([0.8660254 , 0.70710678, 0.5       ])\n",
      "np.tan(np.array([30, 45, 60]) * np.pi / 180.) = array([0.57735027, 1.        , 1.73205081])\n"
     ]
    }
   ],
   "source": [
    "import numpy as np\n",
    "\n",
    "# \n",
    "print(f\"{np.sin(np.array([0, 30, 45]) * np.pi / 180.) = }\")\n",
    "print(f\"{np.cos(np.array([30, 45, 60]) * np.pi / 180.) = }\")\n",
    "print(f\"{np.tan(np.array([30, 45, 60]) * np.pi / 180.) = }\")"
   ]
  },
  {
   "attachments": {},
   "cell_type": "markdown",
   "metadata": {},
   "source": [
    "## 取亂數\n",
    "\n",
    "- `rand(d0, d1, ..., dn)`\n",
    "- `randn(d0, d1, ..., dn)`\n",
    "- `randint(low[, high, size, dtype])`\n",
    "- `random_integers(low[, high, size])`"
   ]
  },
  {
   "cell_type": "code",
   "execution_count": 25,
   "metadata": {},
   "outputs": [
    {
     "name": "stdout",
     "output_type": "stream",
     "text": [
      "np.random.random(3) = array([0.88346672, 0.62336326, 0.09437927])\n"
     ]
    }
   ],
   "source": [
    "print(f\"{np.random.random(3) = }\")"
   ]
  },
  {
   "cell_type": "code",
   "execution_count": 26,
   "metadata": {},
   "outputs": [
    {
     "name": "stdout",
     "output_type": "stream",
     "text": [
      "np.random.randint(1, 24, 3) = array([ 1, 10, 18])\n"
     ]
    }
   ],
   "source": [
    "print(f\"{np.random.randint(1, 24, 3) = }\")"
   ]
  },
  {
   "attachments": {},
   "cell_type": "markdown",
   "metadata": {},
   "source": [
    "下列範例建立一個陣列，長度為 20，元素值為 1-100 的亂數值。"
   ]
  },
  {
   "cell_type": "code",
   "execution_count": 27,
   "metadata": {},
   "outputs": [
    {
     "name": "stdout",
     "output_type": "stream",
     "text": [
      "np.random.randint(1, 100, 20) = array([62, 29, 94, 80, 62, 34, 17, 63, 61,  8, 63, 82, 51,  6, 33, 63,  7,\n",
      "       39, 59, 94])\n"
     ]
    }
   ],
   "source": [
    "print(f\"{np.random.randint(1, 100, 20) = }\")"
   ]
  }
 ],
 "metadata": {
  "kernelspec": {
   "display_name": "school",
   "language": "python",
   "name": "python3"
  },
  "language_info": {
   "codemirror_mode": {
    "name": "ipython",
    "version": 3
   },
   "file_extension": ".py",
   "mimetype": "text/x-python",
   "name": "python",
   "nbconvert_exporter": "python",
   "pygments_lexer": "ipython3",
   "version": "3.11.0"
  },
  "orig_nbformat": 4
 },
 "nbformat": 4,
 "nbformat_minor": 2
}
