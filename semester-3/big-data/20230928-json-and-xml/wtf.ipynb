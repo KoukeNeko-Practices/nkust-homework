{
 "cells": [
  {
   "cell_type": "markdown",
   "id": "21b6286f8f187786",
   "metadata": {
    "collapsed": false
   },
   "source": [
    "# 實作一個簡單的加法器\n",
    "\n",
    "要怎麼實作 $a_1+a_2+a_3+\\cdots+a_n$ 呢？\n",
    "\n",
    "> 這裡不考慮 Python 特有的方法。"
   ]
  },
  {
   "cell_type": "markdown",
   "id": "f2874d588cddcd43",
   "metadata": {
    "collapsed": false
   },
   "source": [
    "## 實作第一代加法器\n",
    "\n",
    "我們先關注「兩個數字的加減」就好。首先你肯定會想到接收兩個數字，回傳加好的結果。"
   ]
  },
  {
   "cell_type": "code",
   "execution_count": 1,
   "id": "initial_id",
   "metadata": {
    "ExecuteTime": {
     "end_time": "2023-09-28T02:49:15.990179Z",
     "start_time": "2023-09-28T02:49:15.985285Z"
    },
    "collapsed": false
   },
   "outputs": [
    {
     "name": "stdout",
     "output_type": "stream",
     "text": [
      "add_v1(1, 2)=3\n"
     ]
    }
   ],
   "source": [
    "def add_v1(a: int, b: int) -> int:\n",
    "    return a + b\n",
    "\n",
    "print(f\"{add_v1(1, 2)=}\")"
   ]
  },
  {
   "cell_type": "markdown",
   "id": "e64ddaf0c55856b",
   "metadata": {
    "collapsed": false
   },
   "source": [
    "但是函式可能略顯單調，我們把它改寫成物件導向的形式吧！"
   ]
  },
  {
   "cell_type": "code",
   "execution_count": 2,
   "id": "cb9565591d184fff",
   "metadata": {
    "ExecuteTime": {
     "end_time": "2023-09-28T02:49:16.038442Z",
     "start_time": "2023-09-28T02:49:15.989732Z"
    },
    "collapsed": false
   },
   "outputs": [
    {
     "name": "stdout",
     "output_type": "stream",
     "text": [
      "3\n"
     ]
    }
   ],
   "source": [
    "class Adder:\n",
    "    def __init__(self, a: int, b: int):\n",
    "        self.a = a\n",
    "        self.b = b\n",
    "    \n",
    "    def add(self) -> int:\n",
    "        return self.a + self.b\n",
    "    \n",
    "print(Adder(1, 2).add())"
   ]
  },
  {
   "cell_type": "markdown",
   "id": "255e7d55e3bcc504",
   "metadata": {
    "collapsed": false
   },
   "source": [
    "到這裡為止，我們成功實作了 **任意兩個整數** 的加減。但是我們希望它可以加任意多個。所以，我們讓 `Adder` 可以傳入一個陣列："
   ]
  },
  {
   "cell_type": "code",
   "execution_count": 3,
   "id": "674ead634c477a10",
   "metadata": {
    "ExecuteTime": {
     "end_time": "2023-09-28T02:49:16.043788Z",
     "start_time": "2023-09-28T02:49:15.993064Z"
    },
    "collapsed": false
   },
   "outputs": [
    {
     "name": "stdout",
     "output_type": "stream",
     "text": [
      "10\n"
     ]
    }
   ],
   "source": [
    "class Adder:\n",
    "    def __init__(self, n: list[int]):\n",
    "        self.n = n\n",
    "    \n",
    "    def add(self) -> int:\n",
    "        return sum(self.n)\n",
    "    \n",
    "print(Adder([ 1, 2, 3, 4 ]).add())"
   ]
  },
  {
   "cell_type": "markdown",
   "id": "284b88623a7d2f74",
   "metadata": {
    "collapsed": false
   },
   "source": [
    "不過這個設計看起來很醜。這時候我們就要用到 **Factory Pattern**（工廠模式）了！工廠模式可以建構一個 Adder："
   ]
  },
  {
   "cell_type": "code",
   "execution_count": 4,
   "id": "4502f7e65398ae35",
   "metadata": {
    "ExecuteTime": {
     "end_time": "2023-09-28T02:49:16.044329Z",
     "start_time": "2023-09-28T02:49:15.998381Z"
    },
    "collapsed": false
   },
   "outputs": [
    {
     "name": "stdout",
     "output_type": "stream",
     "text": [
      "15\n"
     ]
    }
   ],
   "source": [
    "from typing import Self\n",
    "\n",
    "\n",
    "class AdderFactory:\n",
    "    numbers = list[int]()\n",
    "    \n",
    "    def n(self, n: int) -> Self:\n",
    "        self.numbers.append(n)\n",
    "        return self\n",
    "\n",
    "    def build(self) -> Adder:\n",
    "        return Adder(self.numbers)\n",
    "\n",
    "print(AdderFactory().n(1).n(2).n(3).n(4).n(5).build().add())"
   ]
  },
  {
   "cell_type": "markdown",
   "id": "62c354073cbe5f38",
   "metadata": {
    "collapsed": false
   },
   "source": [
    "到這裡我們實作了任意個數字的總和。但是我們想實作字串的接合。在此之前，我們先實作一個 interface，實作一個加法必備的基本元素；以及一個 get() 函式可以取回內部的數值："
   ]
  },
  {
   "cell_type": "code",
   "execution_count": 5,
   "id": "76c37faaaef98cca",
   "metadata": {
    "ExecuteTime": {
     "end_time": "2023-09-28T02:49:16.044537Z",
     "start_time": "2023-09-28T02:49:16.007338Z"
    },
    "collapsed": false
   },
   "outputs": [],
   "source": [
    "from typing import Generic, ParamSpec\n",
    "from abc import ABC, abstractmethod\n",
    "\n",
    "T = ParamSpec('T')\n",
    "\n",
    "\n",
    "class Getable(ABC, Generic[T]):\n",
    "    @abstractmethod\n",
    "    def get(self) -> T:\n",
    "        pass\n",
    "\n",
    "    \n",
    "class Addable(ABC, Generic[T]):\n",
    "    @abstractmethod\n",
    "    def add(self, rhs: T) -> Self:\n",
    "        pass\n",
    "\n",
    "\n",
    "class BaseAddType(Getable[T], Addable[T], ABC):\n",
    "    @abstractmethod\n",
    "    def __init__(self, v: T):\n",
    "        pass\n"
   ]
  },
  {
   "cell_type": "markdown",
   "id": "78fb9b45da4cf827",
   "metadata": {
    "collapsed": false
   },
   "source": [
    "然後我們實作整數、浮點數以及字串的 Addable 和 Getable class。"
   ]
  },
  {
   "cell_type": "code",
   "execution_count": 6,
   "id": "b90104778a38fce8",
   "metadata": {
    "ExecuteTime": {
     "end_time": "2023-09-28T02:49:16.044589Z",
     "start_time": "2023-09-28T02:49:16.015744Z"
    },
    "collapsed": false
   },
   "outputs": [],
   "source": [
    "class Integer(BaseAddType[int], ABC):\n",
    "    def __init__(self, v: int):\n",
    "        self.v = v\n",
    "        \n",
    "    def add(self, rhs: Self) -> Self:\n",
    "        return Integer(self.get() + rhs.get())\n",
    "    \n",
    "    def get(self) -> int:\n",
    "        return self.v\n",
    "\n",
    "\n",
    "class Float(BaseAddType[float], ABC):\n",
    "    def __init__(self, v: float):\n",
    "        self.v = v\n",
    "        \n",
    "    def add(self, rhs: Self) -> Self:\n",
    "        return Float(self.get() + rhs.get())\n",
    "    \n",
    "    def get(self) -> float:\n",
    "        return self.v\n",
    "    \n",
    "    \n",
    "class String(BaseAddType[str], ABC):\n",
    "    def __init__(self, v: str):\n",
    "        self.v = v\n",
    "        \n",
    "    def add(self, rhs: Self) -> Self:\n",
    "        return String(self.get() + rhs.get())\n",
    "    \n",
    "    def get(self) -> str:\n",
    "        return self.v"
   ]
  },
  {
   "cell_type": "markdown",
   "id": "a00f0f3e5aad2502",
   "metadata": {
    "collapsed": false
   },
   "source": [
    "然後把上面的 Adder 改寫成 BaseAddType:"
   ]
  },
  {
   "cell_type": "code",
   "execution_count": 7,
   "id": "67c4e7b011c92b9e",
   "metadata": {
    "ExecuteTime": {
     "end_time": "2023-09-28T02:49:16.044671Z",
     "start_time": "2023-09-28T02:49:16.021275Z"
    },
    "collapsed": false
   },
   "outputs": [
    {
     "name": "stdout",
     "output_type": "stream",
     "text": [
      "3\n"
     ]
    }
   ],
   "source": [
    "class Adder:\n",
    "    def __init__(self, n: list[BaseAddType]):\n",
    "        self.values = n\n",
    "    \n",
    "    def add(self) -> BaseAddType:\n",
    "        if len(self.values) == 0:\n",
    "            return BaseAddType()  # <-- 注意，這個要修正！\n",
    "        \n",
    "        current_value = self.values[0]\n",
    "        for value_idx in range(1, len(self.values)):\n",
    "            current_value = current_value.add(\n",
    "                self.values[value_idx]\n",
    "            )\n",
    "        \n",
    "        return current_value\n",
    "\n",
    "# 測試一下\n",
    "print(Adder([Integer(1), Integer(2)]).add().get())"
   ]
  },
  {
   "cell_type": "markdown",
   "id": "669fa0854d32a6fd",
   "metadata": {
    "collapsed": false
   },
   "source": [
    "但現在，當 `self.values` 沒有任何元素時，我們沒有辦法回傳空值（比如 `0`, `0.0`, `\"\"`)。所以我們最好再多加一個靜態方法，可以回傳這個類型對應的空值："
   ]
  },
  {
   "cell_type": "code",
   "execution_count": 8,
   "id": "5899c7695e88963d",
   "metadata": {
    "ExecuteTime": {
     "end_time": "2023-09-28T02:49:16.044728Z",
     "start_time": "2023-09-28T02:49:16.024845Z"
    },
    "collapsed": false
   },
   "outputs": [],
   "source": [
    "T = ParamSpec('T')\n",
    "\n",
    "class ZeroValueGetable(ABC, Generic[T]):\n",
    "    @classmethod\n",
    "    def zero(cls) -> Self:\n",
    "        pass\n",
    "\n",
    "\n",
    "class BaseAddZeroType(BaseAddType[T], ZeroValueGetable[T], ABC):\n",
    "    pass\n"
   ]
  },
  {
   "cell_type": "code",
   "execution_count": 9,
   "id": "2e5ae8e56010daae",
   "metadata": {
    "ExecuteTime": {
     "end_time": "2023-09-28T02:49:16.044778Z",
     "start_time": "2023-09-28T02:49:16.028015Z"
    },
    "collapsed": false
   },
   "outputs": [],
   "source": [
    "class IntegerZero(ZeroValueGetable[int], Integer, ABC):\n",
    "    @classmethod\n",
    "    def zero(cls) -> Self:\n",
    "        return IntegerZero(0)\n",
    "\n",
    "\n",
    "class FloatZero(ZeroValueGetable[float], Float, ABC):\n",
    "    @classmethod\n",
    "    def zero(cls) -> Self:\n",
    "        return FloatZero(0.0)\n",
    "    \n",
    "    \n",
    "class StringZero(ZeroValueGetable[str], String, ABC):\n",
    "    @classmethod\n",
    "    def zero(cls) -> Self:\n",
    "        return StringZero(\"\")"
   ]
  },
  {
   "cell_type": "code",
   "execution_count": 10,
   "id": "f344e2e201c87e29",
   "metadata": {
    "ExecuteTime": {
     "end_time": "2023-09-28T02:49:16.044815Z",
     "start_time": "2023-09-28T02:49:16.031839Z"
    },
    "collapsed": false
   },
   "outputs": [],
   "source": [
    "from typing import Type\n",
    "\n",
    "BAZ = ParamSpec('BAZ', bound=BaseAddZeroType)\n",
    "\n",
    "class Adder(Generic[BAZ]):\n",
    "    def __init__(self, n: list[BAZ], at: Type[BAZ]):\n",
    "        self.values = n\n",
    "        self.at = at\n",
    "    \n",
    "    def add(self) -> BAZ:\n",
    "        current_value = self.at.zero()\n",
    "        \n",
    "        for value in self.values:\n",
    "            current_value = current_value.add(value)\n",
    "        \n",
    "        return current_value"
   ]
  },
  {
   "cell_type": "markdown",
   "id": "90cace45bb3dd16",
   "metadata": {
    "collapsed": false
   },
   "source": [
    "Builder 也如法更改。為了簡化，"
   ]
  },
  {
   "cell_type": "code",
   "execution_count": 11,
   "id": "d422e4ddcebbb966",
   "metadata": {
    "ExecuteTime": {
     "end_time": "2023-09-28T02:49:16.044854Z",
     "start_time": "2023-09-28T02:49:16.034386Z"
    },
    "collapsed": false
   },
   "outputs": [],
   "source": [
    "from typing import Self\n",
    "\n",
    "class AdderFactory(Generic[BAZ]):\n",
    "    def __init__(self, at: Type[BAZ]):\n",
    "        self.at = at\n",
    "        self.values = list[BAZ]()\n",
    "    \n",
    "    def v(self, rhs: T) -> Self: # T 的定義在上面\n",
    "        self.values.append(self.at(rhs))\n",
    "        return self\n",
    "    \n",
    "    def build(self) -> Adder[BAZ]:\n",
    "        return Adder(self.values, self.at)\n"
   ]
  },
  {
   "cell_type": "code",
   "execution_count": 13,
   "id": "a441b29ef970f9f",
   "metadata": {
    "collapsed": false,
    "ExecuteTime": {
     "end_time": "2023-09-28T02:57:10.972056Z",
     "start_time": "2023-09-28T02:57:10.970963Z"
    }
   },
   "outputs": [
    {
     "name": "stdout",
     "output_type": "stream",
     "text": [
      "1\n",
      "3\n",
      "0\n",
      "1.234\n",
      "3.801\n",
      "0.0\n",
      "Hello\n",
      "Hello World\n"
     ]
    }
   ],
   "source": [
    "print(AdderFactory(IntegerZero).v(1).build().add().get())\n",
    "print(AdderFactory(IntegerZero).v(1).v(2).build().add().get())\n",
    "print(AdderFactory(IntegerZero).build().add().get())\n",
    "\n",
    "print(AdderFactory(FloatZero).v(1.234).build().add().get())\n",
    "print(AdderFactory(FloatZero).v(1.345).v(2.456).build().add().get())\n",
    "print(AdderFactory(FloatZero).build().add().get())\n",
    "\n",
    "print(AdderFactory(StringZero).v(\"Hello\").build().add().get())\n",
    "print(AdderFactory(StringZero).v(\"Hello\").v(\" \").v(\"World\").build().add().get())\n",
    "print(AdderFactory(StringZero).build().add().get())"
   ]
  },
  {
   "cell_type": "markdown",
   "id": "d5832396cdb693ef",
   "metadata": {
    "collapsed": false
   },
   "source": []
  }
 ],
 "metadata": {
  "kernelspec": {
   "display_name": "Python 3 (ipykernel)",
   "language": "python",
   "name": "python3"
  },
  "language_info": {
   "codemirror_mode": {
    "name": "ipython",
    "version": 3
   },
   "file_extension": ".py",
   "mimetype": "text/x-python",
   "name": "python",
   "nbconvert_exporter": "python",
   "pygments_lexer": "ipython3",
   "version": "3.11.5"
  }
 },
 "nbformat": 4,
 "nbformat_minor": 5
}
