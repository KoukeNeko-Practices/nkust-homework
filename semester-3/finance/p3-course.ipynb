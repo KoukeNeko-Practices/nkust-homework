{
 "cells": [
  {
   "cell_type": "code",
   "execution_count": null,
   "metadata": {},
   "outputs": [],
   "source": [
    "from requests import Session\n",
    "from requests_cache import CacheMixin, SQLiteCache\n",
    "from requests_ratelimiter import LimiterMixin, MemoryQueueBucket\n",
    "from pyrate_limiter import Duration, RequestRate, Limiter\n",
    "class CachedLimiterSession(CacheMixin, LimiterMixin, Session):\n",
    "    pass\n",
    "\n",
    "session = CachedLimiterSession(\n",
    "    limiter=Limiter(RequestRate(2, Duration.SECOND*5)),  # max 2 requests per 5 seconds\n",
    "    bucket_class=MemoryQueueBucket,\n",
    "    backend=SQLiteCache(\"yfinance.cache\"),\n",
    ")\n",
    "session.headers['User-agent'] = 'n.finance/1.0'"
   ]
  },
  {
   "cell_type": "code",
   "execution_count": null,
   "metadata": {},
   "outputs": [],
   "source": [
    "import matplotlib.pyplot as plt\n",
    "import pandas as pd\n",
    "import yfinance as yf\n",
    "\n",
    "stocks = ['2330.TW', '2882.TW']\n",
    "tickers = yf.Tickers(stocks, session=session)"
   ]
  },
  {
   "cell_type": "code",
   "execution_count": null,
   "metadata": {},
   "outputs": [],
   "source": [
    "tickers.history(start='2015-01-01', end='2016-12-31', auto_adjust=False)"
   ]
  },
  {
   "cell_type": "code",
   "execution_count": null,
   "metadata": {},
   "outputs": [],
   "source": [
    "df = pd.DataFrame()\n",
    "\n",
    "for stock_code in stocks:\n",
    "    price = tickers.tickers[stock_code].history(start='2015-01-01', end='2016-12-31', auto_adjust=False)\n",
    "    simpleret = price['Close'].pct_change().dropna()\n",
    "    simpleret.index = simpleret.index.date  # type: ignore\n",
    "    simpleret.name = stock_code\n",
    "\n",
    "    df = pd.concat([df, simpleret], axis=1)"
   ]
  },
  {
   "cell_type": "code",
   "execution_count": null,
   "metadata": {},
   "outputs": [],
   "source": [
    "df"
   ]
  },
  {
   "cell_type": "code",
   "execution_count": null,
   "metadata": {},
   "outputs": [],
   "source": [
    "df.describe()"
   ]
  },
  {
   "cell_type": "markdown",
   "metadata": {
    "collapsed": false
   },
   "source": [
    "## 投資組合的報酬\n",
    "\n",
    "- 由一種以上的證券或資產所構成的集合，稱為投資組合。\n",
    "- 投資組合的預期報酬率\n",
    "    - 為所有個別資產預期報酬率的加權平均數。\n",
    "\n",
    "$\n",
    "\\begin{aligned}\n",
    "R_P &= 總收益/初始投入資本 \\\\\n",
    "    &= \\frac{(W_0 \\omega_A R_A)+(W_0 \\omega_B R_B)}{W_0} \\\\\n",
    "    &= \\omega_A R_A + \\omega_B R_B \\\\\n",
    "    &= \\sum{\\omega R}\n",
    "\\end{aligned}\n",
    "$\n",
    "\n",
    "$\\omega_i$ 表示各資產的權重，$R_i$ 表示投資各資產所能獲得的預期報酬率。"
   ]
  },
  {
   "cell_type": "code",
   "execution_count": null,
   "metadata": {},
   "outputs": [],
   "source": [
    "df[\"2330.TW\"]"
   ]
  },
  {
   "cell_type": "code",
   "execution_count": null,
   "metadata": {},
   "outputs": [],
   "source": [
    "# 以 50% 資金投資台積電，以 50% 資金投資\n",
    "# 國泰金，試著算出投資組合的報酬。\n",
    "\n",
    "weight = 0.5\n",
    "portfolio_ret = weight * df[\"2330.TW\"].mean() + (1 - weight) * df[\"2882.TW\"].mean()\n",
    "portfolio_ret"
   ]
  },
  {
   "cell_type": "markdown",
   "metadata": {},
   "source": [
    "## 投資組合的風險\n",
    "\n",
    "- 以標準差或變異數衡量投資組合的風險。\n",
    "\n",
    "$\n",
    "\\begin{aligned}\n",
    "&Var(W_1 R_1 + W_2 R_2) \\\\\n",
    "= &W_1^2 Var(R_1) + W_2^2 Var(R_2) + 2 W_1 W_2 Cov(R_1, R_2) \\\\\n",
    "= &W_1^2 \\sigma_1^2 + W_2^2 \\sigma_2^2 + 2 W_1 W_2 \\sigma_1 \\sigma_2 \\rho_{1,2}\n",
    "\\end{aligned}\n",
    "$\n",
    "\n",
    "- 由多種資產構成的投資組合不但包含原先個別資產的風險（有權數的調整），尚隱 含個別資產間相互影響所帶來的風險。"
   ]
  },
  {
   "cell_type": "code",
   "execution_count": null,
   "metadata": {},
   "outputs": [],
   "source": [
    "# 以 50% 資金投資台積電，以 50% 資金投資\n",
    "# 國泰金，試著算出投資組合的風險。\n",
    "\n",
    "import math\n",
    "\n",
    "\n",
    "weight = 0.5\n",
    "twse, cfl = df[\"2330.TW\"], df[\"2882.TW\"]\n",
    "\n",
    "portfolio_var = (\n",
    "    (weight**2) * (twse.std()**2) + ((1-weight)**2) *\n",
    "                  (cfl.std()**2) + 2 * weight * (1-weight) *\n",
    "                  twse.corr(cfl, method=\"pearson\") * twse.std() * cfl.std()\n",
    ")\n",
    "math.sqrt(portfolio_var)"
   ]
  },
  {
   "cell_type": "code",
   "execution_count": null,
   "metadata": {},
   "outputs": [],
   "source": []
  }
 ],
 "metadata": {
  "kernelspec": {
   "display_name": "py-finance",
   "language": "python",
   "name": "python3"
  },
  "language_info": {
   "codemirror_mode": {
    "name": "ipython",
    "version": 3
   },
   "file_extension": ".py",
   "mimetype": "text/x-python",
   "name": "python",
   "nbconvert_exporter": "python",
   "pygments_lexer": "ipython3",
   "version": "3.12.0"
  }
 },
 "nbformat": 4,
 "nbformat_minor": 2
}
