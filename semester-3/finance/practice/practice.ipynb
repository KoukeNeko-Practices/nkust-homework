{
 "cells": [
  {
   "cell_type": "code",
   "execution_count": null,
   "metadata": {},
   "outputs": [],
   "source": [
    "import core\n",
    "\n",
    "core.get_tickers([\"\"])"
   ]
  }
 ],
 "metadata": {
  "kernelspec": {
   "display_name": "py-finance",
   "language": "python",
   "name": "python3"
  },
  "language_info": {
   "name": "python",
   "version": "3.12.0"
  }
 },
 "nbformat": 4,
 "nbformat_minor": 2
}
