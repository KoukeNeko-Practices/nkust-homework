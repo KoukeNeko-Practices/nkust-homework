{
 "cells": [
  {
   "cell_type": "code",
   "execution_count": 8,
   "id": "initial_id",
   "metadata": {
    "collapsed": true,
    "ExecuteTime": {
     "end_time": "2023-10-18T02:23:09.385368Z",
     "start_time": "2023-10-18T02:23:09.384758Z"
    }
   },
   "outputs": [
    {
     "data": {
      "text/plain": "   Directive  \\\n0         %a   \n1         %A   \n2         %w   \n3         %d   \n4         %b   \n5         %B   \n6         %m   \n7         %y   \n8         %Y   \n9         %H   \n10        %I   \n11        %p   \n12        %M   \n13        %S   \n14        %f   \n15        %z   \n16        %Z   \n17        %j   \n18        %U   \n19        %W   \n20        %c   \n21        %x   \n22        %X   \n23        %G   \n\n                                                                                                                                                                             Meaning  \\\n0                                                                                                                                              Weekday as locale’s abbreviated name.   \n1                                                                                                                                                     Weekday as locale’s full name.   \n2                                                                                                                  Weekday as a decimal number, where 0 is Sunday and 6 is Saturday.   \n3                                                                                                                                  Day of the month as a zero-padded decimal number.   \n4                                                                                                                                                Month as locale’s abbreviated name.   \n5                                                                                                                                                       Month as locale’s full name.   \n6                                                                                                                                             Month as a zero-padded decimal number.   \n7                                                                                                                              Year without century as a zero-padded decimal number.   \n8                                                                                                                                             Year with century as a decimal number.   \n9                                                                                                                              Hour (24-hour clock) as a zero-padded decimal number.   \n10                                                                                                                             Hour (12-hour clock) as a zero-padded decimal number.   \n11                                                                                                                                           Locale’s equivalent of either AM or PM.   \n12                                                                                                                                           Minute as a zero-padded decimal number.   \n13                                                                                                                                           Second as a zero-padded decimal number.   \n14                                                                                                                         Microsecond as a decimal number, zero-padded on the left.   \n15                                                                                                                                         UTC offset in the form of +HHMM or -HHMM.   \n16                                                                                                                             Time zone name (empty string if the object is naive).   \n17                                                                                                                                  Day of the year as a zero-padded decimal number.   \n18  Week number of the year (Sunday as the first day of the week) as a zero padded decimal number. All days in a new year preceding the first Sunday are considered to be in week 0.   \n19              Week number of the year (Monday as the first day of the week) as a decimal number. All days in a new year preceding the first Monday are considered to be in week 0.   \n20                                                                                                                                Locale’s appropriate date and time representation.   \n21                                                                                                                                         Locale’s appropriate date representation.   \n22                                                                                                                                         Locale’s appropriate time representation.   \n23                                                                             ISO 8601 year with century representing the year that contains the greater part of the ISO week (%V).   \n\n                                                      Translation  \\\n0                                                  以地區的縮寫名稱表示星期幾。   \n1                                                    以地區的全名表示星期幾。   \n2                                     以十進位制數字表示星期幾，其中0是星期日，6是星期六。   \n3                                            以填充0的十進位制數字表示每個月的日期。   \n4                                                   以地區的縮寫名稱表示月份。   \n5                                                     以地區的全名表示月份。   \n6                                                以填充0的十進位制數字表示月份。   \n7                                          年份不包含世紀，以填充0的十進位制數字表示。   \n8                                               以十進位制數字表示包含世紀的年份。   \n9                                          以填充0的十進位制數字表示24小時制的時間。   \n10                                         以填充0的十進位制數字表示12小時制的時間。   \n11                                               地區等同於上午或下午的表示方式。   \n12                                               以填充0的十進位制數字表示分鐘。   \n13                                               以填充0的十進位制數字表示秒數。   \n14                                             毫秒以十進位制數字表示，左側填充0。   \n15                                       UTC偏移量以+HHMM或-HHMM的形式表示。   \n16                                         時區名稱（如果該物件是單純的，則為空字串）。   \n17                                          以填充0的十進位制數字表示一年中的第幾天。   \n18  以填充0的十進位制數字表示一年中的週數（星期日為一週的第一天）。在新年裡首次出現星期日之前的所有日子都被認為是在第0週內。   \n19      以十進位制數字表示一年中的週數（星期一為一週的第一天）。在新年裡首次出現星期一之前的所有日子都被認為是在第0週內。   \n20                                                 地區適當的日期和時間表示法。   \n21                                                    地區適當的日期表示法。   \n22                                                    地區適當的時間表示法。   \n23                          ISO 8601年份與世紀，代表著包含了ISO週數（%V）大部分的那一年。   \n\n                     Example  \n0                        Wed  \n1                  Wednesday  \n2                          3  \n3                         18  \n4                        Oct  \n5                    October  \n6                         10  \n7                         23  \n8                       2023  \n9                         10  \n10                        10  \n11                        AM  \n12                        23  \n13                        09  \n14                    364839  \n15                            \n16                            \n17                       291  \n18                        42  \n19                        42  \n20  Wed Oct 18 10:23:09 2023  \n21                  10/18/23  \n22                  10:23:09  \n23                      2023  ",
      "text/html": "<div>\n<style scoped>\n    .dataframe tbody tr th:only-of-type {\n        vertical-align: middle;\n    }\n\n    .dataframe tbody tr th {\n        vertical-align: top;\n    }\n\n    .dataframe thead th {\n        text-align: right;\n    }\n</style>\n<table border=\"1\" class=\"dataframe\">\n  <thead>\n    <tr style=\"text-align: right;\">\n      <th></th>\n      <th>Directive</th>\n      <th>Meaning</th>\n      <th>Translation</th>\n      <th>Example</th>\n    </tr>\n  </thead>\n  <tbody>\n    <tr>\n      <th>0</th>\n      <td>%a</td>\n      <td>Weekday as locale’s abbreviated name.</td>\n      <td>以地區的縮寫名稱表示星期幾。</td>\n      <td>Wed</td>\n    </tr>\n    <tr>\n      <th>1</th>\n      <td>%A</td>\n      <td>Weekday as locale’s full name.</td>\n      <td>以地區的全名表示星期幾。</td>\n      <td>Wednesday</td>\n    </tr>\n    <tr>\n      <th>2</th>\n      <td>%w</td>\n      <td>Weekday as a decimal number, where 0 is Sunday and 6 is Saturday.</td>\n      <td>以十進位制數字表示星期幾，其中0是星期日，6是星期六。</td>\n      <td>3</td>\n    </tr>\n    <tr>\n      <th>3</th>\n      <td>%d</td>\n      <td>Day of the month as a zero-padded decimal number.</td>\n      <td>以填充0的十進位制數字表示每個月的日期。</td>\n      <td>18</td>\n    </tr>\n    <tr>\n      <th>4</th>\n      <td>%b</td>\n      <td>Month as locale’s abbreviated name.</td>\n      <td>以地區的縮寫名稱表示月份。</td>\n      <td>Oct</td>\n    </tr>\n    <tr>\n      <th>5</th>\n      <td>%B</td>\n      <td>Month as locale’s full name.</td>\n      <td>以地區的全名表示月份。</td>\n      <td>October</td>\n    </tr>\n    <tr>\n      <th>6</th>\n      <td>%m</td>\n      <td>Month as a zero-padded decimal number.</td>\n      <td>以填充0的十進位制數字表示月份。</td>\n      <td>10</td>\n    </tr>\n    <tr>\n      <th>7</th>\n      <td>%y</td>\n      <td>Year without century as a zero-padded decimal number.</td>\n      <td>年份不包含世紀，以填充0的十進位制數字表示。</td>\n      <td>23</td>\n    </tr>\n    <tr>\n      <th>8</th>\n      <td>%Y</td>\n      <td>Year with century as a decimal number.</td>\n      <td>以十進位制數字表示包含世紀的年份。</td>\n      <td>2023</td>\n    </tr>\n    <tr>\n      <th>9</th>\n      <td>%H</td>\n      <td>Hour (24-hour clock) as a zero-padded decimal number.</td>\n      <td>以填充0的十進位制數字表示24小時制的時間。</td>\n      <td>10</td>\n    </tr>\n    <tr>\n      <th>10</th>\n      <td>%I</td>\n      <td>Hour (12-hour clock) as a zero-padded decimal number.</td>\n      <td>以填充0的十進位制數字表示12小時制的時間。</td>\n      <td>10</td>\n    </tr>\n    <tr>\n      <th>11</th>\n      <td>%p</td>\n      <td>Locale’s equivalent of either AM or PM.</td>\n      <td>地區等同於上午或下午的表示方式。</td>\n      <td>AM</td>\n    </tr>\n    <tr>\n      <th>12</th>\n      <td>%M</td>\n      <td>Minute as a zero-padded decimal number.</td>\n      <td>以填充0的十進位制數字表示分鐘。</td>\n      <td>23</td>\n    </tr>\n    <tr>\n      <th>13</th>\n      <td>%S</td>\n      <td>Second as a zero-padded decimal number.</td>\n      <td>以填充0的十進位制數字表示秒數。</td>\n      <td>09</td>\n    </tr>\n    <tr>\n      <th>14</th>\n      <td>%f</td>\n      <td>Microsecond as a decimal number, zero-padded on the left.</td>\n      <td>毫秒以十進位制數字表示，左側填充0。</td>\n      <td>364839</td>\n    </tr>\n    <tr>\n      <th>15</th>\n      <td>%z</td>\n      <td>UTC offset in the form of +HHMM or -HHMM.</td>\n      <td>UTC偏移量以+HHMM或-HHMM的形式表示。</td>\n      <td></td>\n    </tr>\n    <tr>\n      <th>16</th>\n      <td>%Z</td>\n      <td>Time zone name (empty string if the object is naive).</td>\n      <td>時區名稱（如果該物件是單純的，則為空字串）。</td>\n      <td></td>\n    </tr>\n    <tr>\n      <th>17</th>\n      <td>%j</td>\n      <td>Day of the year as a zero-padded decimal number.</td>\n      <td>以填充0的十進位制數字表示一年中的第幾天。</td>\n      <td>291</td>\n    </tr>\n    <tr>\n      <th>18</th>\n      <td>%U</td>\n      <td>Week number of the year (Sunday as the first day of the week) as a zero padded decimal number. All days in a new year preceding the first Sunday are considered to be in week 0.</td>\n      <td>以填充0的十進位制數字表示一年中的週數（星期日為一週的第一天）。在新年裡首次出現星期日之前的所有日子都被認為是在第0週內。</td>\n      <td>42</td>\n    </tr>\n    <tr>\n      <th>19</th>\n      <td>%W</td>\n      <td>Week number of the year (Monday as the first day of the week) as a decimal number. All days in a new year preceding the first Monday are considered to be in week 0.</td>\n      <td>以十進位制數字表示一年中的週數（星期一為一週的第一天）。在新年裡首次出現星期一之前的所有日子都被認為是在第0週內。</td>\n      <td>42</td>\n    </tr>\n    <tr>\n      <th>20</th>\n      <td>%c</td>\n      <td>Locale’s appropriate date and time representation.</td>\n      <td>地區適當的日期和時間表示法。</td>\n      <td>Wed Oct 18 10:23:09 2023</td>\n    </tr>\n    <tr>\n      <th>21</th>\n      <td>%x</td>\n      <td>Locale’s appropriate date representation.</td>\n      <td>地區適當的日期表示法。</td>\n      <td>10/18/23</td>\n    </tr>\n    <tr>\n      <th>22</th>\n      <td>%X</td>\n      <td>Locale’s appropriate time representation.</td>\n      <td>地區適當的時間表示法。</td>\n      <td>10:23:09</td>\n    </tr>\n    <tr>\n      <th>23</th>\n      <td>%G</td>\n      <td>ISO 8601 year with century representing the year that contains the greater part of the ISO week (%V).</td>\n      <td>ISO 8601年份與世紀，代表著包含了ISO週數（%V）大部分的那一年。</td>\n      <td>2023</td>\n    </tr>\n  </tbody>\n</table>\n</div>"
     },
     "metadata": {},
     "output_type": "display_data"
    }
   ],
   "source": [
    "from datetime import datetime\n",
    "\n",
    "import pandas as pd\n",
    "\n",
    "data = {\n",
    "    \"Directive\": [\"%a\", \"%A\", \"%w\", \"%d\", \"%b\", \"%B\", \"%m\", \"%y\", \"%Y\", \"%H\", \"%I\", \"%p\", \"%M\", \"%S\", \"%f\", \"%z\", \"%Z\", \"%j\", \"%U\", \"%W\", \"%c\", \"%x\", \"%X\", \"%G\"],\n",
    "    \"Meaning\": [\"Weekday as locale’s abbreviated name.\", \"Weekday as locale’s full name.\", \"Weekday as a decimal number, where 0 is Sunday and 6 is Saturday.\",\n",
    "                \"Day of the month as a zero-padded decimal number.\", \"Month as locale’s abbreviated name.\", \"Month as locale’s full name.\", \"Month as a zero-padded decimal number.\",\n",
    "                \"Year without century as a zero-padded decimal number.\", \"Year with century as a decimal number.\",\n",
    "                \"Hour (24-hour clock) as a zero-padded decimal number.\", \"Hour (12-hour clock) as a zero-padded decimal number.\",\n",
    "                \"Locale’s equivalent of either AM or PM.\", \"Minute as a zero-padded decimal number.\", \"Second as a zero-padded decimal number.\",\n",
    "                \"Microsecond as a decimal number, zero-padded on the left.\", \"UTC offset in the form of +HHMM or -HHMM.\",\n",
    "                \"Time zone name (empty string if the object is naive).\", \"Day of the year as a zero-padded decimal number.\",\n",
    "                \"Week number of the year (Sunday as the first day of the week) as a zero padded decimal number. All days in a new year preceding the first Sunday are considered to be in week 0.\",\n",
    "                \"Week number of the year (Monday as the first day of the week) as a decimal number. All days in a new year preceding the first Monday are considered to be in week 0.\",\n",
    "                \"Locale’s appropriate date and time representation.\", \"Locale’s appropriate date representation.\", \"Locale’s appropriate time representation.\", \"ISO 8601 year with century representing the year that contains the greater part of the ISO week (%V).\"],\n",
    "    \"Translation\": [\"以地區的縮寫名稱表示星期幾。\", \"以地區的全名表示星期幾。\", \"以十進位制數字表示星期幾，其中0是星期日，6是星期六。\",\n",
    "            \"以填充0的十進位制數字表示每個月的日期。\", \"以地區的縮寫名稱表示月份。\", \"以地區的全名表示月份。\", \"以填充0的十進位制數字表示月份。\",\n",
    "            \"年份不包含世紀，以填充0的十進位制數字表示。\", \"以十進位制數字表示包含世紀的年份。\",\n",
    "            \"以填充0的十進位制數字表示24小時制的時間。\", \"以填充0的十進位制數字表示12小時制的時間。\",\n",
    "            \"地區等同於上午或下午的表示方式。\", \"以填充0的十進位制數字表示分鐘。\", \"以填充0的十進位制數字表示秒數。\",\n",
    "            \"毫秒以十進位制數字表示，左側填充0。\", \"UTC偏移量以+HHMM或-HHMM的形式表示。\",\n",
    "            \"時區名稱（如果該物件是單純的，則為空字串）。\", \"以填充0的十進位制數字表示一年中的第幾天。\",\n",
    "            \"以填充0的十進位制數字表示一年中的週數（星期日為一週的第一天）。在新年裡首次出現星期日之前的所有日子都被認為是在第0週內。\",\n",
    "            \"以十進位制數字表示一年中的週數（星期一為一週的第一天）。在新年裡首次出現星期一之前的所有日子都被認為是在第0週內。\",\n",
    "            \"地區適當的日期和時間表示法。\", \"地區適當的日期表示法。\", \"地區適當的時間表示法。\", \"ISO 8601年份與世紀，代表著包含了ISO週數（%V）大部分的那一年。\"],\n",
    "    \"Example\": [],\n",
    "}\n",
    "\n",
    "now = datetime.now()\n",
    "for directive in data[\"Directive\"]:\n",
    "    data[\"Example\"].append(now.strftime(directive))\n",
    "\n",
    "pd.set_option('display.max_colwidth', None)\n",
    "df = pd.DataFrame(data)\n",
    "display(df)"
   ]
  },
  {
   "cell_type": "code",
   "execution_count": 5,
   "outputs": [],
   "source": [],
   "metadata": {
    "collapsed": false,
    "ExecuteTime": {
     "end_time": "2023-10-18T02:17:09.258222Z",
     "start_time": "2023-10-18T02:17:09.256719Z"
    }
   },
   "id": "6070d68b75463cd8"
  }
 ],
 "metadata": {
  "kernelspec": {
   "display_name": "Python 3",
   "language": "python",
   "name": "python3"
  },
  "language_info": {
   "codemirror_mode": {
    "name": "ipython",
    "version": 2
   },
   "file_extension": ".py",
   "mimetype": "text/x-python",
   "name": "python",
   "nbconvert_exporter": "python",
   "pygments_lexer": "ipython2",
   "version": "2.7.6"
  }
 },
 "nbformat": 4,
 "nbformat_minor": 5
}
