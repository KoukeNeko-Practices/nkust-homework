{
 "cells": [
  {
   "cell_type": "markdown",
   "metadata": {},
   "source": [
    "# 範例 1\n",
    "\n",
    "![Example 1](example-1.png)\n"
   ]
  },
  {
   "cell_type": "code",
   "execution_count": 2,
   "metadata": {},
   "outputs": [
    {
     "name": "stdout",
     "output_type": "stream",
     "text": [
      "總分為 220 平均為 73.33333333333333\n"
     ]
    }
   ],
   "source": [
    "data_source: list[str] = [\n",
    "    input(\"請輸入第一次期中考成績？\"),\n",
    "    input(\"請輸入第二次期中考成績？\"),\n",
    "    input(\"請輸入期末考成績？\"),\n",
    "]\n",
    "\n",
    "score = map(int, data_source)\n",
    "summed = sum(score)\n",
    "averaged = summed / len(data_source)\n",
    "\n",
    "print(f\"總分為 {summed} 平均為 {averaged}\")\n"
   ]
  },
  {
   "cell_type": "markdown",
   "metadata": {},
   "source": [
    "# 範例 2\n",
    "\n",
    "![Example 2](example-2.png)\n"
   ]
  },
  {
   "cell_type": "code",
   "execution_count": null,
   "metadata": {},
   "outputs": [
    {
     "name": "stdout",
     "output_type": "stream",
     "text": [
      "轉換成 172.72 公分\n"
     ]
    }
   ],
   "source": [
    "[尺, 吋] = map(lambda unit: int(input(f\"請輸入幾{unit}？\")), [\"尺\", \"吋\"])\n",
    "\n",
    "print(f\"轉換成 {(尺 * 12 + 吋) * 2.54} 公分\")\n"
   ]
  },
  {
   "cell_type": "markdown",
   "metadata": {},
   "source": [
    "# 範例 3\n",
    "\n",
    "![Example 3](example-3.png)\n"
   ]
  },
  {
   "cell_type": "code",
   "execution_count": 6,
   "metadata": {},
   "outputs": [
    {
     "name": "stdout",
     "output_type": "stream",
     "text": [
      "組別為 4\n"
     ]
    }
   ],
   "source": [
    "# +1 => 組別從 1 開始計數。\n",
    "print(\"組別為 {}\".format((int(input(\"請輸入座號？\")) + 1) // 5))\n"
   ]
  },
  {
   "cell_type": "markdown",
   "metadata": {},
   "source": [
    "# 範例 4\n",
    "\n",
    "![Example 4](example-4.png)\n"
   ]
  },
  {
   "cell_type": "code",
   "execution_count": 1,
   "metadata": {},
   "outputs": [
    {
     "name": "stdout",
     "output_type": "stream",
     "text": [
      "需花費 520\n"
     ]
    }
   ],
   "source": [
    "cans = int(input(\"請輸入購買飲料的罐數？\"))\n",
    "\n",
    "dozens = cans // 12\n",
    "remainings = cans % 12\n",
    "\n",
    "print(f\"需花費 {dozens * 200 + remainings * 20}\")\n"
   ]
  }
 ],
 "metadata": {
  "kernelspec": {
   "display_name": "Python 3.11.0b5 64-bit ('3.11.0b5')",
   "language": "python",
   "name": "python3"
  },
  "language_info": {
   "codemirror_mode": {
    "name": "ipython",
    "version": 3
   },
   "file_extension": ".py",
   "mimetype": "text/x-python",
   "name": "python",
   "nbconvert_exporter": "python",
   "pygments_lexer": "ipython3",
   "version": "3.11.0b5"
  },
  "orig_nbformat": 4,
  "vscode": {
   "interpreter": {
    "hash": "a5c532ae246ac9f99ca3ece7a9d2b1c58b3e92b4cc90295403056d8d4ee2a82a"
   }
  }
 },
 "nbformat": 4,
 "nbformat_minor": 2
}
