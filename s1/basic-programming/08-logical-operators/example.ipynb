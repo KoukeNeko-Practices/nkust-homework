{
 "cells": [
  {
   "cell_type": "markdown",
   "metadata": {},
   "source": [
    "# 範例 1\n",
    "\n",
    "![Example 1](example-1.png)\n"
   ]
  },
  {
   "cell_type": "code",
   "execution_count": 6,
   "metadata": {},
   "outputs": [
    {
     "ename": "ValueError",
     "evalue": "invalid literal for int() with base 10: ''",
     "output_type": "error",
     "traceback": [
      "\u001b[0;31m---------------------------------------------------------------------------\u001b[0m",
      "\u001b[0;31mValueError\u001b[0m                                Traceback (most recent call last)",
      "\u001b[1;32m/Volumes/Dev/Homeworks/nkust-homework/s1/basic-programming/08-logical-operators/example.ipynb Cell 2\u001b[0m in \u001b[0;36m<cell line: 0>\u001b[0;34m()\u001b[0m\n\u001b[1;32m      <a href='vscode-notebook-cell:/Volumes/Dev/Homeworks/nkust-homework/s1/basic-programming/08-logical-operators/example.ipynb#W1sZmlsZQ%3D%3D?line=0'>1</a>\u001b[0m data_source: \u001b[39mlist\u001b[39m[\u001b[39mstr\u001b[39m] \u001b[39m=\u001b[39m [\n\u001b[1;32m      <a href='vscode-notebook-cell:/Volumes/Dev/Homeworks/nkust-homework/s1/basic-programming/08-logical-operators/example.ipynb#W1sZmlsZQ%3D%3D?line=1'>2</a>\u001b[0m     \u001b[39minput\u001b[39m(\u001b[39m\"\u001b[39m\u001b[39m請輸入第一次期中考成績？\u001b[39m\u001b[39m\"\u001b[39m),\n\u001b[1;32m      <a href='vscode-notebook-cell:/Volumes/Dev/Homeworks/nkust-homework/s1/basic-programming/08-logical-operators/example.ipynb#W1sZmlsZQ%3D%3D?line=2'>3</a>\u001b[0m     \u001b[39minput\u001b[39m(\u001b[39m\"\u001b[39m\u001b[39m請輸入第二次期中考成績？\u001b[39m\u001b[39m\"\u001b[39m),\n\u001b[1;32m      <a href='vscode-notebook-cell:/Volumes/Dev/Homeworks/nkust-homework/s1/basic-programming/08-logical-operators/example.ipynb#W1sZmlsZQ%3D%3D?line=3'>4</a>\u001b[0m     \u001b[39minput\u001b[39m(\u001b[39m\"\u001b[39m\u001b[39m請輸入期末考成績？\u001b[39m\u001b[39m\"\u001b[39m),\n\u001b[1;32m      <a href='vscode-notebook-cell:/Volumes/Dev/Homeworks/nkust-homework/s1/basic-programming/08-logical-operators/example.ipynb#W1sZmlsZQ%3D%3D?line=4'>5</a>\u001b[0m ]\n\u001b[1;32m      <a href='vscode-notebook-cell:/Volumes/Dev/Homeworks/nkust-homework/s1/basic-programming/08-logical-operators/example.ipynb#W1sZmlsZQ%3D%3D?line=6'>7</a>\u001b[0m score \u001b[39m=\u001b[39m \u001b[39mmap\u001b[39m(\u001b[39mint\u001b[39m, data_source)\n\u001b[0;32m----> <a href='vscode-notebook-cell:/Volumes/Dev/Homeworks/nkust-homework/s1/basic-programming/08-logical-operators/example.ipynb#W1sZmlsZQ%3D%3D?line=7'>8</a>\u001b[0m summed \u001b[39m=\u001b[39m \u001b[39msum\u001b[39m(score)\n\u001b[1;32m      <a href='vscode-notebook-cell:/Volumes/Dev/Homeworks/nkust-homework/s1/basic-programming/08-logical-operators/example.ipynb#W1sZmlsZQ%3D%3D?line=8'>9</a>\u001b[0m averaged \u001b[39m=\u001b[39m summed \u001b[39m/\u001b[39m \u001b[39mlen\u001b[39m(data_source)\n\u001b[1;32m     <a href='vscode-notebook-cell:/Volumes/Dev/Homeworks/nkust-homework/s1/basic-programming/08-logical-operators/example.ipynb#W1sZmlsZQ%3D%3D?line=10'>11</a>\u001b[0m \u001b[39mprint\u001b[39m(\u001b[39mf\u001b[39m\u001b[39m\"\u001b[39m\u001b[39m總分為 \u001b[39m\u001b[39m{\u001b[39;00msummed\u001b[39m}\u001b[39;00m\u001b[39m 平均為 \u001b[39m\u001b[39m{\u001b[39;00maveraged\u001b[39m}\u001b[39;00m\u001b[39m\"\u001b[39m)\n",
      "\u001b[0;31mValueError\u001b[0m: invalid literal for int() with base 10: ''"
     ]
    }
   ],
   "source": [
    "data_source: list[str] = [\n",
    "    input(\"請輸入第一次期中考成績？\"),\n",
    "    input(\"請輸入第二次期中考成績？\"),\n",
    "    input(\"請輸入期末考成績？\"),\n",
    "]\n",
    "\n",
    "score = map(int, data_source)\n",
    "summed = sum(score)\n",
    "averaged = summed / len(data_source)\n",
    "\n",
    "print(f\"總分為 {summed} 平均為 {averaged}\")\n"
   ]
  },
  {
   "cell_type": "markdown",
   "metadata": {},
   "source": [
    "# 範例 2\n",
    "\n",
    "![Example 2](example-2.png)\n"
   ]
  },
  {
   "cell_type": "code",
   "execution_count": null,
   "metadata": {},
   "outputs": [
    {
     "name": "stdout",
     "output_type": "stream",
     "text": [
      "轉換成 172.72 公分\n"
     ]
    }
   ],
   "source": [
    "[尺, 吋] = map(lambda unit: int(input(f\"請輸入幾{unit}？\")), [\"尺\", \"吋\"])\n",
    "\n",
    "print(f\"轉換成 {(尺 * 12 + 吋) * 2.54} 公分\")\n"
   ]
  },
  {
   "cell_type": "markdown",
   "metadata": {},
   "source": [
    "# 範例 3\n",
    "\n",
    "![Example 3](example-3.png)\n"
   ]
  },
  {
   "cell_type": "code",
   "execution_count": null,
   "metadata": {},
   "outputs": [
    {
     "name": "stdout",
     "output_type": "stream",
     "text": [
      "組別為 4\n"
     ]
    }
   ],
   "source": [
    "# +1 => 組別從 1 開始計數。\n",
    "print(\"組別為 {}\".format(int(input(\"請輸入座號？\")) // 5 + 1))\n"
   ]
  },
  {
   "cell_type": "markdown",
   "metadata": {},
   "source": [
    "# 範例 4\n",
    "\n",
    "![Example 4](example-4.png)\n"
   ]
  },
  {
   "cell_type": "code",
   "execution_count": null,
   "metadata": {},
   "outputs": [
    {
     "name": "stdout",
     "output_type": "stream",
     "text": [
      "需花費 520\n"
     ]
    }
   ],
   "source": [
    "cans = int(input(\"請輸入購買的飲料瓶數？\"))\n",
    "\n",
    "dozens = cans // 12\n",
    "remainings = cans % 12\n",
    "\n",
    "print(f\"需花費 {dozens * 200 + remainings * 20}\")\n"
   ]
  }
 ],
 "metadata": {
  "kernelspec": {
   "display_name": "Python 3.11.0b5 64-bit ('3.11.0b5')",
   "language": "python",
   "name": "python3"
  },
  "language_info": {
   "codemirror_mode": {
    "name": "ipython",
    "version": 3
   },
   "file_extension": ".py",
   "mimetype": "text/x-python",
   "name": "python",
   "nbconvert_exporter": "python",
   "pygments_lexer": "ipython3",
   "version": "3.11.0b5"
  },
  "orig_nbformat": 4,
  "vscode": {
   "interpreter": {
    "hash": "a5c532ae246ac9f99ca3ece7a9d2b1c58b3e92b4cc90295403056d8d4ee2a82a"
   }
  }
 },
 "nbformat": 4,
 "nbformat_minor": 2
}
