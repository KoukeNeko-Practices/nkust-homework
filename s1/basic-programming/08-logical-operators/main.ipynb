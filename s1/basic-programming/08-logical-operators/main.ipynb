{
 "cells": [
  {
   "cell_type": "markdown",
   "metadata": {},
   "source": [
    "# Logical Operators"
   ]
  },
  {
   "cell_type": "markdown",
   "metadata": {},
   "source": [
    "## 邏輯運算子\n",
    "\n",
    "- `not`: 反 boolean\n",
    "- `and`: 與\n",
    "- `or`: 或"
   ]
  },
  {
   "cell_type": "code",
   "execution_count": 21,
   "metadata": {},
   "outputs": [
    {
     "name": "stdout",
     "output_type": "stream",
     "text": [
      "False\n",
      "True\n",
      "True\n",
      "False\n",
      "True\n"
     ]
    }
   ],
   "source": [
    "a = 5\n",
    "b = 2\n",
    "print(a == b)\n",
    "print(not a == b)\n",
    "print(a >= b)\n",
    "print(a == b and a >= b)\n",
    "print(a == b or a >= b)\n"
   ]
  },
  {
   "cell_type": "markdown",
   "metadata": {},
   "source": [
    "## 複合指定運算子\n",
    "\n",
    "- `+=`, `-=`, etc."
   ]
  },
  {
   "cell_type": "code",
   "execution_count": 22,
   "metadata": {},
   "outputs": [
    {
     "name": "stdout",
     "output_type": "stream",
     "text": [
      "12\n"
     ]
    }
   ],
   "source": [
    "i = 10\n",
    "i += 2\n",
    "print(i)\n"
   ]
  },
  {
   "cell_type": "markdown",
   "metadata": {},
   "source": [
    "## 字串運算"
   ]
  },
  {
   "cell_type": "code",
   "execution_count": 23,
   "metadata": {},
   "outputs": [
    {
     "name": "stdout",
     "output_type": "stream",
     "text": [
      "123456789\n",
      "123456789123456789\n",
      "9\n",
      "8\n",
      "2345\n",
      "123456789\n",
      "3456789\n",
      "123\n",
      "1234567\n",
      "678\n",
      "4567\n",
      "357\n",
      "987654321\n"
     ]
    }
   ],
   "source": [
    "s = \"123456789\"\n",
    "\n",
    "print(s)\n",
    "\n",
    "print(s * 2)  # 複製字串\n",
    "print(s[8])  # 取得字串中的指定索引字元\n",
    "print(s[-2])  # 反方向\n",
    "\n",
    "print(s[1:5])  # 切割字串 [開始:結束:間隔]\n",
    "print(s[:])  # 全部顯示 (just copy)\n",
    "print(s[2:])  # idx=2 到字串結尾\n",
    "print(s[:3])  # idx=0 到 idx=2\n",
    "\n",
    "print(s[:-2])  # idx=0 到 idx=(len(s)-2)-1\n",
    "print(s[-4:-1])\n",
    "print(s[3:-2])\n",
    "\n",
    "print(s[2:8:2])\n",
    "print(s[::-1])  # 迴文"
   ]
  }
 ],
 "metadata": {
  "kernelspec": {
   "display_name": "Python 3.11.0b5 64-bit ('3.11.0b5')",
   "language": "python",
   "name": "python3"
  },
  "language_info": {
   "codemirror_mode": {
    "name": "ipython",
    "version": 3
   },
   "file_extension": ".py",
   "mimetype": "text/x-python",
   "name": "python",
   "nbconvert_exporter": "python",
   "pygments_lexer": "ipython3",
   "version": "3.11.0"
  },
  "orig_nbformat": 4,
  "vscode": {
   "interpreter": {
    "hash": "a5c532ae246ac9f99ca3ece7a9d2b1c58b3e92b4cc90295403056d8d4ee2a82a"
   }
  }
 },
 "nbformat": 4,
 "nbformat_minor": 2
}
